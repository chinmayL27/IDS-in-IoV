{
  "cells": [
    {
      "cell_type": "markdown",
      "metadata": {
        "id": "view-in-github",
        "colab_type": "text"
      },
      "source": [
        "<a href=\"https://colab.research.google.com/github/manoj-b-22/IDS-in-IoV/blob/main/code/LSTM-inter.ipynb\" target=\"_parent\"><img src=\"https://colab.research.google.com/assets/colab-badge.svg\" alt=\"Open In Colab\"/></a>"
      ]
    },
    {
      "cell_type": "code",
      "execution_count": 1,
      "metadata": {
        "id": "wNsltBIH6Eve"
      },
      "outputs": [],
      "source": [
        "import pandas as pd\n",
        "from keras.models import Sequential\n",
        "from keras.layers import LSTM, Dense\n",
        "from sklearn.preprocessing import StandardScaler, LabelEncoder"
      ]
    },
    {
      "cell_type": "code",
      "source": [
        "from google.colab import drive\n",
        "drive.mount('/content/drive')"
      ],
      "metadata": {
        "id": "0LvvSzuf6Led"
      },
      "execution_count": null,
      "outputs": []
    },
    {
      "cell_type": "code",
      "source": [
        "scaler = StandardScaler()\n",
        "encoder = LabelEncoder()"
      ],
      "metadata": {
        "id": "NskDJRX3VV7I"
      },
      "execution_count": 3,
      "outputs": []
    },
    {
      "cell_type": "code",
      "execution_count": 4,
      "metadata": {
        "id": "oNSWxJLW6Evj"
      },
      "outputs": [],
      "source": [
        "train = pd.read_csv('/content/drive/MyDrive/train-intervehicle.csv',chunksize=500000)\n",
        "test = pd.read_csv('/content/drive/MyDrive/test-intervehicle.csv')"
      ]
    },
    {
      "cell_type": "code",
      "source": [
        "model = Sequential()\n",
        "model.add(LSTM(100,input_shape=(len(test.columns)-1,1)))\n",
        "model.add(Dense(1))\n",
        "model.compile(loss='mean_squared_error', optimizer='adam', metrics=['accuracy'])\n",
        "model.summary()"
      ],
      "metadata": {
        "id": "5Gu9qMvNVcd1",
        "outputId": "24a72d22-6d86-467d-8450-96fd2fbf8131",
        "colab": {
          "base_uri": "https://localhost:8080/"
        }
      },
      "execution_count": 5,
      "outputs": [
        {
          "output_type": "stream",
          "name": "stdout",
          "text": [
            "Model: \"sequential\"\n",
            "_________________________________________________________________\n",
            " Layer (type)                Output Shape              Param #   \n",
            "=================================================================\n",
            " lstm (LSTM)                 (None, 100)               40800     \n",
            "                                                                 \n",
            " dense (Dense)               (None, 1)                 101       \n",
            "                                                                 \n",
            "=================================================================\n",
            "Total params: 40,901\n",
            "Trainable params: 40,901\n",
            "Non-trainable params: 0\n",
            "_________________________________________________________________\n"
          ]
        }
      ]
    },
    {
      "cell_type": "code",
      "source": [
        "for chunk in train:\n",
        "  train_y = chunk.pop('Label')\n",
        "  train_x = chunk\n",
        "  train_x = scaler.fit_transform(train_x)\n",
        "  train_y = encoder.fit_transform(train_y)\n",
        "  model.fit(train_x,train_y,batch_size=100)"
      ],
      "metadata": {
        "id": "gakwuCpLX7YK",
        "outputId": "a92f53fd-3bbc-4661-bdfb-ce51af11313b",
        "colab": {
          "base_uri": "https://localhost:8080/"
        }
      },
      "execution_count": null,
      "outputs": [
        {
          "output_type": "stream",
          "name": "stdout",
          "text": [
            "15625/15625 [==============================] - 75s 5ms/step - loss: 0.0126 - accuracy: 0.9860\n",
            "15625/15625 [==============================] - 82s 5ms/step - loss: 0.0077 - accuracy: 0.9901\n",
            "15625/15625 [==============================] - 72s 5ms/step - loss: 0.0019 - accuracy: 0.9980\n",
            "15625/15625 [==============================] - 72s 5ms/step - loss: 4.9226e-04 - accuracy: 0.9995\n",
            "14355/15625 [==========================>...] - ETA: 7s - loss: 3.3578e-04 - accuracy: 0.9997"
          ]
        }
      ]
    },
    {
      "cell_type": "code",
      "execution_count": null,
      "metadata": {
        "id": "eBlpAi_i6Evj"
      },
      "outputs": [],
      "source": [
        "test_y = test.pop('Label')\n",
        "test_x = test"
      ]
    },
    {
      "cell_type": "code",
      "execution_count": null,
      "metadata": {
        "id": "2n7h0UiD6Evl"
      },
      "outputs": [],
      "source": [
        "test_x = scaler.transform(test_x)\n",
        "test_y = encoder.transform(test_y)"
      ]
    },
    {
      "cell_type": "code",
      "execution_count": null,
      "metadata": {
        "id": "d2ztO8vx6Evp"
      },
      "outputs": [],
      "source": [
        "score,accuracy = model.evaluate(test_x,test_y)\n",
        "print('Score',score,\"Accuracy\",accuracy)"
      ]
    }
  ],
  "metadata": {
    "interpreter": {
      "hash": "759c5e0d3d88a894482aeabccbd08c19af37ecec916291e5ab4326292ca84839"
    },
    "kernelspec": {
      "display_name": "Python 3.10.4 64-bit",
      "language": "python",
      "name": "python3"
    },
    "language_info": {
      "codemirror_mode": {
        "name": "ipython",
        "version": 3
      },
      "file_extension": ".py",
      "mimetype": "text/x-python",
      "name": "python",
      "nbconvert_exporter": "python",
      "pygments_lexer": "ipython3",
      "version": "3.10.4"
    },
    "orig_nbformat": 4,
    "colab": {
      "name": "LSTM-inter.ipynb",
      "provenance": [],
      "include_colab_link": true
    },
    "accelerator": "GPU",
    "gpuClass": "standard"
  },
  "nbformat": 4,
  "nbformat_minor": 0
}