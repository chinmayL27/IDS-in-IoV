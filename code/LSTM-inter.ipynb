{
  "cells": [
    {
      "cell_type": "markdown",
      "metadata": {
        "id": "view-in-github",
        "colab_type": "text"
      },
      "source": [
        "<a href=\"https://colab.research.google.com/github/manoj-b-22/IDS-in-IoV/blob/main/code/LSTM-inter.ipynb\" target=\"_parent\"><img src=\"https://colab.research.google.com/assets/colab-badge.svg\" alt=\"Open In Colab\"/></a>"
      ]
    },
    {
      "cell_type": "code",
      "execution_count": 1,
      "metadata": {
        "id": "wNsltBIH6Eve"
      },
      "outputs": [],
      "source": [
        "import pandas as pd\n",
        "from keras.models import Sequential\n",
        "from keras.layers import LSTM, Dense\n",
        "from sklearn.preprocessing import StandardScaler, LabelEncoder"
      ]
    },
    {
      "cell_type": "code",
      "source": [
        "from google.colab import drive\n",
        "drive.mount('/content/drive')"
      ],
      "metadata": {
        "id": "0LvvSzuf6Led",
        "outputId": "8a603c20-049b-46df-8783-a64fe69e8e6f",
        "colab": {
          "base_uri": "https://localhost:8080/"
        }
      },
      "execution_count": 2,
      "outputs": [
        {
          "output_type": "stream",
          "name": "stdout",
          "text": [
            "Mounted at /content/drive\n"
          ]
        }
      ]
    },
    {
      "cell_type": "code",
      "source": [
        "scaler = StandardScaler()\n",
        "encoder = LabelEncoder()"
      ],
      "metadata": {
        "id": "NskDJRX3VV7I"
      },
      "execution_count": 3,
      "outputs": []
    },
    {
      "cell_type": "code",
      "execution_count": 4,
      "metadata": {
        "id": "oNSWxJLW6Evj"
      },
      "outputs": [],
      "source": [
        "train = pd.read_csv('/content/drive/MyDrive/train-intervehicle.csv',chunksize=500000)\n",
        "test = pd.read_csv('/content/drive/MyDrive/test-intervehicle.csv')"
      ]
    },
    {
      "cell_type": "code",
      "source": [
        "model = Sequential()\n",
        "model.add(LSTM(100,input_shape=(len(test.columns)-1,1)))\n",
        "model.add(Dense(1))\n",
        "model.compile(loss='binary_crossentropy', optimizer='adam', metrics=['accuracy'])\n",
        "model.summary()"
      ],
      "metadata": {
        "id": "5Gu9qMvNVcd1",
        "outputId": "3ef53dfa-b823-4c12-ee44-e46df77b2f0b",
        "colab": {
          "base_uri": "https://localhost:8080/"
        }
      },
      "execution_count": 5,
      "outputs": [
        {
          "output_type": "stream",
          "name": "stdout",
          "text": [
            "Model: \"sequential\"\n",
            "_________________________________________________________________\n",
            " Layer (type)                Output Shape              Param #   \n",
            "=================================================================\n",
            " lstm (LSTM)                 (None, 100)               40800     \n",
            "                                                                 \n",
            " dense (Dense)               (None, 1)                 101       \n",
            "                                                                 \n",
            "=================================================================\n",
            "Total params: 40,901\n",
            "Trainable params: 40,901\n",
            "Non-trainable params: 0\n",
            "_________________________________________________________________\n"
          ]
        }
      ]
    },
    {
      "cell_type": "code",
      "source": [
        "for chunk in train:\n",
        "  train_y = chunk.pop('Label')\n",
        "  train_x = chunk\n",
        "  train_x = scaler.fit_transform(train_x)\n",
        "  train_y = encoder.fit_transform(train_y)\n",
        "  model.fit(train_x,train_y,batch_size=100)"
      ],
      "metadata": {
        "id": "gakwuCpLX7YK",
        "outputId": "8ec05e75-6629-4738-a548-dbb3e12c8d81",
        "colab": {
          "base_uri": "https://localhost:8080/"
        }
      },
      "execution_count": 6,
      "outputs": [
        {
          "output_type": "stream",
          "name": "stdout",
          "text": [
            "5000/5000 [==============================] - 36s 6ms/step - loss: 5.4902 - accuracy: 0.6021\n",
            "5000/5000 [==============================] - 31s 6ms/step - loss: 7.8378 - accuracy: 0.4919\n",
            "5000/5000 [==============================] - 30s 6ms/step - loss: 7.8254 - accuracy: 0.4927\n",
            "5000/5000 [==============================] - 29s 6ms/step - loss: 7.8498 - accuracy: 0.4911\n",
            "5000/5000 [==============================] - 30s 6ms/step - loss: 7.8379 - accuracy: 0.4919\n",
            "5000/5000 [==============================] - 29s 6ms/step - loss: 7.8396 - accuracy: 0.4918\n",
            "5000/5000 [==============================] - 30s 6ms/step - loss: 7.8305 - accuracy: 0.4924\n",
            "5000/5000 [==============================] - 30s 6ms/step - loss: 7.8373 - accuracy: 0.4919\n",
            "5000/5000 [==============================] - 29s 6ms/step - loss: 7.8263 - accuracy: 0.4926\n",
            "5000/5000 [==============================] - 30s 6ms/step - loss: 7.8161 - accuracy: 0.4933\n",
            "5000/5000 [==============================] - 30s 6ms/step - loss: 7.8352 - accuracy: 0.4920\n",
            "5000/5000 [==============================] - 30s 6ms/step - loss: 7.8339 - accuracy: 0.4921\n",
            "5000/5000 [==============================] - 30s 6ms/step - loss: 7.8456 - accuracy: 0.4914\n",
            "5000/5000 [==============================] - 29s 6ms/step - loss: 7.8254 - accuracy: 0.4927\n",
            "5000/5000 [==============================] - 29s 6ms/step - loss: 7.8579 - accuracy: 0.4906\n",
            "5000/5000 [==============================] - 29s 6ms/step - loss: 7.8273 - accuracy: 0.4926\n",
            "5000/5000 [==============================] - 29s 6ms/step - loss: 7.8216 - accuracy: 0.4929\n",
            "5000/5000 [==============================] - 29s 6ms/step - loss: 7.8394 - accuracy: 0.4918\n",
            "5000/5000 [==============================] - 30s 6ms/step - loss: 7.8396 - accuracy: 0.4918\n",
            "5000/5000 [==============================] - 30s 6ms/step - loss: 7.8285 - accuracy: 0.4925\n",
            "1972/1972 [==============================] - 15s 7ms/step - loss: 7.8231 - accuracy: 0.4928\n"
          ]
        }
      ]
    },
    {
      "cell_type": "code",
      "execution_count": 7,
      "metadata": {
        "id": "eBlpAi_i6Evj"
      },
      "outputs": [],
      "source": [
        "test_y = test.pop('Label')\n",
        "test_x = test"
      ]
    },
    {
      "cell_type": "code",
      "execution_count": 8,
      "metadata": {
        "id": "2n7h0UiD6Evl"
      },
      "outputs": [],
      "source": [
        "test_x = scaler.transform(test_x)\n",
        "test_y = encoder.transform(test_y)"
      ]
    },
    {
      "cell_type": "code",
      "execution_count": 9,
      "metadata": {
        "id": "d2ztO8vx6Evp",
        "outputId": "9632b517-00ce-4c42-ef89-793a2fe651e1",
        "colab": {
          "base_uri": "https://localhost:8080/"
        }
      },
      "outputs": [
        {
          "output_type": "stream",
          "name": "stdout",
          "text": [
            "79666/79666 [==============================] - 299s 4ms/step - loss: 7.8270 - accuracy: 0.4926\n",
            "Score 7.8269524574279785 Accuracy 0.4925849735736847\n"
          ]
        }
      ],
      "source": [
        "score,accuracy = model.evaluate(test_x,test_y)\n",
        "print('Score',score,\"Accuracy\",accuracy)"
      ]
    }
  ],
  "metadata": {
    "interpreter": {
      "hash": "759c5e0d3d88a894482aeabccbd08c19af37ecec916291e5ab4326292ca84839"
    },
    "kernelspec": {
      "display_name": "Python 3.10.4 64-bit",
      "language": "python",
      "name": "python3"
    },
    "language_info": {
      "codemirror_mode": {
        "name": "ipython",
        "version": 3
      },
      "file_extension": ".py",
      "mimetype": "text/x-python",
      "name": "python",
      "nbconvert_exporter": "python",
      "pygments_lexer": "ipython3",
      "version": "3.10.4"
    },
    "orig_nbformat": 4,
    "colab": {
      "name": "LSTM-inter.ipynb",
      "provenance": [],
      "include_colab_link": true
    },
    "accelerator": "GPU",
    "gpuClass": "standard"
  },
  "nbformat": 4,
  "nbformat_minor": 0
}