{
  "cells": [
    {
      "cell_type": "markdown",
      "metadata": {
        "id": "view-in-github",
        "colab_type": "text"
      },
      "source": [
        "<a href=\"https://colab.research.google.com/github/manoj-b-22/IDS-in-IoV/blob/main/code/LSTM-inter.ipynb\" target=\"_parent\"><img src=\"https://colab.research.google.com/assets/colab-badge.svg\" alt=\"Open In Colab\"/></a>"
      ]
    },
    {
      "cell_type": "code",
      "execution_count": 1,
      "metadata": {
        "id": "wNsltBIH6Eve"
      },
      "outputs": [],
      "source": [
        "import pandas as pd\n",
        "from keras.models import Sequential\n",
        "from keras.layers import LSTM, Dense\n",
        "from sklearn.preprocessing import StandardScaler, LabelEncoder"
      ]
    },
    {
      "cell_type": "code",
      "source": [
        "from google.colab import drive\n",
        "drive.mount('/content/drive')"
      ],
      "metadata": {
        "id": "0LvvSzuf6Led",
        "outputId": "7ebd25e0-5228-49a5-816b-cd7b72bb40d6",
        "colab": {
          "base_uri": "https://localhost:8080/"
        }
      },
      "execution_count": 2,
      "outputs": [
        {
          "output_type": "stream",
          "name": "stdout",
          "text": [
            "Mounted at /content/drive\n"
          ]
        }
      ]
    },
    {
      "cell_type": "code",
      "source": [
        "scaler = StandardScaler()\n",
        "encoder = LabelEncoder()"
      ],
      "metadata": {
        "id": "NskDJRX3VV7I"
      },
      "execution_count": 3,
      "outputs": []
    },
    {
      "cell_type": "code",
      "execution_count": 4,
      "metadata": {
        "id": "oNSWxJLW6Evj"
      },
      "outputs": [],
      "source": [
        "train = pd.read_csv('/content/drive/MyDrive/train-intervehicle.csv',chunksize=500000)\n",
        "test = pd.read_csv('/content/drive/MyDrive/test-intervehicle.csv')"
      ]
    },
    {
      "cell_type": "code",
      "source": [
        "model = Sequential()\n",
        "model.add(LSTM(100,input_shape=(len(test.columns)-1,1)))\n",
        "model.add(Dense(1))\n",
        "model.compile(loss='binary_crossentropy', optimizer='adam', metrics=['accuracy'])\n",
        "model.summary()"
      ],
      "metadata": {
        "id": "5Gu9qMvNVcd1",
        "outputId": "ab73eda9-8d1d-4431-a5c6-7f1245efd030",
        "colab": {
          "base_uri": "https://localhost:8080/"
        }
      },
      "execution_count": 5,
      "outputs": [
        {
          "output_type": "stream",
          "name": "stdout",
          "text": [
            "Model: \"sequential\"\n",
            "_________________________________________________________________\n",
            " Layer (type)                Output Shape              Param #   \n",
            "=================================================================\n",
            " lstm (LSTM)                 (None, 100)               40800     \n",
            "                                                                 \n",
            " dense (Dense)               (None, 1)                 101       \n",
            "                                                                 \n",
            "=================================================================\n",
            "Total params: 40,901\n",
            "Trainable params: 40,901\n",
            "Non-trainable params: 0\n",
            "_________________________________________________________________\n"
          ]
        }
      ]
    },
    {
      "cell_type": "code",
      "source": [
        "for chunk in train:\n",
        "  train_y = chunk.pop('Label')\n",
        "  train_x = chunk\n",
        "  train_x = scaler.fit_transform(train_x)\n",
        "  train_y = encoder.fit_transform(train_y)\n",
        "  model.fit(train_x,train_y,batch_size=32)"
      ],
      "metadata": {
        "id": "gakwuCpLX7YK",
        "outputId": "4ac9f890-76bf-49bf-ca8c-bbb0993eb335",
        "colab": {
          "base_uri": "https://localhost:8080/"
        }
      },
      "execution_count": 6,
      "outputs": [
        {
          "output_type": "stream",
          "name": "stdout",
          "text": [
            "15625/15625 [==============================] - 84s 5ms/step - loss: 0.3840 - accuracy: 0.8808\n",
            "15625/15625 [==============================] - 76s 5ms/step - loss: 0.3531 - accuracy: 0.8935\n",
            "15625/15625 [==============================] - 76s 5ms/step - loss: 0.1377 - accuracy: 0.9803\n",
            "15625/15625 [==============================] - 76s 5ms/step - loss: 0.0846 - accuracy: 0.9932\n",
            "15625/15625 [==============================] - 75s 5ms/step - loss: 0.0332 - accuracy: 0.9972\n",
            "15625/15625 [==============================] - 77s 5ms/step - loss: 0.3891 - accuracy: 0.9741\n",
            "15625/15625 [==============================] - 75s 5ms/step - loss: 4.7793 - accuracy: 0.6901\n",
            "15625/15625 [==============================] - 75s 5ms/step - loss: 7.8372 - accuracy: 0.4919\n",
            "15625/15625 [==============================] - 75s 5ms/step - loss: 7.8262 - accuracy: 0.4926\n",
            "15625/15625 [==============================] - 75s 5ms/step - loss: 7.8160 - accuracy: 0.4933\n",
            "15625/15625 [==============================] - 75s 5ms/step - loss: 7.8351 - accuracy: 0.4920\n",
            "15625/15625 [==============================] - 75s 5ms/step - loss: 7.8338 - accuracy: 0.4921\n",
            "15625/15625 [==============================] - 75s 5ms/step - loss: 7.8454 - accuracy: 0.4914\n",
            "15625/15625 [==============================] - 75s 5ms/step - loss: 7.8252 - accuracy: 0.4927\n",
            "15625/15625 [==============================] - 75s 5ms/step - loss: 7.8578 - accuracy: 0.4906\n",
            "15625/15625 [==============================] - 75s 5ms/step - loss: 7.8272 - accuracy: 0.4926\n",
            "15625/15625 [==============================] - 75s 5ms/step - loss: 7.8215 - accuracy: 0.4929\n",
            "15625/15625 [==============================] - 75s 5ms/step - loss: 7.8393 - accuracy: 0.4918\n",
            "15625/15625 [==============================] - 77s 5ms/step - loss: 7.8394 - accuracy: 0.4918\n",
            "15625/15625 [==============================] - 76s 5ms/step - loss: 7.8283 - accuracy: 0.4925\n",
            "6161/6161 [==============================] - 30s 5ms/step - loss: 7.8231 - accuracy: 0.4928\n"
          ]
        }
      ]
    },
    {
      "cell_type": "code",
      "execution_count": 7,
      "metadata": {
        "id": "eBlpAi_i6Evj"
      },
      "outputs": [],
      "source": [
        "test_y = test.pop('Label')\n",
        "test_x = test"
      ]
    },
    {
      "cell_type": "code",
      "execution_count": 8,
      "metadata": {
        "id": "2n7h0UiD6Evl"
      },
      "outputs": [],
      "source": [
        "test_x = scaler.transform(test_x)\n",
        "test_y = encoder.transform(test_y)"
      ]
    },
    {
      "cell_type": "code",
      "execution_count": 9,
      "metadata": {
        "id": "d2ztO8vx6Evp",
        "outputId": "601a70ac-d502-4ea2-c09e-228ada63be49",
        "colab": {
          "base_uri": "https://localhost:8080/"
        }
      },
      "outputs": [
        {
          "output_type": "stream",
          "name": "stdout",
          "text": [
            "79666/79666 [==============================] - 306s 4ms/step - loss: 7.8270 - accuracy: 0.4926\n",
            "Score 7.8269524574279785 Accuracy 0.4925849735736847\n"
          ]
        }
      ],
      "source": [
        "score,accuracy = model.evaluate(test_x,test_y)\n",
        "print('Score',score,\"Accuracy\",accuracy)"
      ]
    }
  ],
  "metadata": {
    "interpreter": {
      "hash": "759c5e0d3d88a894482aeabccbd08c19af37ecec916291e5ab4326292ca84839"
    },
    "kernelspec": {
      "display_name": "Python 3.10.4 64-bit",
      "language": "python",
      "name": "python3"
    },
    "language_info": {
      "codemirror_mode": {
        "name": "ipython",
        "version": 3
      },
      "file_extension": ".py",
      "mimetype": "text/x-python",
      "name": "python",
      "nbconvert_exporter": "python",
      "pygments_lexer": "ipython3",
      "version": "3.10.4"
    },
    "orig_nbformat": 4,
    "colab": {
      "name": "LSTM-inter.ipynb",
      "provenance": [],
      "include_colab_link": true
    },
    "accelerator": "GPU",
    "gpuClass": "standard"
  },
  "nbformat": 4,
  "nbformat_minor": 0
}