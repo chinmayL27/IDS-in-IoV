{
  "cells": [
    {
      "cell_type": "markdown",
      "metadata": {
        "id": "view-in-github",
        "colab_type": "text"
      },
      "source": [
        "<a href=\"https://colab.research.google.com/github/manoj-b-22/IDS-in-IoV/blob/main/code/LSTM-inter.ipynb\" target=\"_parent\"><img src=\"https://colab.research.google.com/assets/colab-badge.svg\" alt=\"Open In Colab\"/></a>"
      ]
    },
    {
      "cell_type": "code",
      "execution_count": null,
      "metadata": {
        "id": "wNsltBIH6Eve"
      },
      "outputs": [],
      "source": [
        "import pandas as pd\n",
        "from keras.models import Sequential\n",
        "from keras.layers import LSTM, Dense\n",
        "from sklearn.preprocessing import StandardScaler, LabelEncoder"
      ]
    },
    {
      "cell_type": "code",
      "source": [
        "from google.colab import drive\n",
        "drive.mount('/content/drive')"
      ],
      "metadata": {
        "id": "0LvvSzuf6Led",
        "outputId": "31996d79-d171-435d-a795-2a2d171d946b",
        "colab": {
          "base_uri": "https://localhost:8080/"
        }
      },
      "execution_count": null,
      "outputs": [
        {
          "output_type": "stream",
          "name": "stdout",
          "text": [
            "Drive already mounted at /content/drive; to attempt to forcibly remount, call drive.mount(\"/content/drive\", force_remount=True).\n"
          ]
        }
      ]
    },
    {
      "cell_type": "code",
      "source": [
        "scaler = StandardScaler()\n",
        "encoder = LabelEncoder()"
      ],
      "metadata": {
        "id": "NskDJRX3VV7I"
      },
      "execution_count": null,
      "outputs": []
    },
    {
      "cell_type": "code",
      "execution_count": null,
      "metadata": {
        "id": "oNSWxJLW6Evj"
      },
      "outputs": [],
      "source": [
        "train = pd.read_csv('/content/drive/MyDrive/train-intervehicle.csv',chunksize=500000)\n",
        "test = pd.read_csv('/content/drive/MyDrive/test-intervehicle.csv')"
      ]
    },
    {
      "cell_type": "code",
      "source": [
        "model = Sequential()\n",
        "model.add(LSTM(100,input_shape=(len(test.columns)-1,1)))\n",
        "model.add(Dense(1))\n",
        "model.compile(loss='binary_crossentropy', optimizer='adam', metrics=['accuracy'])\n",
        "model.summary()"
      ],
      "metadata": {
        "id": "5Gu9qMvNVcd1",
        "outputId": "6450342c-f759-4863-f417-b09c9be38fc1",
        "colab": {
          "base_uri": "https://localhost:8080/"
        }
      },
      "execution_count": null,
      "outputs": [
        {
          "output_type": "stream",
          "name": "stdout",
          "text": [
            "Model: \"sequential_2\"\n",
            "_________________________________________________________________\n",
            " Layer (type)                Output Shape              Param #   \n",
            "=================================================================\n",
            " lstm_2 (LSTM)               (None, 100)               40800     \n",
            "                                                                 \n",
            " dense_2 (Dense)             (None, 1)                 101       \n",
            "                                                                 \n",
            "=================================================================\n",
            "Total params: 40,901\n",
            "Trainable params: 40,901\n",
            "Non-trainable params: 0\n",
            "_________________________________________________________________\n"
          ]
        }
      ]
    },
    {
      "cell_type": "code",
      "source": [
        "for chunk in train:\n",
        "  train_y = chunk.pop('Label')\n",
        "  train_x = chunk\n",
        "  train_x = scaler.fit_transform(train_x)\n",
        "  train_y = encoder.fit_transform(train_y)\n",
        "  model.fit(train_x,train_y,batch_size=100)"
      ],
      "metadata": {
        "id": "gakwuCpLX7YK",
        "outputId": "1e41ccbd-1e2c-48f4-d0cf-16b349c84c87",
        "colab": {
          "base_uri": "https://localhost:8080/"
        }
      },
      "execution_count": null,
      "outputs": [
        {
          "output_type": "stream",
          "name": "stdout",
          "text": [
            "15625/15625 [==============================] - 77s 5ms/step - loss: 1.6023 - accuracy: 0.8812\n",
            "15625/15625 [==============================] - 77s 5ms/step - loss: 1.5899 - accuracy: 0.8958\n",
            "15625/15625 [==============================] - 76s 5ms/step - loss: 7.7139 - accuracy: 0.4999\n",
            "15625/15625 [==============================] - 77s 5ms/step - loss: 7.8497 - accuracy: 0.4911\n",
            "15625/15625 [==============================] - 76s 5ms/step - loss: 7.8378 - accuracy: 0.4919\n",
            "15625/15625 [==============================] - 77s 5ms/step - loss: 7.8395 - accuracy: 0.4918\n",
            "15625/15625 [==============================] - 76s 5ms/step - loss: 7.8303 - accuracy: 0.4924\n",
            "15625/15625 [==============================] - 76s 5ms/step - loss: 7.8372 - accuracy: 0.4919\n",
            "15625/15625 [==============================] - 77s 5ms/step - loss: 7.8262 - accuracy: 0.4926\n",
            "15625/15625 [==============================] - 76s 5ms/step - loss: 7.8160 - accuracy: 0.4933\n",
            "15625/15625 [==============================] - 77s 5ms/step - loss: 7.8351 - accuracy: 0.4920\n",
            "15625/15625 [==============================] - 77s 5ms/step - loss: 7.8338 - accuracy: 0.4921\n",
            "15625/15625 [==============================] - 77s 5ms/step - loss: 7.8454 - accuracy: 0.4914\n",
            "15625/15625 [==============================] - 76s 5ms/step - loss: 7.8252 - accuracy: 0.4927\n",
            "15625/15625 [==============================] - 76s 5ms/step - loss: 7.8578 - accuracy: 0.4906\n",
            "15625/15625 [==============================] - 76s 5ms/step - loss: 7.8271 - accuracy: 0.4926\n",
            "15625/15625 [==============================] - 76s 5ms/step - loss: 7.8215 - accuracy: 0.4929\n",
            "15625/15625 [==============================] - 77s 5ms/step - loss: 7.8392 - accuracy: 0.4918\n",
            "15625/15625 [==============================] - 77s 5ms/step - loss: 7.8394 - accuracy: 0.4918\n",
            "15625/15625 [==============================] - 77s 5ms/step - loss: 7.8283 - accuracy: 0.4925\n",
            "6161/6161 [==============================] - 30s 5ms/step - loss: 7.8231 - accuracy: 0.4928\n"
          ]
        }
      ]
    },
    {
      "cell_type": "code",
      "execution_count": null,
      "metadata": {
        "id": "eBlpAi_i6Evj"
      },
      "outputs": [],
      "source": [
        "test_y = test.pop('Label')\n",
        "test_x = test"
      ]
    },
    {
      "cell_type": "code",
      "execution_count": null,
      "metadata": {
        "id": "2n7h0UiD6Evl"
      },
      "outputs": [],
      "source": [
        "test_x = scaler.transform(test_x)\n",
        "test_y = encoder.transform(test_y)"
      ]
    },
    {
      "cell_type": "code",
      "execution_count": null,
      "metadata": {
        "id": "d2ztO8vx6Evp",
        "outputId": "f50cd7e7-74ff-4ad0-b454-5793431aea78",
        "colab": {
          "base_uri": "https://localhost:8080/"
        }
      },
      "outputs": [
        {
          "output_type": "stream",
          "name": "stdout",
          "text": [
            "79666/79666 [==============================] - 316s 4ms/step - loss: 7.8270 - accuracy: 0.4926\n",
            "Score 7.8269524574279785 Accuracy 0.4925849735736847\n"
          ]
        }
      ],
      "source": [
        "score,accuracy = model.evaluate(test_x,test_y)\n",
        "print('Score',score,\"Accuracy\",accuracy)"
      ]
    }
  ],
  "metadata": {
    "interpreter": {
      "hash": "759c5e0d3d88a894482aeabccbd08c19af37ecec916291e5ab4326292ca84839"
    },
    "kernelspec": {
      "display_name": "Python 3.10.4 64-bit",
      "language": "python",
      "name": "python3"
    },
    "language_info": {
      "codemirror_mode": {
        "name": "ipython",
        "version": 3
      },
      "file_extension": ".py",
      "mimetype": "text/x-python",
      "name": "python",
      "nbconvert_exporter": "python",
      "pygments_lexer": "ipython3",
      "version": "3.10.4"
    },
    "orig_nbformat": 4,
    "colab": {
      "name": "LSTM-inter.ipynb",
      "provenance": [],
      "include_colab_link": true
    },
    "accelerator": "GPU",
    "gpuClass": "standard"
  },
  "nbformat": 4,
  "nbformat_minor": 0
}