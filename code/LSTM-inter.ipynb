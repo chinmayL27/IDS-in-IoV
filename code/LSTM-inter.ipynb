{
  "cells": [
    {
      "cell_type": "markdown",
      "metadata": {
        "id": "view-in-github",
        "colab_type": "text"
      },
      "source": [
        "<a href=\"https://colab.research.google.com/github/manoj-b-22/IDS-in-IoV/blob/main/code/LSTM-inter.ipynb\" target=\"_parent\"><img src=\"https://colab.research.google.com/assets/colab-badge.svg\" alt=\"Open In Colab\"/></a>"
      ]
    },
    {
      "cell_type": "code",
      "execution_count": null,
      "metadata": {
        "id": "wNsltBIH6Eve"
      },
      "outputs": [],
      "source": [
        "import pandas as pd\n",
        "from keras.models import Sequential\n",
        "from keras.layers import LSTM, Dense\n",
        "from sklearn.preprocessing import StandardScaler, LabelEncoder\n",
        "from sklearn.model_selection import train_test_split"
      ]
    },
    {
      "cell_type": "code",
      "source": [
        "from google.colab import drive\n",
        "drive.mount('/content/drive')"
      ],
      "metadata": {
        "id": "0LvvSzuf6Led"
      },
      "execution_count": null,
      "outputs": []
    },
    {
      "cell_type": "code",
      "execution_count": null,
      "metadata": {
        "id": "oNSWxJLW6Evj"
      },
      "outputs": [],
      "source": [
        "data = dd.read_csv('/content/drive/MyDrive/intervehicle.csv')"
      ]
    },
    {
      "cell_type": "code",
      "execution_count": null,
      "metadata": {
        "id": "eBlpAi_i6Evj"
      },
      "outputs": [],
      "source": [
        "y_data = data.pop('Label')\n",
        "x_data = data"
      ]
    },
    {
      "cell_type": "code",
      "execution_count": null,
      "metadata": {
        "id": "93p7zHYH6Evk"
      },
      "outputs": [],
      "source": [
        "train_x,test_x,train_y,test_y = train_test_split(x_data,y_data,test_size=0.2,random_state=0,shuffle=True)"
      ]
    },
    {
      "cell_type": "code",
      "execution_count": null,
      "metadata": {
        "id": "od9Kmie46Evk"
      },
      "outputs": [],
      "source": [
        "train_x = train_x.reset_index(drop=True)\n",
        "test_x = test_x.reset_index(drop=True) \n",
        "train_y = train_y.reset_index(drop=True)\n",
        "test_y = test_y.reset_index(drop=True)"
      ]
    },
    {
      "cell_type": "code",
      "execution_count": null,
      "metadata": {
        "id": "2n7h0UiD6Evl"
      },
      "outputs": [],
      "source": [
        "scaler = StandardScaler()\n",
        "train_x = scaler.fit_transform(train_x)\n",
        "test_x = scaler.transform(test_x)"
      ]
    },
    {
      "cell_type": "code",
      "source": [
        "encoder = LabelEncoder()\n",
        "train_y = encoder.fit_transform(train_y)\n",
        "test_y = encoder.transform(test_y)"
      ],
      "metadata": {
        "id": "ly0Q700U6QyL"
      },
      "execution_count": null,
      "outputs": []
    },
    {
      "cell_type": "code",
      "execution_count": null,
      "metadata": {
        "id": "UT4kLZOY6Evm",
        "outputId": "4f53ba8a-88f4-4d65-c064-a813cd0bf8a2"
      },
      "outputs": [
        {
          "name": "stdout",
          "output_type": "stream",
          "text": [
            "Model: \"sequential\"\n",
            "_________________________________________________________________\n",
            " Layer (type)                Output Shape              Param #   \n",
            "=================================================================\n",
            " lstm (LSTM)                 (None, 100)               40800     \n",
            "                                                                 \n",
            " dense (Dense)               (None, 1)                 101       \n",
            "                                                                 \n",
            "=================================================================\n",
            "Total params: 40,901\n",
            "Trainable params: 40,901\n",
            "Non-trainable params: 0\n",
            "_________________________________________________________________\n"
          ]
        }
      ],
      "source": [
        "model = Sequential()\n",
        "model.add(LSTM(100,input_shape=(len(x_data.columns),1)))\n",
        "model.add(Dense(1))\n",
        "model.compile(loss='mean_squared_error', optimizer='adam', metrics=['accuracy'])\n",
        "model.summary()"
      ]
    },
    {
      "cell_type": "code",
      "execution_count": null,
      "metadata": {
        "id": "KE0iCgYw6Evp",
        "outputId": "139d9483-f599-485f-c420-2402c87200d9"
      },
      "outputs": [
        {
          "name": "stderr",
          "output_type": "stream",
          "text": [
            "WARNING:absl:Found untraced functions such as lstm_cell_layer_call_fn, lstm_cell_layer_call_and_return_conditional_losses while saving (showing 2 of 2). These functions will not be directly callable after loading.\n"
          ]
        },
        {
          "name": "stdout",
          "output_type": "stream",
          "text": [
            "INFO:tensorflow:Assets written to: C:\\Users\\Manoj\\AppData\\Local\\Temp\\tmp4z9r4sr9\\assets\n"
          ]
        },
        {
          "name": "stderr",
          "output_type": "stream",
          "text": [
            "INFO:tensorflow:Assets written to: C:\\Users\\Manoj\\AppData\\Local\\Temp\\tmp4z9r4sr9\\assets\n",
            "WARNING:absl:Found untraced functions such as lstm_cell_1_layer_call_fn, lstm_cell_1_layer_call_and_return_conditional_losses while saving (showing 2 of 2). These functions will not be directly callable after loading.\n"
          ]
        },
        {
          "name": "stdout",
          "output_type": "stream",
          "text": [
            "INFO:tensorflow:Assets written to: C:\\Users\\Manoj\\AppData\\Local\\Temp\\tmp2fw_f4dj\\assets\n"
          ]
        },
        {
          "name": "stderr",
          "output_type": "stream",
          "text": [
            "INFO:tensorflow:Assets written to: C:\\Users\\Manoj\\AppData\\Local\\Temp\\tmp2fw_f4dj\\assets\n"
          ]
        },
        {
          "name": "stdout",
          "output_type": "stream",
          "text": [
            "4089/4089 [==============================] - 246s 59ms/step - loss: 0.0022 - accuracy: 0.9975\n",
            "Epoch 2/2\n",
            "4079/4079 [==============================] - 154s 38ms/step - loss: 1.7864e-05 - accuracy: 1.0000\n",
            "Epoch 3/3\n",
            "5007/5007 [==============================] - 190s 38ms/step - loss: 2.9400e-04 - accuracy: 0.9996\n",
            "Epoch 4/4\n",
            "4088/4088 [==============================] - 157s 38ms/step - loss: 0.0023 - accuracy: 0.9980\n",
            "Epoch 5/5\n",
            "3740/3740 [==============================] - 165s 44ms/step - loss: 7.6651e-04 - accuracy: 0.9992\n",
            "Epoch 6/6\n",
            "3720/3720 [==============================] - 179s 48ms/step - loss: 5.4208e-08 - accuracy: 1.0000\n",
            "Epoch 7/7\n",
            "4090/4090 [==============================] - 176s 43ms/step - loss: 8.7330e-04 - accuracy: 0.9990\n",
            "Epoch 8/8\n",
            "4092/4092 [==============================] - 184s 45ms/step - loss: 7.5123e-08 - accuracy: 1.0000\n",
            "Epoch 9/9\n",
            "3740/3740 [==============================] - 220s 59ms/step - loss: 9.6143e-04 - accuracy: 0.9987\n",
            "Epoch 10/10\n",
            "3913/3913 [==============================] - 178s 45ms/step - loss: 6.6077e-08 - accuracy: 1.0000\n",
            "Epoch 11/11\n",
            "4084/4084 [==============================] - 179s 44ms/step - loss: 0.0011 - accuracy: 0.9988\n",
            "Epoch 12/12\n",
            "4092/4092 [==============================] - 170s 41ms/step - loss: 8.8299e-08 - accuracy: 1.0000\n",
            "Epoch 13/13\n",
            "4086/4086 [==============================] - 181s 44ms/step - loss: 4.7213e-07 - accuracy: 1.0000\n",
            "Epoch 14/14\n",
            "4093/4093 [==============================] - 180s 44ms/step - loss: 6.6050e-07 - accuracy: 1.0000\n",
            "Epoch 15/15\n",
            "3734/3734 [==============================] - 174s 47ms/step - loss: 0.0011 - accuracy: 0.9984\n",
            "Epoch 16/16\n",
            "4090/4090 [==============================] - 177s 43ms/step - loss: 0.0016 - accuracy: 0.9985\n",
            "Epoch 17/17\n",
            "3734/3734 [==============================] - 180s 48ms/step - loss: 9.4414e-04 - accuracy: 0.9989\n",
            "Epoch 18/18\n",
            "4091/4091 [==============================] - 194s 47ms/step - loss: 0.0013 - accuracy: 0.9983\n",
            "Epoch 19/19\n",
            "4081/4081 [==============================] - 196s 48ms/step - loss: 3.7302e-07 - accuracy: 1.0000\n",
            "Epoch 20/20\n",
            "4093/4093 [==============================] - 181s 44ms/step - loss: 6.5324e-07 - accuracy: 1.0000\n",
            "Epoch 21/21\n",
            "5073/5073 [==============================] - 218s 43ms/step - loss: 9.7278e-04 - accuracy: 0.9986\n",
            "Epoch 22/22\n",
            "4094/4094 [==============================] - 180s 44ms/step - loss: 0.0013 - accuracy: 0.9983\n",
            "Epoch 23/23\n",
            "4092/4092 [==============================] - 171s 42ms/step - loss: 4.0131e-07 - accuracy: 1.0000\n",
            "Epoch 24/24\n",
            "5094/5094 [==============================] - 213s 42ms/step - loss: 9.6269e-04 - accuracy: 0.9986\n",
            "Epoch 25/25\n",
            "4092/4092 [==============================] - 175s 43ms/step - loss: 0.0014 - accuracy: 0.9980\n",
            "Epoch 26/26\n",
            "4098/4098 [==============================] - 169s 41ms/step - loss: 2.2258e-07 - accuracy: 1.0000\n",
            "Epoch 27/27\n",
            "4763/4763 [==============================] - 203s 42ms/step - loss: 0.0011 - accuracy: 0.9985\n",
            "Epoch 28/28\n",
            "4098/4098 [==============================] - 176s 43ms/step - loss: 0.0015 - accuracy: 0.9980\n",
            "Epoch 29/29\n",
            "4093/4093 [==============================] - 179s 44ms/step - loss: 4.0504e-07 - accuracy: 1.0000\n",
            "Epoch 30/30\n",
            "3797/3797 [==============================] - 164s 43ms/step - loss: 0.0015 - accuracy: 0.9979\n",
            "Epoch 31/31\n",
            "3744/3744 [==============================] - 157s 42ms/step - loss: 2.0533e-06 - accuracy: 1.0000\n",
            "Epoch 32/32\n",
            "5078/5078 [==============================] - 210s 41ms/step - loss: 1.5038e-08 - accuracy: 1.0000\n",
            "Epoch 33/33\n",
            "4083/4083 [==============================] - 174s 43ms/step - loss: 0.0018 - accuracy: 0.9976\n",
            "Epoch 34/34\n",
            "3836/3836 [==============================] - 167s 43ms/step - loss: 0.0018 - accuracy: 0.9977\n",
            "Epoch 35/35\n",
            "3740/3740 [==============================] - 166s 44ms/step - loss: 1.2744e-06 - accuracy: 1.0000\n",
            "Epoch 36/36\n",
            "4090/4090 [==============================] - 177s 43ms/step - loss: 0.0019 - accuracy: 0.9974\n",
            "Epoch 37/37\n",
            "4078/4078 [==============================] - 165s 40ms/step - loss: 7.3175e-08 - accuracy: 1.0000\n",
            "Epoch 38/38\n",
            "4431/4431 [==============================] - 187s 42ms/step - loss: 0.0015 - accuracy: 0.9980\n",
            "Epoch 39/39\n",
            "3744/3744 [==============================] - 162s 43ms/step - loss: 5.5590e-06 - accuracy: 1.0000\n",
            "Epoch 40/40\n",
            "4093/4093 [==============================] - 185s 45ms/step - loss: 0.0019 - accuracy: 0.9973\n",
            "Epoch 41/41\n",
            "4058/4058 [==============================] - 177s 44ms/step - loss: 0.0019 - accuracy: 0.9974\n",
            "Epoch 42/42\n",
            "4094/4094 [==============================] - 179s 44ms/step - loss: 0.0023 - accuracy: 0.9969\n",
            "Epoch 43/43\n",
            "5000/5000 [==============================] - 219s 44ms/step - loss: 0.0018 - accuracy: 0.9976\n",
            "Epoch 44/44\n",
            "3739/3739 [==============================] - 157s 42ms/step - loss: 2.3660e-07 - accuracy: 1.0000\n",
            "Epoch 45/45\n",
            "4087/4087 [==============================] - 169s 41ms/step - loss: 0.0023 - accuracy: 0.9968\n",
            "Epoch 46/46\n",
            "3734/3734 [==============================] - 148s 39ms/step - loss: 0.0024 - accuracy: 0.9965\n",
            "Epoch 47/47\n",
            "4996/4996 [==============================] - 199s 40ms/step - loss: 9.9934e-08 - accuracy: 1.0000\n",
            "Epoch 48/48\n",
            "4117/4117 [==============================] - 164s 40ms/step - loss: 5.3953e-07 - accuracy: 1.0000\n",
            "Epoch 49/49\n",
            "4090/4090 [==============================] - 162s 40ms/step - loss: 0.0025 - accuracy: 0.9966\n",
            "Epoch 50/50\n",
            "4170/4170 [==============================] - 182s 44ms/step - loss: 0.0022 - accuracy: 0.9971\n",
            "Epoch 51/51\n",
            "5081/5081 [==============================] - 223s 44ms/step - loss: 1.5963e-10 - accuracy: 1.0000\n",
            "Epoch 52/52\n",
            "4092/4092 [==============================] - 183s 45ms/step - loss: 0.0023 - accuracy: 0.9968\n",
            "Epoch 53/53\n",
            "4813/4813 [==============================] - 213s 44ms/step - loss: 0.0019 - accuracy: 0.9974\n",
            "Epoch 54/54\n",
            "4090/4090 [==============================] - 177s 43ms/step - loss: 0.0025 - accuracy: 0.9966\n",
            "Epoch 55/55\n",
            "4999/4999 [==============================] - 217s 43ms/step - loss: 0.0019 - accuracy: 0.9974\n",
            "Epoch 56/56\n",
            "4078/4078 [==============================] - 183s 45ms/step - loss: 0.0026 - accuracy: 0.9963\n",
            "Epoch 57/57\n",
            "3861/3861 [==============================] - 168s 43ms/step - loss: 0.0025 - accuracy: 0.9966\n",
            "Epoch 58/58\n",
            "3876/3876 [==============================] - 167s 43ms/step - loss: 3.1167e-10 - accuracy: 1.0000\n",
            "Epoch 59/59\n",
            "4754/4754 [==============================] - 205s 43ms/step - loss: 2.9375e-07 - accuracy: 1.0000\n",
            "Epoch 60/60\n",
            "3894/3894 [==============================] - 174s 45ms/step - loss: 0.0468 - accuracy: 0.9414\n",
            "Epoch 61/61\n",
            "4961/4961 [==============================] - 211s 42ms/step - loss: 0.0021 - accuracy: 0.9970\n",
            "Epoch 62/62\n",
            "4994/4994 [==============================] - 214s 43ms/step - loss: 1.3751e-05 - accuracy: 1.0000\n",
            "Epoch 63/63\n",
            "4090/4090 [==============================] - 185s 45ms/step - loss: 0.0042 - accuracy: 0.9978\n",
            "Epoch 64/64\n",
            "4990/4990 [==============================] - 225s 45ms/step - loss: 0.0021 - accuracy: 0.9972\n",
            "Epoch 65/65\n",
            "4091/4091 [==============================] - 186s 45ms/step - loss: 0.0025 - accuracy: 0.9974\n",
            "Epoch 66/66\n",
            "4085/4085 [==============================] - 184s 45ms/step - loss: 4.2685e-05 - accuracy: 1.0000\n",
            "Epoch 67/67\n",
            "4090/4090 [==============================] - 187s 46ms/step - loss: 3.5492e-05 - accuracy: 1.0000\n",
            "Epoch 68/68\n",
            "3782/3782 [==============================] - 171s 45ms/step - loss: 0.0023 - accuracy: 0.9968\n",
            "Epoch 69/69\n",
            "3739/3739 [==============================] - 173s 46ms/step - loss: 2.4659e-05 - accuracy: 1.0000\n",
            "Epoch 70/70\n",
            "4998/4998 [==============================] - 230s 46ms/step - loss: 3.9378e-07 - accuracy: 1.0000\n",
            "Epoch 71/71\n",
            "3831/3831 [==============================] - 175s 46ms/step - loss: 4.6477e-08 - accuracy: 1.0000\n",
            "Epoch 72/72\n",
            "4095/4095 [==============================] - 185s 45ms/step - loss: 0.0018 - accuracy: 0.9976\n",
            "Epoch 73/73\n",
            "4091/4091 [==============================] - 191s 47ms/step - loss: 5.2133e-07 - accuracy: 1.0000\n",
            "Epoch 74/74\n",
            "4083/4083 [==============================] - 204s 50ms/step - loss: 2.9500e-07 - accuracy: 1.0000\n",
            "Epoch 75/75\n",
            "4086/4086 [==============================] - 209s 51ms/step - loss: 2.4902e-07 - accuracy: 1.0000\n",
            "Epoch 76/76\n",
            "4092/4092 [==============================] - 185s 45ms/step - loss: 2.1796e-07 - accuracy: 1.0000\n"
          ]
        },
        {
          "data": {
            "text/html": [
              "<style>#sk-container-id-1 {color: black;background-color: white;}#sk-container-id-1 pre{padding: 0;}#sk-container-id-1 div.sk-toggleable {background-color: white;}#sk-container-id-1 label.sk-toggleable__label {cursor: pointer;display: block;width: 100%;margin-bottom: 0;padding: 0.3em;box-sizing: border-box;text-align: center;}#sk-container-id-1 label.sk-toggleable__label-arrow:before {content: \"▸\";float: left;margin-right: 0.25em;color: #696969;}#sk-container-id-1 label.sk-toggleable__label-arrow:hover:before {color: black;}#sk-container-id-1 div.sk-estimator:hover label.sk-toggleable__label-arrow:before {color: black;}#sk-container-id-1 div.sk-toggleable__content {max-height: 0;max-width: 0;overflow: hidden;text-align: left;background-color: #f0f8ff;}#sk-container-id-1 div.sk-toggleable__content pre {margin: 0.2em;color: black;border-radius: 0.25em;background-color: #f0f8ff;}#sk-container-id-1 input.sk-toggleable__control:checked~div.sk-toggleable__content {max-height: 200px;max-width: 100%;overflow: auto;}#sk-container-id-1 input.sk-toggleable__control:checked~label.sk-toggleable__label-arrow:before {content: \"▾\";}#sk-container-id-1 div.sk-estimator input.sk-toggleable__control:checked~label.sk-toggleable__label {background-color: #d4ebff;}#sk-container-id-1 div.sk-label input.sk-toggleable__control:checked~label.sk-toggleable__label {background-color: #d4ebff;}#sk-container-id-1 input.sk-hidden--visually {border: 0;clip: rect(1px 1px 1px 1px);clip: rect(1px, 1px, 1px, 1px);height: 1px;margin: -1px;overflow: hidden;padding: 0;position: absolute;width: 1px;}#sk-container-id-1 div.sk-estimator {font-family: monospace;background-color: #f0f8ff;border: 1px dotted black;border-radius: 0.25em;box-sizing: border-box;margin-bottom: 0.5em;}#sk-container-id-1 div.sk-estimator:hover {background-color: #d4ebff;}#sk-container-id-1 div.sk-parallel-item::after {content: \"\";width: 100%;border-bottom: 1px solid gray;flex-grow: 1;}#sk-container-id-1 div.sk-label:hover label.sk-toggleable__label {background-color: #d4ebff;}#sk-container-id-1 div.sk-serial::before {content: \"\";position: absolute;border-left: 1px solid gray;box-sizing: border-box;top: 0;bottom: 0;left: 50%;z-index: 0;}#sk-container-id-1 div.sk-serial {display: flex;flex-direction: column;align-items: center;background-color: white;padding-right: 0.2em;padding-left: 0.2em;position: relative;}#sk-container-id-1 div.sk-item {position: relative;z-index: 1;}#sk-container-id-1 div.sk-parallel {display: flex;align-items: stretch;justify-content: center;background-color: white;position: relative;}#sk-container-id-1 div.sk-item::before, #sk-container-id-1 div.sk-parallel-item::before {content: \"\";position: absolute;border-left: 1px solid gray;box-sizing: border-box;top: 0;bottom: 0;left: 50%;z-index: -1;}#sk-container-id-1 div.sk-parallel-item {display: flex;flex-direction: column;z-index: 1;position: relative;background-color: white;}#sk-container-id-1 div.sk-parallel-item:first-child::after {align-self: flex-end;width: 50%;}#sk-container-id-1 div.sk-parallel-item:last-child::after {align-self: flex-start;width: 50%;}#sk-container-id-1 div.sk-parallel-item:only-child::after {width: 0;}#sk-container-id-1 div.sk-dashed-wrapped {border: 1px dashed gray;margin: 0 0.4em 0.5em 0.4em;box-sizing: border-box;padding-bottom: 0.4em;background-color: white;}#sk-container-id-1 div.sk-label label {font-family: monospace;font-weight: bold;display: inline-block;line-height: 1.2em;}#sk-container-id-1 div.sk-label-container {text-align: center;}#sk-container-id-1 div.sk-container {/* jupyter's `normalize.less` sets `[hidden] { display: none; }` but bootstrap.min.css set `[hidden] { display: none !important; }` so we also need the `!important` here to be able to override the default hidden behavior on the sphinx rendered scikit-learn.org. See: https://github.com/scikit-learn/scikit-learn/issues/21755 */display: inline-block !important;position: relative;}#sk-container-id-1 div.sk-text-repr-fallback {display: none;}</style><div id=\"sk-container-id-1\" class=\"sk-top-container\"><div class=\"sk-text-repr-fallback\"><pre>Incremental(estimator=KerasClassifier(epochs=10, model=&lt;keras.engine.sequential.Sequential object at 0x000002635FAC15A0&gt;, optimizer=&#x27;adam&#x27;, random_state=0),\n",
              "            random_state=0, scoring=&#x27;accuracy&#x27;)</pre><b>In a Jupyter environment, please rerun this cell to show the HTML representation or trust the notebook. <br />On GitHub, the HTML representation is unable to render, please try loading this page with nbviewer.org.</b></div><div class=\"sk-container\" hidden><div class=\"sk-item sk-dashed-wrapped\"><div class=\"sk-label-container\"><div class=\"sk-label sk-toggleable\"><input class=\"sk-toggleable__control sk-hidden--visually\" id=\"sk-estimator-id-1\" type=\"checkbox\" ><label for=\"sk-estimator-id-1\" class=\"sk-toggleable__label sk-toggleable__label-arrow\">Incremental</label><div class=\"sk-toggleable__content\"><pre>Incremental(estimator=KerasClassifier(epochs=10, model=&lt;keras.engine.sequential.Sequential object at 0x000002635FAC15A0&gt;, optimizer=&#x27;adam&#x27;, random_state=0),\n",
              "            random_state=0, scoring=&#x27;accuracy&#x27;)</pre></div></div></div><div class=\"sk-parallel\"><div class=\"sk-parallel-item\"><div class=\"sk-item\"><div class=\"sk-label-container\"><div class=\"sk-label sk-toggleable\"><input class=\"sk-toggleable__control sk-hidden--visually\" id=\"sk-estimator-id-2\" type=\"checkbox\" ><label for=\"sk-estimator-id-2\" class=\"sk-toggleable__label sk-toggleable__label-arrow\">estimator: KerasClassifier</label><div class=\"sk-toggleable__content\"><pre>KerasClassifier(\n",
              "\tmodel=&lt;keras.engine.sequential.Sequential object at 0x000002635FAC15A0&gt;\n",
              "\tbuild_fn=None\n",
              "\twarm_start=False\n",
              "\trandom_state=0\n",
              "\toptimizer=adam\n",
              "\tloss=None\n",
              "\tmetrics=None\n",
              "\tbatch_size=None\n",
              "\tvalidation_batch_size=None\n",
              "\tverbose=1\n",
              "\tcallbacks=None\n",
              "\tvalidation_split=0.0\n",
              "\tshuffle=True\n",
              "\trun_eagerly=False\n",
              "\tepochs=10\n",
              "\tclass_weight=None\n",
              ")</pre></div></div></div><div class=\"sk-serial\"><div class=\"sk-item\"><div class=\"sk-estimator sk-toggleable\"><input class=\"sk-toggleable__control sk-hidden--visually\" id=\"sk-estimator-id-3\" type=\"checkbox\" ><label for=\"sk-estimator-id-3\" class=\"sk-toggleable__label sk-toggleable__label-arrow\">KerasClassifier</label><div class=\"sk-toggleable__content\"><pre>KerasClassifier(\n",
              "\tmodel=&lt;keras.engine.sequential.Sequential object at 0x000002635FAC15A0&gt;\n",
              "\tbuild_fn=None\n",
              "\twarm_start=False\n",
              "\trandom_state=0\n",
              "\toptimizer=adam\n",
              "\tloss=None\n",
              "\tmetrics=None\n",
              "\tbatch_size=None\n",
              "\tvalidation_batch_size=None\n",
              "\tverbose=1\n",
              "\tcallbacks=None\n",
              "\tvalidation_split=0.0\n",
              "\tshuffle=True\n",
              "\trun_eagerly=False\n",
              "\tepochs=10\n",
              "\tclass_weight=None\n",
              ")</pre></div></div></div></div></div></div></div></div></div></div>"
            ],
            "text/plain": [
              "Incremental(estimator=KerasClassifier(epochs=10, model=<keras.engine.sequential.Sequential object at 0x000002635FAC15A0>, optimizer='adam', random_state=0),\n",
              "            random_state=0, scoring='accuracy')"
            ]
          },
          "execution_count": 10,
          "metadata": {},
          "output_type": "execute_result"
        }
      ],
      "source": [
        "model.fit(train_x,train_y,epochs=10,batch_size=200)"
      ]
    },
    {
      "cell_type": "code",
      "execution_count": null,
      "metadata": {
        "id": "d2ztO8vx6Evp",
        "outputId": "cded3ce7-d303-4fb6-d1fa-a1b878221fdb"
      },
      "outputs": [
        {
          "name": "stdout",
          "output_type": "stream",
          "text": [
            "1/1 [==============================] - 1s 672ms/step\n",
            "976/976 [==============================] - 76s 78ms/step\n",
            "1031/1031 [==============================] - 80s 78ms/step\n",
            "1105/1105 [==============================] - 88s 80ms/step\n",
            "1184/1184 [==============================] - 92s 78ms/step\n",
            "1276/1276 [==============================] - 101s 79ms/step\n",
            "1279/1279 [==============================] - 101s 79ms/step\n",
            "1282/1282 [==============================] - 100s 78ms/step\n",
            "1284/1284 [==============================] - 100s 78ms/step\n",
            "961/961 [==============================] - 87s 91ms/step\n",
            "961/961 [==============================] - 88s 91ms/step\n",
            "962/962 [==============================] - 92s 96ms/step\n",
            "955/955 [==============================] - 95s 99ms/step\n",
            "946/946 [==============================] - 102s 108ms/step\n",
            "962/962 [==============================] - 101s 105ms/step\n",
            "1022/1022 [==============================] - 111s 108ms/step\n",
            "1046/1046 [==============================] - 113s 108ms/step\n",
            "1210/1210 [==============================] - 139s 115ms/step\n",
            "1230/1230 [==============================] - 141s 114ms/step\n",
            "1246/1246 [==============================] - 143s 115ms/step\n",
            "1251/1251 [==============================] - 146s 117ms/step\n",
            "1250/1250 [==============================] - 145s 116ms/step\n",
            "1251/1251 [==============================] - 144s 115ms/step\n",
            "1250/1250 [==============================] - 142s 114ms/step\n",
            "1249/1249 [==============================] - 142s 113ms/step\n",
            "928/928 [==============================] - 107s 115ms/step\n",
            "940/940 [==============================] - 108s 115ms/step\n",
            "1191/1191 [==============================] - 142s 119ms/step\n",
            "1251/1251 [==============================] - 155s 124ms/step\n",
            "934/934 [==============================] - 120s 129ms/step\n",
            "935/935 [==============================] - 121s 130ms/step\n",
            "931/931 [==============================] - 124s 134ms/step\n",
            "933/933 [==============================] - 125s 134ms/step\n",
            "929/929 [==============================] - 135s 145ms/step\n",
            "939/939 [==============================] - 136s 145ms/step\n",
            "935/935 [==============================] - 132s 141ms/step\n",
            "936/936 [==============================] - 130s 139ms/step\n",
            "934/934 [==============================] - 126s 134ms/step\n",
            "970/970 [==============================] - 130s 134ms/step\n",
            "1020/1020 [==============================] - 136s 133ms/step\n",
            "1020/1020 [==============================] - 136s 133ms/step\n",
            "   2/1021 [..............................] - ETA: 1:51"
          ]
        }
      ],
      "source": [
        "model.score(test_x,test_y)"
      ]
    }
  ],
  "metadata": {
    "interpreter": {
      "hash": "759c5e0d3d88a894482aeabccbd08c19af37ecec916291e5ab4326292ca84839"
    },
    "kernelspec": {
      "display_name": "Python 3.10.4 64-bit",
      "language": "python",
      "name": "python3"
    },
    "language_info": {
      "codemirror_mode": {
        "name": "ipython",
        "version": 3
      },
      "file_extension": ".py",
      "mimetype": "text/x-python",
      "name": "python",
      "nbconvert_exporter": "python",
      "pygments_lexer": "ipython3",
      "version": "3.10.4"
    },
    "orig_nbformat": 4,
    "colab": {
      "name": "LSTM-inter.ipynb",
      "provenance": [],
      "include_colab_link": true
    },
    "accelerator": "GPU",
    "gpuClass": "standard"
  },
  "nbformat": 4,
  "nbformat_minor": 0
}