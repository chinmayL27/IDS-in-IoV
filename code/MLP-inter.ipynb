{
 "cells": [
  {
   "cell_type": "code",
   "execution_count": 3,
   "metadata": {},
   "outputs": [],
   "source": [
    "import dask.dataframe as dd\n",
    "from sklearn.neural_network import MLPClassifier\n",
    "from dask.ml.model_selection import train_test_split\n",
    "from sklearn.metrics import accuracy_score, confusion_matrix, classification_report"
   ]
  },
  {
   "cell_type": "code",
   "execution_count": 5,
   "metadata": {},
   "outputs": [],
   "source": [
    "def printReport(test_y,predict_y):\n",
    "  accuracy = accuracy_score(test_y, predict_y)\n",
    "  print('Accuracy: %.7f' % accuracy)\n",
    "\n",
    "  # T up-down  F left-right\n",
    "  print('Confusion Matrix')                      #  TP FP\n",
    "  print(confusion_matrix(test_y,predict_y))      #  FN TN \n",
    "\n",
    "  print(classification_report(test_y,predict_y,digits=7))"
   ]
  },
  {
   "cell_type": "code",
   "execution_count": null,
   "metadata": {},
   "outputs": [],
   "source": [
    "data = dd.read_csv('../data/intervehicle.csv',index_col=0)"
   ]
  },
  {
   "cell_type": "code",
   "execution_count": null,
   "metadata": {},
   "outputs": [],
   "source": [
    "y_data = data.pop('Label')\n",
    "x_data = data\n",
    "print(\"X data shape\",len(x_data),len(x_data.columns))\n",
    "print(\"Y data shape\",len(y_data))"
   ]
  },
  {
   "cell_type": "code",
   "execution_count": 7,
   "metadata": {},
   "outputs": [],
   "source": [
    "train_x,test_x,train_y,test_y = train_test_split(x_data,y_data,test_size=0.2,random_state=0)\n",
    "print(\"Training Data shapes\",train_x.shape,train_y.shape)\n",
    "print(\"Testing Data shapes\",test_x.shape,test_y.shape)"
   ]
  },
  {
   "cell_type": "code",
   "execution_count": null,
   "metadata": {},
   "outputs": [],
   "source": [
    "train_x.reset_index(drop=True,inplace=True)\n",
    "test_x.reset_index(drop=True,inplace=True)\n",
    "train_y.reset_index(drop=True,inplace=True)\n",
    "test_y.reset_index(drop=True,inplace=True)"
   ]
  }
 ],
 "metadata": {
  "interpreter": {
   "hash": "759c5e0d3d88a894482aeabccbd08c19af37ecec916291e5ab4326292ca84839"
  },
  "kernelspec": {
   "display_name": "Python 3.10.4 64-bit",
   "language": "python",
   "name": "python3"
  },
  "language_info": {
   "codemirror_mode": {
    "name": "ipython",
    "version": 3
   },
   "file_extension": ".py",
   "mimetype": "text/x-python",
   "name": "python",
   "nbconvert_exporter": "python",
   "pygments_lexer": "ipython3",
   "version": "3.10.4"
  },
  "orig_nbformat": 4
 },
 "nbformat": 4,
 "nbformat_minor": 2
}
