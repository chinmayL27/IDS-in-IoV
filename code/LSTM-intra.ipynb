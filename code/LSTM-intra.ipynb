{
  "cells": [
    {
      "cell_type": "markdown",
      "metadata": {
        "id": "view-in-github",
        "colab_type": "text"
      },
      "source": [
        "<a href=\"https://colab.research.google.com/github/manoj-b-22/IDS-in-IoV/blob/main/code/LSTM-intra.ipynb\" target=\"_parent\"><img src=\"https://colab.research.google.com/assets/colab-badge.svg\" alt=\"Open In Colab\"/></a>"
      ]
    },
    {
      "cell_type": "code",
      "execution_count": 1,
      "metadata": {
        "id": "x_lqCqztvLtx"
      },
      "outputs": [],
      "source": [
        "import pandas as pd\n",
        "from keras.models import Sequential\n",
        "from keras.layers import LSTM, Dense\n",
        "from sklearn.preprocessing import StandardScaler, LabelEncoder\n",
        "from sklearn.model_selection import train_test_split"
      ]
    },
    {
      "cell_type": "code",
      "source": [
        "from google.colab import drive\n",
        "drive.mount('/content/drive')"
      ],
      "metadata": {
        "colab": {
          "base_uri": "https://localhost:8080/"
        },
        "id": "WJXQmaox4bYn",
        "outputId": "1f800e70-1a00-48c1-a204-4c360f92e2fb"
      },
      "execution_count": 2,
      "outputs": [
        {
          "output_type": "stream",
          "name": "stdout",
          "text": [
            "Mounted at /content/drive\n"
          ]
        }
      ]
    },
    {
      "cell_type": "code",
      "execution_count": 3,
      "metadata": {
        "id": "tBxpPDtivLt2"
      },
      "outputs": [],
      "source": [
        "data = pd.read_csv('/content/drive/MyDrive/intravehicle.csv')"
      ]
    },
    {
      "cell_type": "code",
      "execution_count": 4,
      "metadata": {
        "id": "452Ccu5YvLt2"
      },
      "outputs": [],
      "source": [
        "y_data = data.pop('4')\n",
        "x_data = data"
      ]
    },
    {
      "cell_type": "code",
      "execution_count": 5,
      "metadata": {
        "id": "UL3S4QGtvLt3"
      },
      "outputs": [],
      "source": [
        "train_x,test_x,train_y,test_y = train_test_split(x_data,y_data,test_size=0.2,random_state=0,shuffle=True)"
      ]
    },
    {
      "cell_type": "code",
      "execution_count": 6,
      "metadata": {
        "id": "E95fZ2v5vLt3"
      },
      "outputs": [],
      "source": [
        "train_x = train_x.reset_index(drop=True)\n",
        "test_x = test_x.reset_index(drop=True) \n",
        "train_y = train_y.reset_index(drop=True)\n",
        "test_y = test_y.reset_index(drop=True)"
      ]
    },
    {
      "cell_type": "code",
      "execution_count": 7,
      "metadata": {
        "id": "-h3s8Vu5vLt4"
      },
      "outputs": [],
      "source": [
        "scaler = StandardScaler()\n",
        "train_x = scaler.fit_transform(train_x)\n",
        "test_x = scaler.transform(test_x)"
      ]
    },
    {
      "cell_type": "code",
      "source": [
        "encoder = LabelEncoder()\n",
        "train_y = encoder.fit_transform(train_y)\n",
        "test_y = encoder.transform(test_y)"
      ],
      "metadata": {
        "id": "0g8kmSI65dZ4"
      },
      "execution_count": 8,
      "outputs": []
    },
    {
      "cell_type": "code",
      "execution_count": 9,
      "metadata": {
        "colab": {
          "base_uri": "https://localhost:8080/"
        },
        "id": "rN9H85-7vLt5",
        "outputId": "6a70facf-36ba-4ba5-a010-28bac6c24840"
      },
      "outputs": [
        {
          "output_type": "stream",
          "name": "stdout",
          "text": [
            "Model: \"sequential\"\n",
            "_________________________________________________________________\n",
            " Layer (type)                Output Shape              Param #   \n",
            "=================================================================\n",
            " lstm (LSTM)                 (None, 100)               40800     \n",
            "                                                                 \n",
            " dense (Dense)               (None, 4)                 404       \n",
            "                                                                 \n",
            "=================================================================\n",
            "Total params: 41,204\n",
            "Trainable params: 41,204\n",
            "Non-trainable params: 0\n",
            "_________________________________________________________________\n"
          ]
        }
      ],
      "source": [
        "model = Sequential()\n",
        "model.add(LSTM(100,input_shape=(len(x_data.columns),1)))\n",
        "model.add(Dense(4,activation='softmax'))\n",
        "model.compile(loss='sparse_categorical_crossentropy', optimizer='adam', metrics=['accuracy'])\n",
        "model.summary()"
      ]
    },
    {
      "cell_type": "code",
      "source": [
        "model.fit(train_x,train_y,epochs=6,batch_size=32)"
      ],
      "metadata": {
        "colab": {
          "base_uri": "https://localhost:8080/"
        },
        "id": "j7_7uA8R5Ddw",
        "outputId": "80d38528-2fc8-437e-ba3c-ab73d8ae261a"
      },
      "execution_count": 10,
      "outputs": [
        {
          "output_type": "stream",
          "name": "stdout",
          "text": [
            "Epoch 1/6\n",
            "414237/414237 [==============================] - 1470s 4ms/step - loss: 0.0404 - accuracy: 0.9862\n",
            "Epoch 2/6\n",
            "414237/414237 [==============================] - 1430s 3ms/step - loss: 0.0262 - accuracy: 0.9910\n",
            "Epoch 3/6\n",
            "414237/414237 [==============================] - 1428s 3ms/step - loss: 0.0213 - accuracy: 0.9922\n",
            "Epoch 4/6\n",
            "414237/414237 [==============================] - 1427s 3ms/step - loss: 0.0149 - accuracy: 0.9952\n",
            "Epoch 5/6\n",
            "414237/414237 [==============================] - 1423s 3ms/step - loss: 0.0097 - accuracy: 0.9977\n",
            "Epoch 6/6\n",
            "414237/414237 [==============================] - 1424s 3ms/step - loss: 0.0075 - accuracy: 0.9985\n"
          ]
        },
        {
          "output_type": "execute_result",
          "data": {
            "text/plain": [
              "<keras.callbacks.History at 0x7fbc70162090>"
            ]
          },
          "metadata": {},
          "execution_count": 10
        }
      ]
    },
    {
      "cell_type": "code",
      "execution_count": 11,
      "metadata": {
        "id": "4gaIsMLTvLt8",
        "outputId": "b293dbd6-1e9a-4c69-a3cf-e98257643fcd",
        "colab": {
          "base_uri": "https://localhost:8080/"
        }
      },
      "outputs": [
        {
          "output_type": "stream",
          "name": "stdout",
          "text": [
            "103560/103560 [==============================] - 251s 2ms/step - loss: 0.0077 - accuracy: 0.9990\n",
            "Score 0.0077451313845813274 Accuracy 0.9990093111991882\n"
          ]
        }
      ],
      "source": [
        "score,accuracy = model.evaluate(test_x,test_y)\n",
        "print('Score',score,\"Accuracy\",accuracy)"
      ]
    }
  ],
  "metadata": {
    "kernelspec": {
      "display_name": "Python 3.10.4 64-bit",
      "language": "python",
      "name": "python3"
    },
    "language_info": {
      "codemirror_mode": {
        "name": "ipython",
        "version": 3
      },
      "file_extension": ".py",
      "mimetype": "text/x-python",
      "name": "python",
      "nbconvert_exporter": "python",
      "pygments_lexer": "ipython3",
      "version": "3.10.4"
    },
    "orig_nbformat": 4,
    "vscode": {
      "interpreter": {
        "hash": "759c5e0d3d88a894482aeabccbd08c19af37ecec916291e5ab4326292ca84839"
      }
    },
    "colab": {
      "name": "LSTM-intra.ipynb",
      "provenance": [],
      "collapsed_sections": [],
      "include_colab_link": true
    },
    "accelerator": "GPU",
    "gpuClass": "standard"
  },
  "nbformat": 4,
  "nbformat_minor": 0
}