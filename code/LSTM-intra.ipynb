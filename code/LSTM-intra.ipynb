{
  "cells": [
    {
      "cell_type": "markdown",
      "metadata": {
        "id": "view-in-github",
        "colab_type": "text"
      },
      "source": [
        "<a href=\"https://colab.research.google.com/github/manoj-b-22/IDS-in-IoV/blob/main/code/LSTM-intra.ipynb\" target=\"_parent\"><img src=\"https://colab.research.google.com/assets/colab-badge.svg\" alt=\"Open In Colab\"/></a>"
      ]
    },
    {
      "cell_type": "code",
      "execution_count": null,
      "metadata": {
        "id": "x_lqCqztvLtx"
      },
      "outputs": [],
      "source": [
        "import numpy as np\n",
        "import pandas as pd\n",
        "from keras.models import Sequential\n",
        "from keras.layers import LSTM, Dense\n",
        "from sklearn.model_selection import train_test_split\n",
        "from sklearn.preprocessing import StandardScaler, LabelEncoder\n",
        "from sklearn.metrics import classification_report, confusion_matrix"
      ]
    },
    {
      "cell_type": "code",
      "source": [
        "from google.colab import drive\n",
        "drive.mount('/content/drive')"
      ],
      "metadata": {
        "colab": {
          "base_uri": "https://localhost:8080/"
        },
        "id": "WJXQmaox4bYn",
        "outputId": "3437f687-b5b9-4c0a-e3f8-a87b0197983f"
      },
      "execution_count": null,
      "outputs": [
        {
          "output_type": "stream",
          "name": "stdout",
          "text": [
            "Mounted at /content/drive\n"
          ]
        }
      ]
    },
    {
      "cell_type": "code",
      "execution_count": null,
      "metadata": {
        "id": "tBxpPDtivLt2"
      },
      "outputs": [],
      "source": [
        "data = pd.read_csv('/content/drive/MyDrive/intravehicle.csv')"
      ]
    },
    {
      "cell_type": "code",
      "execution_count": null,
      "metadata": {
        "id": "452Ccu5YvLt2"
      },
      "outputs": [],
      "source": [
        "y_data = data.pop('4')\n",
        "x_data = data"
      ]
    },
    {
      "cell_type": "code",
      "execution_count": null,
      "metadata": {
        "id": "UL3S4QGtvLt3"
      },
      "outputs": [],
      "source": [
        "train_x, test_x, train_y, test_y = train_test_split(x_data, y_data, test_size=0.2, random_state=0, shuffle=True)"
      ]
    },
    {
      "cell_type": "code",
      "execution_count": null,
      "metadata": {
        "id": "E95fZ2v5vLt3"
      },
      "outputs": [],
      "source": [
        "train_x = train_x.reset_index(drop=True)\n",
        "test_x = test_x.reset_index(drop=True) \n",
        "train_y = train_y.reset_index(drop=True)\n",
        "test_y = test_y.reset_index(drop=True)"
      ]
    },
    {
      "cell_type": "code",
      "execution_count": null,
      "metadata": {
        "id": "-h3s8Vu5vLt4"
      },
      "outputs": [],
      "source": [
        "scaler = StandardScaler()\n",
        "train_x = scaler.fit_transform(train_x)\n",
        "test_x = scaler.transform(test_x)"
      ]
    },
    {
      "cell_type": "code",
      "source": [
        "encoder = LabelEncoder()\n",
        "train_y = encoder.fit_transform(train_y)\n",
        "test_y = encoder.transform(test_y)"
      ],
      "metadata": {
        "id": "0g8kmSI65dZ4"
      },
      "execution_count": null,
      "outputs": []
    },
    {
      "cell_type": "code",
      "execution_count": null,
      "metadata": {
        "colab": {
          "base_uri": "https://localhost:8080/"
        },
        "id": "rN9H85-7vLt5",
        "outputId": "624174bc-77f6-40ad-d21d-78c0b71e1a38"
      },
      "outputs": [
        {
          "output_type": "stream",
          "name": "stdout",
          "text": [
            "Model: \"sequential\"\n",
            "_________________________________________________________________\n",
            " Layer (type)                Output Shape              Param #   \n",
            "=================================================================\n",
            " lstm (LSTM)                 (None, 100)               40800     \n",
            "                                                                 \n",
            " dense (Dense)               (None, 4)                 404       \n",
            "                                                                 \n",
            "=================================================================\n",
            "Total params: 41,204\n",
            "Trainable params: 41,204\n",
            "Non-trainable params: 0\n",
            "_________________________________________________________________\n"
          ]
        }
      ],
      "source": [
        "model = Sequential()\n",
        "model.add(LSTM(100, input_shape=(len(x_data.columns), 1), activation='tanh', recurrent_activation='sigmoid'))\n",
        "model.add(Dense(4, activation='softmax'))\n",
        "model.compile(loss='sparse_categorical_crossentropy', optimizer='adam', metrics=['accuracy'])\n",
        "model.summary()"
      ]
    },
    {
      "cell_type": "code",
      "source": [
        "model.fit(train_x, train_y, epochs=6, batch_size=32)"
      ],
      "metadata": {
        "colab": {
          "base_uri": "https://localhost:8080/"
        },
        "id": "j7_7uA8R5Ddw",
        "outputId": "2104d818-277c-4a43-98eb-d628a56d1f28"
      },
      "execution_count": null,
      "outputs": [
        {
          "output_type": "stream",
          "name": "stdout",
          "text": [
            "Epoch 1/6\n",
            "414237/414237 [==============================] - 1484s 4ms/step - loss: 0.0413 - accuracy: 0.9858\n",
            "Epoch 2/6\n",
            "414237/414237 [==============================] - 1442s 3ms/step - loss: 0.0261 - accuracy: 0.9910\n",
            "Epoch 3/6\n",
            "414237/414237 [==============================] - 1430s 3ms/step - loss: 0.0175 - accuracy: 0.9940\n",
            "Epoch 4/6\n",
            "414237/414237 [==============================] - 1417s 3ms/step - loss: 0.0084 - accuracy: 0.9981\n",
            "Epoch 5/6\n",
            "414237/414237 [==============================] - 1415s 3ms/step - loss: 0.0067 - accuracy: 0.9985\n",
            "Epoch 6/6\n",
            "414237/414237 [==============================] - 1427s 3ms/step - loss: 0.0062 - accuracy: 0.9987\n"
          ]
        },
        {
          "output_type": "execute_result",
          "data": {
            "text/plain": [
              "<keras.callbacks.History at 0x7ff47c1fb7d0>"
            ]
          },
          "metadata": {},
          "execution_count": 10
        }
      ]
    },
    {
      "cell_type": "code",
      "execution_count": null,
      "metadata": {
        "id": "4gaIsMLTvLt8",
        "outputId": "88ee74d7-9691-4a5d-c3e7-e5997ed97b04",
        "colab": {
          "base_uri": "https://localhost:8080/"
        }
      },
      "outputs": [
        {
          "output_type": "stream",
          "name": "stdout",
          "text": [
            "103560/103560 [==============================] - 247s 2ms/step - loss: 0.0045 - accuracy: 0.9989\n",
            "Score 0.004455830901861191 Accuracy 0.9989230036735535\n"
          ]
        }
      ],
      "source": [
        "pred = model.predict(test_x, verbose=1)\n",
        "pred_y = np.argmax(pred, axis=2)"
      ]
    },
    {
      "cell_type": "code",
      "source": [
        "confusion_matrix(test_y, pred_y)"
      ],
      "metadata": {
        "id": "8k9tnRe6rn4T"
      },
      "execution_count": null,
      "outputs": []
    },
    {
      "cell_type": "code",
      "source": [
        "report = classification_report(test_y, pred_y)"
      ],
      "metadata": {
        "id": "RHezzPpRrp_T"
      },
      "execution_count": null,
      "outputs": []
    }
  ],
  "metadata": {
    "kernelspec": {
      "display_name": "Python 3.10.4 64-bit",
      "language": "python",
      "name": "python3"
    },
    "language_info": {
      "codemirror_mode": {
        "name": "ipython",
        "version": 3
      },
      "file_extension": ".py",
      "mimetype": "text/x-python",
      "name": "python",
      "nbconvert_exporter": "python",
      "pygments_lexer": "ipython3",
      "version": "3.10.4"
    },
    "orig_nbformat": 4,
    "vscode": {
      "interpreter": {
        "hash": "759c5e0d3d88a894482aeabccbd08c19af37ecec916291e5ab4326292ca84839"
      }
    },
    "colab": {
      "name": "LSTM-intra.ipynb",
      "provenance": [],
      "collapsed_sections": [],
      "include_colab_link": true
    },
    "accelerator": "GPU",
    "gpuClass": "standard"
  },
  "nbformat": 4,
  "nbformat_minor": 0
}