{
  "cells": [
    {
      "cell_type": "markdown",
      "metadata": {
        "id": "view-in-github",
        "colab_type": "text"
      },
      "source": [
        "<a href=\"https://colab.research.google.com/github/manoj-b-22/IDS-in-IoV/blob/main/code/LSTM-intra.ipynb\" target=\"_parent\"><img src=\"https://colab.research.google.com/assets/colab-badge.svg\" alt=\"Open In Colab\"/></a>"
      ]
    },
    {
      "cell_type": "code",
      "execution_count": null,
      "metadata": {
        "id": "x_lqCqztvLtx"
      },
      "outputs": [],
      "source": [
        "import pandas as pd\n",
        "from keras.models import Sequential\n",
        "from keras.layers import LSTM, Dense\n",
        "from sklearn.preprocessing import StandardScaler, LabelEncoder\n",
        "from sklearn.model_selection import train_test_split"
      ]
    },
    {
      "cell_type": "code",
      "source": [
        "from google.colab import drive\n",
        "drive.mount('/content/drive')"
      ],
      "metadata": {
        "colab": {
          "base_uri": "https://localhost:8080/"
        },
        "id": "WJXQmaox4bYn",
        "outputId": "0610bae3-d4ae-47ff-d112-85a093e447a5"
      },
      "execution_count": null,
      "outputs": [
        {
          "output_type": "stream",
          "name": "stdout",
          "text": [
            "Mounted at /content/drive\n"
          ]
        }
      ]
    },
    {
      "cell_type": "code",
      "execution_count": null,
      "metadata": {
        "id": "tBxpPDtivLt2"
      },
      "outputs": [],
      "source": [
        "data = pd.read_csv('/content/drive/MyDrive/intravehicle.csv')"
      ]
    },
    {
      "cell_type": "code",
      "execution_count": null,
      "metadata": {
        "id": "452Ccu5YvLt2"
      },
      "outputs": [],
      "source": [
        "y_data = data.pop('4')\n",
        "x_data = data"
      ]
    },
    {
      "cell_type": "code",
      "execution_count": null,
      "metadata": {
        "id": "UL3S4QGtvLt3"
      },
      "outputs": [],
      "source": [
        "train_x,test_x,train_y,test_y = train_test_split(x_data,y_data,test_size=0.2,random_state=0,shuffle=True)"
      ]
    },
    {
      "cell_type": "code",
      "execution_count": null,
      "metadata": {
        "id": "E95fZ2v5vLt3"
      },
      "outputs": [],
      "source": [
        "train_x = train_x.reset_index(drop=True)\n",
        "test_x = test_x.reset_index(drop=True) \n",
        "train_y = train_y.reset_index(drop=True)\n",
        "test_y = test_y.reset_index(drop=True)"
      ]
    },
    {
      "cell_type": "code",
      "execution_count": null,
      "metadata": {
        "id": "-h3s8Vu5vLt4"
      },
      "outputs": [],
      "source": [
        "scaler = StandardScaler()\n",
        "train_x = scaler.fit_transform(train_x)\n",
        "test_x = scaler.transform(test_x)"
      ]
    },
    {
      "cell_type": "code",
      "source": [
        "encoder = LabelEncoder()\n",
        "train_y = encoder.fit_transform(train_y)\n",
        "test_y = encoder.transform(test_y)"
      ],
      "metadata": {
        "id": "0g8kmSI65dZ4"
      },
      "execution_count": null,
      "outputs": []
    },
    {
      "cell_type": "code",
      "execution_count": null,
      "metadata": {
        "colab": {
          "base_uri": "https://localhost:8080/"
        },
        "id": "rN9H85-7vLt5",
        "outputId": "7299b234-f04a-4774-c8ae-3ab9f5afced3"
      },
      "outputs": [
        {
          "output_type": "stream",
          "name": "stdout",
          "text": [
            "Model: \"sequential\"\n",
            "_________________________________________________________________\n",
            " Layer (type)                Output Shape              Param #   \n",
            "=================================================================\n",
            " lstm (LSTM)                 (None, 100)               40800     \n",
            "                                                                 \n",
            " dense (Dense)               (None, 4)                 404       \n",
            "                                                                 \n",
            "=================================================================\n",
            "Total params: 41,204\n",
            "Trainable params: 41,204\n",
            "Non-trainable params: 0\n",
            "_________________________________________________________________\n"
          ]
        }
      ],
      "source": [
        "model = Sequential()\n",
        "model.add(LSTM(100,input_shape=(len(x_data.columns),1)))\n",
        "model.add(Dense(4,activation='softmax'))\n",
        "model.compile(loss='mean_squared_error', optimizer='adam', metrics=['accuracy'])\n",
        "model.summary()"
      ]
    },
    {
      "cell_type": "code",
      "source": [
        "model.fit(train_x,train_y,epochs=6,batch_size=32)"
      ],
      "metadata": {
        "colab": {
          "base_uri": "https://localhost:8080/"
        },
        "id": "j7_7uA8R5Ddw",
        "outputId": "c65e2313-3869-4734-cde9-1b263d8e1972"
      },
      "execution_count": null,
      "outputs": [
        {
          "output_type": "stream",
          "name": "stdout",
          "text": [
            "Epoch 1/10\n",
            "13256/13256 [==============================] - 60s 4ms/step - loss: 3.2221 - accuracy: 0.2598\n",
            "Epoch 2/10\n",
            "13256/13256 [==============================] - 56s 4ms/step - loss: 3.2221 - accuracy: 0.2559\n",
            "Epoch 3/10\n",
            "13256/13256 [==============================] - 56s 4ms/step - loss: 3.2221 - accuracy: 0.2507\n",
            "Epoch 4/10\n",
            "13256/13256 [==============================] - 57s 4ms/step - loss: 3.2221 - accuracy: 0.2622\n",
            "Epoch 5/10\n",
            "13256/13256 [==============================] - 56s 4ms/step - loss: 3.2221 - accuracy: 0.2619\n",
            "Epoch 6/10\n",
            "13256/13256 [==============================] - 56s 4ms/step - loss: 3.2221 - accuracy: 0.2533\n",
            "Epoch 7/10\n",
            "13256/13256 [==============================] - 56s 4ms/step - loss: 3.2221 - accuracy: 0.2597\n",
            "Epoch 8/10\n",
            "13256/13256 [==============================] - 56s 4ms/step - loss: 3.2221 - accuracy: 0.2612\n",
            "Epoch 9/10\n",
            "13256/13256 [==============================] - 57s 4ms/step - loss: 3.2221 - accuracy: 0.2587\n",
            "Epoch 10/10\n",
            "13256/13256 [==============================] - 55s 4ms/step - loss: 3.2221 - accuracy: 0.2471\n"
          ]
        },
        {
          "output_type": "execute_result",
          "data": {
            "text/plain": [
              "<keras.callbacks.History at 0x7fb90626d090>"
            ]
          },
          "metadata": {},
          "execution_count": 13
        }
      ]
    },
    {
      "cell_type": "code",
      "execution_count": null,
      "metadata": {
        "id": "4gaIsMLTvLt8",
        "outputId": "9ccb1c48-2235-4b08-a647-4f947ae2a758",
        "colab": {
          "base_uri": "https://localhost:8080/"
        }
      },
      "outputs": [
        {
          "output_type": "stream",
          "name": "stdout",
          "text": [
            "103560/103560 [==============================] - 242s 2ms/step - loss: 3.2214 - accuracy: 0.8594\n",
            "Score 3.2213902473449707 Accuracy 0.8593712449073792\n"
          ]
        }
      ],
      "source": [
        "score,accuracy = model.evaluate(test_x,test_y)\n",
        "print('Score',score,\"Accuracy\",accuracy)"
      ]
    }
  ],
  "metadata": {
    "kernelspec": {
      "display_name": "Python 3.10.4 64-bit",
      "language": "python",
      "name": "python3"
    },
    "language_info": {
      "codemirror_mode": {
        "name": "ipython",
        "version": 3
      },
      "file_extension": ".py",
      "mimetype": "text/x-python",
      "name": "python",
      "nbconvert_exporter": "python",
      "pygments_lexer": "ipython3",
      "version": "3.10.4"
    },
    "orig_nbformat": 4,
    "vscode": {
      "interpreter": {
        "hash": "759c5e0d3d88a894482aeabccbd08c19af37ecec916291e5ab4326292ca84839"
      }
    },
    "colab": {
      "name": "LSTM-intra.ipynb",
      "provenance": [],
      "collapsed_sections": [],
      "include_colab_link": true
    },
    "accelerator": "GPU",
    "gpuClass": "standard"
  },
  "nbformat": 4,
  "nbformat_minor": 0
}