{
  "cells": [
    {
      "cell_type": "markdown",
      "metadata": {
        "id": "view-in-github",
        "colab_type": "text"
      },
      "source": [
        "<a href=\"https://colab.research.google.com/github/manoj-b-22/IDS-in-IoV/blob/main/code/GRU-inter.ipynb\" target=\"_parent\"><img src=\"https://colab.research.google.com/assets/colab-badge.svg\" alt=\"Open In Colab\"/></a>"
      ]
    },
    {
      "cell_type": "code",
      "execution_count": 1,
      "metadata": {
        "id": "wNsltBIH6Eve"
      },
      "outputs": [],
      "source": [
        "import pandas as pd\n",
        "from keras.models import Sequential\n",
        "from keras.layers import GRU, Dense\n",
        "from sklearn.preprocessing import StandardScaler, LabelEncoder"
      ]
    },
    {
      "cell_type": "code",
      "source": [
        "from google.colab import drive\n",
        "drive.mount('/content/drive')"
      ],
      "metadata": {
        "id": "0LvvSzuf6Led",
        "colab": {
          "base_uri": "https://localhost:8080/"
        },
        "outputId": "356e4f1b-6e74-4b99-de20-fee9b5fa8b30"
      },
      "execution_count": 2,
      "outputs": [
        {
          "output_type": "stream",
          "name": "stdout",
          "text": [
            "Mounted at /content/drive\n"
          ]
        }
      ]
    },
    {
      "cell_type": "code",
      "source": [
        "scaler = StandardScaler()\n",
        "encoder = LabelEncoder()"
      ],
      "metadata": {
        "id": "NskDJRX3VV7I"
      },
      "execution_count": 3,
      "outputs": []
    },
    {
      "cell_type": "code",
      "execution_count": 4,
      "metadata": {
        "id": "oNSWxJLW6Evj"
      },
      "outputs": [],
      "source": [
        "train = pd.read_csv('/content/drive/MyDrive/train-intervehicle.csv',chunksize=500000)\n",
        "test = pd.read_csv('/content/drive/MyDrive/test-intervehicle.csv')"
      ]
    },
    {
      "cell_type": "code",
      "source": [
        "model = Sequential()\n",
        "model.add(GRU(100,input_shape=(len(test.columns)-1,1)))\n",
        "model.add(Dense(1))\n",
        "model.compile(loss='mean_squared_error', optimizer='adam', metrics=['accuracy'])\n",
        "model.summary()"
      ],
      "metadata": {
        "colab": {
          "base_uri": "https://localhost:8080/"
        },
        "id": "5Gu9qMvNVcd1",
        "outputId": "df8d303b-3052-44f3-dd8c-8705a60f3376"
      },
      "execution_count": 5,
      "outputs": [
        {
          "output_type": "stream",
          "name": "stdout",
          "text": [
            "Model: \"sequential\"\n",
            "_________________________________________________________________\n",
            " Layer (type)                Output Shape              Param #   \n",
            "=================================================================\n",
            " gru (GRU)                   (None, 100)               30900     \n",
            "                                                                 \n",
            " dense (Dense)               (None, 1)                 101       \n",
            "                                                                 \n",
            "=================================================================\n",
            "Total params: 31,001\n",
            "Trainable params: 31,001\n",
            "Non-trainable params: 0\n",
            "_________________________________________________________________\n"
          ]
        }
      ]
    },
    {
      "cell_type": "code",
      "source": [
        "for chunk in train:\n",
        "  train_y = chunk.pop('Label')\n",
        "  train_x = chunk\n",
        "  train_x = scaler.fit_transform(train_x)\n",
        "  train_y = encoder.fit_transform(train_y)\n",
        "  model.fit(train_x,train_y,batch_size=100)"
      ],
      "metadata": {
        "colab": {
          "base_uri": "https://localhost:8080/"
        },
        "id": "gakwuCpLX7YK",
        "outputId": "3772b17e-1c0b-428b-8010-4ed4897f46a2"
      },
      "execution_count": 6,
      "outputs": [
        {
          "output_type": "stream",
          "name": "stdout",
          "text": [
            "5000/5000 [==============================] - 36s 6ms/step - loss: 0.0177 - accuracy: 0.9813\n",
            "5000/5000 [==============================] - 31s 6ms/step - loss: 0.0037 - accuracy: 0.9964\n",
            "5000/5000 [==============================] - 30s 6ms/step - loss: 0.0023 - accuracy: 0.9978\n",
            "5000/5000 [==============================] - 30s 6ms/step - loss: 0.0012 - accuracy: 0.9989\n",
            "5000/5000 [==============================] - 32s 6ms/step - loss: 6.5134e-04 - accuracy: 0.9994\n",
            "5000/5000 [==============================] - 30s 6ms/step - loss: 5.5979e-04 - accuracy: 0.9995\n",
            "5000/5000 [==============================] - 30s 6ms/step - loss: 6.8011e-04 - accuracy: 0.9993\n",
            "5000/5000 [==============================] - 30s 6ms/step - loss: 2.6566e-04 - accuracy: 0.9998\n",
            "5000/5000 [==============================] - 30s 6ms/step - loss: 3.9247e-04 - accuracy: 0.9996\n",
            "5000/5000 [==============================] - 30s 6ms/step - loss: 3.3707e-04 - accuracy: 0.9997\n",
            "5000/5000 [==============================] - 31s 6ms/step - loss: 2.1851e-04 - accuracy: 0.9998\n",
            "5000/5000 [==============================] - 30s 6ms/step - loss: 2.0736e-04 - accuracy: 0.9998\n",
            "5000/5000 [==============================] - 30s 6ms/step - loss: 2.6693e-04 - accuracy: 0.9997\n",
            "5000/5000 [==============================] - 30s 6ms/step - loss: 4.9351e-04 - accuracy: 0.9995\n",
            "5000/5000 [==============================] - 29s 6ms/step - loss: 2.7291e-04 - accuracy: 0.9998\n",
            "5000/5000 [==============================] - 29s 6ms/step - loss: 3.5505e-04 - accuracy: 0.9997\n",
            "5000/5000 [==============================] - 30s 6ms/step - loss: 1.2006e-04 - accuracy: 0.9999\n",
            "5000/5000 [==============================] - 29s 6ms/step - loss: 1.7986e-04 - accuracy: 0.9998\n",
            "5000/5000 [==============================] - 29s 6ms/step - loss: 1.4228e-04 - accuracy: 0.9999\n",
            "5000/5000 [==============================] - 30s 6ms/step - loss: 1.4701e-04 - accuracy: 0.9999\n",
            "1972/1972 [==============================] - 15s 7ms/step - loss: 1.2627e-04 - accuracy: 0.9999\n"
          ]
        }
      ]
    },
    {
      "cell_type": "code",
      "execution_count": 7,
      "metadata": {
        "id": "eBlpAi_i6Evj"
      },
      "outputs": [],
      "source": [
        "test_y = test.pop('Label')\n",
        "test_x = test"
      ]
    },
    {
      "cell_type": "code",
      "execution_count": 8,
      "metadata": {
        "id": "2n7h0UiD6Evl"
      },
      "outputs": [],
      "source": [
        "test_x = scaler.transform(test_x)\n",
        "test_y = encoder.transform(test_y)"
      ]
    },
    {
      "cell_type": "code",
      "execution_count": 9,
      "metadata": {
        "id": "d2ztO8vx6Evp",
        "colab": {
          "base_uri": "https://localhost:8080/"
        },
        "outputId": "78cbcf52-04f3-4453-83a7-ca7635618c7f"
      },
      "outputs": [
        {
          "output_type": "stream",
          "name": "stdout",
          "text": [
            "79666/79666 [==============================] - 297s 4ms/step - loss: 7.4654e-05 - accuracy: 0.9999\n",
            "Score 7.46540681575425e-05 Accuracy 0.9999297857284546\n"
          ]
        }
      ],
      "source": [
        "score,accuracy = model.evaluate(test_x,test_y)\n",
        "print('Score',score,\"Accuracy\",accuracy)"
      ]
    }
  ],
  "metadata": {
    "interpreter": {
      "hash": "759c5e0d3d88a894482aeabccbd08c19af37ecec916291e5ab4326292ca84839"
    },
    "kernelspec": {
      "display_name": "Python 3.10.4 64-bit",
      "language": "python",
      "name": "python3"
    },
    "language_info": {
      "codemirror_mode": {
        "name": "ipython",
        "version": 3
      },
      "file_extension": ".py",
      "mimetype": "text/x-python",
      "name": "python",
      "nbconvert_exporter": "python",
      "pygments_lexer": "ipython3",
      "version": "3.10.4"
    },
    "orig_nbformat": 4,
    "colab": {
      "name": "GRU-inter.ipynb",
      "provenance": [],
      "include_colab_link": true
    },
    "accelerator": "GPU",
    "gpuClass": "standard"
  },
  "nbformat": 4,
  "nbformat_minor": 0
}