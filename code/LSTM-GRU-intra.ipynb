{
  "nbformat": 4,
  "nbformat_minor": 0,
  "metadata": {
    "colab": {
      "provenance": [],
      "include_colab_link": true
    },
    "kernelspec": {
      "name": "python3",
      "display_name": "Python 3"
    },
    "language_info": {
      "name": "python"
    },
    "accelerator": "GPU"
  },
  "cells": [
    {
      "cell_type": "markdown",
      "metadata": {
        "id": "view-in-github",
        "colab_type": "text"
      },
      "source": [
        "<a href=\"https://colab.research.google.com/github/manoj-b-22/IDS-in-IoV/blob/main/code/LSTM-GRU-intra.ipynb\" target=\"_parent\"><img src=\"https://colab.research.google.com/assets/colab-badge.svg\" alt=\"Open In Colab\"/></a>"
      ]
    },
    {
      "cell_type": "code",
      "execution_count": 1,
      "metadata": {
        "id": "I6ww-1Xw83L3"
      },
      "outputs": [],
      "source": [
        "import numpy as np\n",
        "import pandas as pd\n",
        "from keras.models import Sequential\n",
        "from keras.layers import LSTM, Dense, GRU\n",
        "from sklearn.model_selection import train_test_split\n",
        "from sklearn.preprocessing import StandardScaler, LabelEncoder\n",
        "from sklearn.metrics import classification_report, confusion_matrix"
      ]
    },
    {
      "cell_type": "code",
      "source": [
        "from google.colab import drive\n",
        "drive.mount('/content/drive')"
      ],
      "metadata": {
        "id": "omFe8M46-C1k",
        "outputId": "9ea422d4-49de-4123-8f75-eae70d931229",
        "colab": {
          "base_uri": "https://localhost:8080/"
        }
      },
      "execution_count": 2,
      "outputs": [
        {
          "output_type": "stream",
          "name": "stdout",
          "text": [
            "Mounted at /content/drive\n"
          ]
        }
      ]
    },
    {
      "cell_type": "code",
      "source": [
        "data = pd.read_csv('/content/drive/MyDrive/intravehicle.csv')"
      ],
      "metadata": {
        "id": "1klkHNbm-Guw"
      },
      "execution_count": 3,
      "outputs": []
    },
    {
      "cell_type": "code",
      "source": [
        "y_data = data.pop('4')\n",
        "x_data = data"
      ],
      "metadata": {
        "id": "2ba-jn5i-Jew"
      },
      "execution_count": 4,
      "outputs": []
    },
    {
      "cell_type": "code",
      "source": [
        "train_x,test_x,train_y,test_y = train_test_split(x_data, y_data, test_size=0.2, random_state=0, shuffle=True)"
      ],
      "metadata": {
        "id": "hUFJSWtz-Me8"
      },
      "execution_count": 5,
      "outputs": []
    },
    {
      "cell_type": "code",
      "source": [
        "train_x = train_x.reset_index(drop=True)\n",
        "test_x = test_x.reset_index(drop=True) \n",
        "train_y = train_y.reset_index(drop=True)\n",
        "test_y = test_y.reset_index(drop=True)"
      ],
      "metadata": {
        "id": "Hy5BKh0D-O3k"
      },
      "execution_count": 6,
      "outputs": []
    },
    {
      "cell_type": "code",
      "source": [
        "scaler = StandardScaler()\n",
        "train_x = scaler.fit_transform(train_x)\n",
        "test_x = scaler.transform(test_x)"
      ],
      "metadata": {
        "id": "VuuvpRwe-SQ_"
      },
      "execution_count": 7,
      "outputs": []
    },
    {
      "cell_type": "code",
      "source": [
        "encoder = LabelEncoder()\n",
        "train_y = encoder.fit_transform(train_y)\n",
        "test_y = encoder.transform(test_y)"
      ],
      "metadata": {
        "id": "xIhL9lGF-UDH"
      },
      "execution_count": 8,
      "outputs": []
    },
    {
      "cell_type": "code",
      "source": [
        "model = Sequential()\n",
        "model.add(LSTM(100,input_shape=(len(x_data.columns),1), activation='tanh', recurrent_activation='sigmoid', return_sequences=True))\n",
        "model.add(Dense(100, activation='ReLU'))\n",
        "model.add(GRU(100, input_shape=(100,1), activation='tanh', recurrent_activation='sigmoid'))\n",
        "model.add(Dense(4, activation='softmax'))\n",
        "model.compile(loss='sparse_categorical_crossentropy', optimizer='adam', metrics=['accuracy'])\n",
        "model.summary()"
      ],
      "metadata": {
        "id": "DWp6JVe6-f1x",
        "colab": {
          "base_uri": "https://localhost:8080/"
        },
        "outputId": "21e18501-739b-47d1-f339-a7ea9ad3cb16"
      },
      "execution_count": 9,
      "outputs": [
        {
          "output_type": "stream",
          "name": "stdout",
          "text": [
            "Model: \"sequential\"\n",
            "_________________________________________________________________\n",
            " Layer (type)                Output Shape              Param #   \n",
            "=================================================================\n",
            " lstm (LSTM)                 (None, 4, 100)            40800     \n",
            "                                                                 \n",
            " dense (Dense)               (None, 4, 100)            10100     \n",
            "                                                                 \n",
            " gru (GRU)                   (None, 100)               60600     \n",
            "                                                                 \n",
            " dense_1 (Dense)             (None, 4)                 404       \n",
            "                                                                 \n",
            "=================================================================\n",
            "Total params: 111,904\n",
            "Trainable params: 111,904\n",
            "Non-trainable params: 0\n",
            "_________________________________________________________________\n"
          ]
        }
      ]
    },
    {
      "cell_type": "code",
      "source": [
        "model.fit(train_x, train_y, epochs=6, batch_size=32)"
      ],
      "metadata": {
        "id": "qTEcMBfO_uso",
        "colab": {
          "base_uri": "https://localhost:8080/"
        },
        "outputId": "0c6d4fea-0ffb-496b-b746-e5cc45879997"
      },
      "execution_count": 10,
      "outputs": [
        {
          "output_type": "stream",
          "name": "stdout",
          "text": [
            "Epoch 1/6\n",
            "414237/414237 [==============================] - 3067s 7ms/step - loss: 0.0325 - accuracy: 0.9891\n",
            "Epoch 2/6\n",
            "414237/414237 [==============================] - 3206s 8ms/step - loss: 0.0251 - accuracy: 0.9914\n",
            "Epoch 3/6\n",
            "414237/414237 [==============================] - 3277s 8ms/step - loss: 0.0243 - accuracy: 0.9917\n",
            "Epoch 4/6\n",
            "414237/414237 [==============================] - 3366s 8ms/step - loss: 0.0239 - accuracy: 0.9919\n",
            "Epoch 5/6\n",
            "414237/414237 [==============================] - 3370s 8ms/step - loss: 0.0229 - accuracy: 0.9920\n",
            "Epoch 6/6\n",
            "414237/414237 [==============================] - 3299s 8ms/step - loss: 0.0175 - accuracy: 0.9943\n"
          ]
        },
        {
          "output_type": "execute_result",
          "data": {
            "text/plain": [
              "<keras.callbacks.History at 0x7f5292902650>"
            ]
          },
          "metadata": {},
          "execution_count": 10
        }
      ]
    },
    {
      "cell_type": "code",
      "source": [
        "pred = model.predict(test_x, verbose=1)\n",
        "pred_y = np.argmax(pred, axis=1)"
      ],
      "metadata": {
        "id": "zlH6j8a9_x05",
        "colab": {
          "base_uri": "https://localhost:8080/"
        },
        "outputId": "3a1775d3-f2da-4b34-c1ee-45687f930567"
      },
      "execution_count": 11,
      "outputs": [
        {
          "output_type": "stream",
          "name": "stdout",
          "text": [
            "103560/103560 [==============================] - 291s 3ms/step\n"
          ]
        }
      ]
    },
    {
      "cell_type": "code",
      "source": [
        "confusion_matrix(test_y, pred_y)"
      ],
      "metadata": {
        "id": "E07LTsBLqNlk",
        "outputId": "b911d41c-85dc-4d50-b2a5-cefcd3958600",
        "colab": {
          "base_uri": "https://localhost:8080/"
        }
      },
      "execution_count": 12,
      "outputs": [
        {
          "output_type": "execute_result",
          "data": {
            "text/plain": [
              "array([[ 117727,       0,       0,       0],\n",
              "       [      0,   96132,    2070,       0],\n",
              "       [  20228,     172, 2827510,       0],\n",
              "       [      0,       0,       0,  250056]])"
            ]
          },
          "metadata": {},
          "execution_count": 12
        }
      ]
    },
    {
      "cell_type": "code",
      "source": [
        "report=classification_report(test_y, pred_y, digits=5)\n",
        "print(report)"
      ],
      "metadata": {
        "id": "btMFaxEfqPez",
        "outputId": "91b2cacc-b71f-4aed-9b6e-8bd9f1c97859",
        "colab": {
          "base_uri": "https://localhost:8080/"
        }
      },
      "execution_count": 13,
      "outputs": [
        {
          "output_type": "stream",
          "name": "stdout",
          "text": [
            "              precision    recall  f1-score   support\n",
            "\n",
            "           0    0.85337   1.00000   0.92089    117727\n",
            "           1    0.99821   0.97892   0.98847     98202\n",
            "           2    0.99927   0.99284   0.99604   2847910\n",
            "           3    1.00000   1.00000   1.00000    250056\n",
            "\n",
            "    accuracy                        0.99322   3313895\n",
            "   macro avg    0.96271   0.99294   0.97635   3313895\n",
            "weighted avg    0.99411   0.99322   0.99345   3313895\n",
            "\n"
          ]
        }
      ]
    }
  ]
}