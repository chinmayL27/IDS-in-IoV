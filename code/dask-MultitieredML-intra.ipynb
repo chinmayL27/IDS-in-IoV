{
  "cells": [
    {
      "cell_type": "code",
      "source": [
        "!pip install dask_ml[complete] dask_ml[xgboost]"
      ],
      "metadata": {
        "id": "HuN5JoWv10vQ"
      },
      "execution_count": null,
      "outputs": []
    },
    {
      "cell_type": "code",
      "execution_count": 2,
      "metadata": {
        "id": "GVKiJ1wJ1rRh",
        "outputId": "ca04e9bc-407c-4fcd-8ec1-83fdb355fc19",
        "colab": {
          "base_uri": "https://localhost:8080/"
        }
      },
      "outputs": [
        {
          "output_type": "stream",
          "name": "stderr",
          "text": [
            "/usr/local/lib/python3.7/dist-packages/dask_xgboost/__init__.py:8: UserWarning: Dask-XGBoost has been deprecated and is no longer maintained. The functionality of this project has been included directly in XGBoost. To use Dask and XGBoost together, please use ``xgboost.dask`` instead https://xgboost.readthedocs.io/en/latest/tutorials/dask.html.\n",
            "  \"Dask-XGBoost has been deprecated and is no longer maintained. The functionality \"\n"
          ]
        }
      ],
      "source": [
        "import dask.dataframe as dd\n",
        "from dask_ml.cluster import KMeans\n",
        "from dask_ml.xgboost import XGBClassifier\n",
        "from dask_ml.model_selection import train_test_split\n",
        "from dask_ml.preprocessing import StandardScaler, LabelEncoder"
      ]
    },
    {
      "cell_type": "code",
      "source": [
        "from google.colab import drive\n",
        "drive.mount('/content/drive')"
      ],
      "metadata": {
        "id": "nmTdWf1J2fdh",
        "outputId": "355eae4a-d628-469f-c9c1-0dbe94f88226",
        "colab": {
          "base_uri": "https://localhost:8080/"
        }
      },
      "execution_count": 3,
      "outputs": [
        {
          "output_type": "stream",
          "name": "stdout",
          "text": [
            "Drive already mounted at /content/drive; to attempt to forcibly remount, call drive.mount(\"/content/drive\", force_remount=True).\n"
          ]
        }
      ]
    },
    {
      "cell_type": "code",
      "source": [
        "from dask.distributed import Client\n",
        "client = Client() "
      ],
      "metadata": {
        "id": "xEOQl1mY_AuZ"
      },
      "execution_count": null,
      "outputs": []
    },
    {
      "cell_type": "code",
      "execution_count": 4,
      "metadata": {
        "id": "_vVr5y2z1rRm"
      },
      "outputs": [],
      "source": [
        "data = dd.read_csv('/content/drive/MyDrive/intravehicle.csv')"
      ]
    },
    {
      "cell_type": "code",
      "execution_count": 5,
      "metadata": {
        "id": "Ko0CHIm01rRm"
      },
      "outputs": [],
      "source": [
        "y_data = data.pop('4')\n",
        "x_data = data"
      ]
    },
    {
      "cell_type": "code",
      "execution_count": 6,
      "metadata": {
        "id": "rAh37Hrq1rRn"
      },
      "outputs": [],
      "source": [
        "train_x,test_x,train_y,test_y = train_test_split(x_data,y_data,test_size=0.2,random_state=0,shuffle=True)"
      ]
    },
    {
      "cell_type": "code",
      "execution_count": 7,
      "metadata": {
        "id": "i60SqfOS1rRn"
      },
      "outputs": [],
      "source": [
        "train_x = train_x.reset_index(drop=True)\n",
        "test_x = test_x.reset_index(drop=True) \n",
        "train_y = train_y.reset_index(drop=True)\n",
        "test_y = test_y.reset_index(drop=True)"
      ]
    },
    {
      "cell_type": "code",
      "execution_count": 8,
      "metadata": {
        "id": "NVjiZRwj1rRp"
      },
      "outputs": [],
      "source": [
        "encoder = LabelEncoder()\n",
        "train_y= encoder.fit_transform(train_y)\n",
        "test_y = encoder.transform(test_y)"
      ]
    },
    {
      "cell_type": "code",
      "execution_count": 9,
      "metadata": {
        "id": "yxfT64BA1rRq",
        "outputId": "1278b10b-ccaa-4540-8149-1d39e0734bb1",
        "colab": {
          "base_uri": "https://localhost:8080/"
        }
      },
      "outputs": [
        {
          "output_type": "stream",
          "name": "stdout",
          "text": [
            "['DoS' 'Fuzzy' 'Normal' 'Spoof']\n",
            "[0 1 2 3]\n"
          ]
        }
      ],
      "source": [
        "keys = encoder.classes_\n",
        "values = encoder.transform(encoder.classes_)\n",
        "print(keys.compute())\n",
        "print(values.compute())"
      ]
    },
    {
      "cell_type": "code",
      "execution_count": 10,
      "metadata": {
        "id": "hqhwf4nx1rRo"
      },
      "outputs": [],
      "source": [
        "scaler = StandardScaler()\n",
        "train_x = scaler.fit_transform(train_x)\n",
        "test_x = scaler.transform(test_x)"
      ]
    },
    {
      "cell_type": "code",
      "execution_count": 11,
      "metadata": {
        "id": "efJiW49a1rRo",
        "outputId": "87cb9afd-5f1f-499f-b50e-486e8f2fee22",
        "colab": {
          "base_uri": "https://localhost:8080/"
        }
      },
      "outputs": [
        {
          "output_type": "execute_result",
          "data": {
            "text/plain": [
              "KMeans(n_clusters=4, n_jobs=-1, random_state=0)"
            ]
          },
          "metadata": {},
          "execution_count": 11
        }
      ],
      "source": [
        "CLk = KMeans(n_clusters=4, random_state=0, n_jobs=-1)\n",
        "CLk.fit(train_x)"
      ]
    },
    {
      "cell_type": "code",
      "execution_count": 12,
      "metadata": {
        "id": "eXorzdN41rRr"
      },
      "outputs": [],
      "source": [
        "xgb = XGBClassifier(objective=\"multi:softmax\", random_state=0, n_jobs=-1)"
      ]
    },
    {
      "cell_type": "code",
      "execution_count": null,
      "metadata": {
        "id": "j8wlT6Sj1rRs"
      },
      "outputs": [],
      "source": [
        "xgb.fit(train_x,train_y)"
      ]
    },
    {
      "cell_type": "code",
      "source": [
        "for data in test_x:\n",
        "  print(test_x[data].compute())\n",
        "  #predict = xgb.predict_proba(data)\n",
        "  flag = False\n",
        "  \n",
        "  if not flag:\n",
        "    #predict = CLk.predict(data)\n",
        "  #print(predict)\n",
        "    break  "
      ],
      "metadata": {
        "id": "wOS4xXhS7wG0"
      },
      "execution_count": null,
      "outputs": []
    }
  ],
  "metadata": {
    "kernelspec": {
      "display_name": "Python 3.10.7 64-bit",
      "language": "python",
      "name": "python3"
    },
    "language_info": {
      "codemirror_mode": {
        "name": "ipython",
        "version": 3
      },
      "file_extension": ".py",
      "mimetype": "text/x-python",
      "name": "python",
      "nbconvert_exporter": "python",
      "pygments_lexer": "ipython3",
      "version": "3.10.7"
    },
    "orig_nbformat": 4,
    "vscode": {
      "interpreter": {
        "hash": "759c5e0d3d88a894482aeabccbd08c19af37ecec916291e5ab4326292ca84839"
      }
    },
    "colab": {
      "provenance": []
    }
  },
  "nbformat": 4,
  "nbformat_minor": 0
}