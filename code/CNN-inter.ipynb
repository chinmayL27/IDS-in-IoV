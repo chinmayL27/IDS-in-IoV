{
  "cells": [
    {
      "cell_type": "markdown",
      "metadata": {
        "colab_type": "text",
        "id": "view-in-github"
      },
      "source": [
        "<a href=\"https://colab.research.google.com/github/manoj-b-22/IDS-in-IoV/blob/main/CNN_inter.ipynb\" target=\"_parent\"><img src=\"https://colab.research.google.com/assets/colab-badge.svg\" alt=\"Open In Colab\"/></a>"
      ]
    },
    {
      "cell_type": "code",
      "execution_count": 1,
      "metadata": {
        "id": "wNsltBIH6Eve"
      },
      "outputs": [],
      "source": [
        "import pandas as pd\n",
        "from keras.models import Sequential\n",
        "from keras.layers import Conv1D, Dense, AveragePooling1D\n",
        "from sklearn.preprocessing import StandardScaler, LabelEncoder"
      ]
    },
    {
      "cell_type": "code",
      "execution_count": 2,
      "metadata": {
        "colab": {
          "base_uri": "https://localhost:8080/"
        },
        "id": "0LvvSzuf6Led",
        "outputId": "3927c6c3-fc28-40a1-8435-c526a903d6f1"
      },
      "outputs": [
        {
          "name": "stdout",
          "output_type": "stream",
          "text": [
            "Mounted at /content/drive\n"
          ]
        }
      ],
      "source": [
        "from google.colab import drive\n",
        "drive.mount('/content/drive')"
      ]
    },
    {
      "cell_type": "code",
      "execution_count": 3,
      "metadata": {
        "id": "NskDJRX3VV7I"
      },
      "outputs": [],
      "source": [
        "scaler = StandardScaler()\n",
        "encoder = LabelEncoder()"
      ]
    },
    {
      "cell_type": "code",
      "execution_count": 4,
      "metadata": {
        "id": "oNSWxJLW6Evj"
      },
      "outputs": [],
      "source": [
        "train = pd.read_csv('/content/drive/MyDrive/train-intervehicle.csv',chunksize=500000)\n",
        "test = pd.read_csv('/content/drive/MyDrive/test-intervehicle.csv')"
      ]
    },
    {
      "cell_type": "code",
      "execution_count": 5,
      "metadata": {
        "colab": {
          "base_uri": "https://localhost:8080/"
        },
        "id": "5Gu9qMvNVcd1",
        "outputId": "d6ecf885-6ab0-4652-946b-8be4e336105b"
      },
      "outputs": [
        {
          "name": "stdout",
          "output_type": "stream",
          "text": [
            "Model: \"sequential\"\n",
            "_________________________________________________________________\n",
            " Layer (type)                Output Shape              Param #   \n",
            "=================================================================\n",
            " conv1d (Conv1D)             (None, 66, 6)             36        \n",
            "                                                                 \n",
            " average_pooling1d (AverageP  (None, 33, 6)            0         \n",
            " ooling1D)                                                       \n",
            "                                                                 \n",
            " conv1d_1 (Conv1D)           (None, 29, 6)             186       \n",
            "                                                                 \n",
            " average_pooling1d_1 (Averag  (None, 14, 6)            0         \n",
            " ePooling1D)                                                     \n",
            "                                                                 \n",
            " conv1d_2 (Conv1D)           (None, 10, 12)            372       \n",
            "                                                                 \n",
            " average_pooling1d_2 (Averag  (None, 5, 12)            0         \n",
            " ePooling1D)                                                     \n",
            "                                                                 \n",
            " dense (Dense)               (None, 5, 1)              13        \n",
            "                                                                 \n",
            "=================================================================\n",
            "Total params: 607\n",
            "Trainable params: 607\n",
            "Non-trainable params: 0\n",
            "_________________________________________________________________\n"
          ]
        }
      ],
      "source": [
        "model = Sequential()\n",
        "model.add(Conv1D(activation=\"sigmoid\", input_shape=(len(test.columns)-1,1), kernel_size=2, filters=100))\n",
        "model.add(AveragePooling1D(pool_size=2))\n",
        "model.add(Dense(1))\n",
        "\n",
        "model.compile(loss='binary_crossentropy', optimizer='adam', metrics=['accuracy'])\n",
        "model.summary()"
      ]
    },
    {
      "cell_type": "code",
      "execution_count": 6,
      "metadata": {
        "colab": {
          "base_uri": "https://localhost:8080/"
        },
        "id": "gakwuCpLX7YK",
        "outputId": "a6a01558-3f40-4259-cbad-f3f0d59a768d"
      },
      "outputs": [
        {
          "name": "stdout",
          "output_type": "stream",
          "text": [
            "15625/15625 [==============================] - 65s 3ms/step - loss: 7.5054 - accuracy: 0.5078\n",
            "15625/15625 [==============================] - 50s 3ms/step - loss: 7.5010 - accuracy: 0.5081\n",
            "15625/15625 [==============================] - 51s 3ms/step - loss: 7.5133 - accuracy: 0.5073\n",
            "15625/15625 [==============================] - 52s 3ms/step - loss: 7.4892 - accuracy: 0.5089\n",
            "15625/15625 [==============================] - 51s 3ms/step - loss: 7.5009 - accuracy: 0.5081\n",
            "15625/15625 [==============================] - 51s 3ms/step - loss: 7.4992 - accuracy: 0.5082\n",
            "15625/15625 [==============================] - 51s 3ms/step - loss: 7.5083 - accuracy: 0.5077\n",
            "15625/15625 [==============================] - 51s 3ms/step - loss: 7.5015 - accuracy: 0.5081\n",
            "15625/15625 [==============================] - 52s 3ms/step - loss: 7.5124 - accuracy: 0.5074\n",
            "15625/15625 [==============================] - 50s 3ms/step - loss: 7.5225 - accuracy: 0.5067\n",
            "15625/15625 [==============================] - 51s 3ms/step - loss: 7.5036 - accuracy: 0.5080\n",
            "15625/15625 [==============================] - 50s 3ms/step - loss: 7.5048 - accuracy: 0.5079\n",
            "15625/15625 [==============================] - 50s 3ms/step - loss: 7.4934 - accuracy: 0.5086\n",
            "15625/15625 [==============================] - 50s 3ms/step - loss: 7.5133 - accuracy: 0.5073\n",
            "15625/15625 [==============================] - 50s 3ms/step - loss: 7.4811 - accuracy: 0.5094\n",
            "15625/15625 [==============================] - 50s 3ms/step - loss: 7.5114 - accuracy: 0.5074\n",
            "15625/15625 [==============================] - 51s 3ms/step - loss: 7.5171 - accuracy: 0.5071\n",
            "15625/15625 [==============================] - 50s 3ms/step - loss: 7.4995 - accuracy: 0.5082\n",
            "15625/15625 [==============================] - 50s 3ms/step - loss: 7.4993 - accuracy: 0.5082\n",
            "15625/15625 [==============================] - 52s 3ms/step - loss: 7.5103 - accuracy: 0.5075\n",
            "6161/6161 [==============================] - 20s 3ms/step - loss: 7.5155 - accuracy: 0.5072\n"
          ]
        }
      ],
      "source": [
        "for chunk in train:\n",
        "  train_y = chunk.pop('Label')\n",
        "  train_x = chunk\n",
        "  train_x = scaler.fit_transform(train_x)\n",
        "  train_y = encoder.fit_transform(train_y)\n",
        "  model.fit(train_x,train_y,batch_size=32,epochs=6)"
      ]
    },
    {
      "cell_type": "code",
      "execution_count": 7,
      "metadata": {
        "id": "eBlpAi_i6Evj"
      },
      "outputs": [],
      "source": [
        "test_y = test.pop('Label')\n",
        "test_x = test"
      ]
    },
    {
      "cell_type": "code",
      "execution_count": 8,
      "metadata": {
        "id": "2n7h0UiD6Evl"
      },
      "outputs": [],
      "source": [
        "test_x = scaler.transform(test_x)\n",
        "test_y = encoder.transform(test_y)"
      ]
    },
    {
      "cell_type": "code",
      "execution_count": 9,
      "metadata": {
        "colab": {
          "base_uri": "https://localhost:8080/"
        },
        "id": "d2ztO8vx6Evp",
        "outputId": "5c23c39f-0eea-4be6-dd02-a04555023d3c"
      },
      "outputs": [
        {
          "name": "stdout",
          "output_type": "stream",
          "text": [
            "79666/79666 [==============================] - 234s 3ms/step - loss: 7.5089 - accuracy: 0.5074\n",
            "Score 7.508892059326172 Accuracy 0.5074149966239929\n"
          ]
        }
      ],
      "source": [
        "score,accuracy = model.evaluate(test_x,test_y)\n",
        "print('Score',score,\"Accuracy\",accuracy)"
      ]
    }
  ],
  "metadata": {
    "accelerator": "GPU",
    "colab": {
      "collapsed_sections": [],
      "include_colab_link": true,
      "name": "CNN-inter.ipynb",
      "provenance": []
    },
    "gpuClass": "standard",
    "interpreter": {
      "hash": "759c5e0d3d88a894482aeabccbd08c19af37ecec916291e5ab4326292ca84839"
    },
    "kernelspec": {
      "display_name": "Python 3.10.4 64-bit",
      "language": "python",
      "name": "python3"
    },
    "language_info": {
      "codemirror_mode": {
        "name": "ipython",
        "version": 3
      },
      "file_extension": ".py",
      "mimetype": "text/x-python",
      "name": "python",
      "nbconvert_exporter": "python",
      "pygments_lexer": "ipython3",
      "version": "3.10.4"
    },
    "orig_nbformat": 4
  },
  "nbformat": 4,
  "nbformat_minor": 0
}
