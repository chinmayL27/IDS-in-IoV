{
  "cells": [
    {
      "cell_type": "markdown",
      "metadata": {
        "id": "view-in-github",
        "colab_type": "text"
      },
      "source": [
        "<a href=\"https://colab.research.google.com/github/manoj-b-22/IDS-in-IoV/blob/main/code/CNN-inter.ipynb\" target=\"_parent\"><img src=\"https://colab.research.google.com/assets/colab-badge.svg\" alt=\"Open In Colab\"/></a>"
      ]
    },
    {
      "cell_type": "code",
      "execution_count": 1,
      "metadata": {
        "id": "wNsltBIH6Eve"
      },
      "outputs": [],
      "source": [
        "import pandas as pd\n",
        "from keras.models import Sequential\n",
        "from keras.layers import Conv1D, Dense, AveragePooling1D\n",
        "from sklearn.preprocessing import StandardScaler, LabelEncoder"
      ]
    },
    {
      "cell_type": "code",
      "execution_count": 2,
      "metadata": {
        "colab": {
          "base_uri": "https://localhost:8080/"
        },
        "id": "0LvvSzuf6Led",
        "outputId": "f69a3106-1596-4596-fc2f-6bb99e4ffc06"
      },
      "outputs": [
        {
          "output_type": "stream",
          "name": "stdout",
          "text": [
            "Mounted at /content/drive\n"
          ]
        }
      ],
      "source": [
        "from google.colab import drive\n",
        "drive.mount('/content/drive')"
      ]
    },
    {
      "cell_type": "code",
      "execution_count": 3,
      "metadata": {
        "id": "NskDJRX3VV7I"
      },
      "outputs": [],
      "source": [
        "scaler = StandardScaler()\n",
        "encoder = LabelEncoder()"
      ]
    },
    {
      "cell_type": "code",
      "execution_count": 4,
      "metadata": {
        "id": "oNSWxJLW6Evj"
      },
      "outputs": [],
      "source": [
        "train = pd.read_csv('/content/drive/MyDrive/train-intervehicle.csv',chunksize=500000)\n",
        "test = pd.read_csv('/content/drive/MyDrive/test-intervehicle.csv')"
      ]
    },
    {
      "cell_type": "code",
      "execution_count": 5,
      "metadata": {
        "colab": {
          "base_uri": "https://localhost:8080/"
        },
        "id": "5Gu9qMvNVcd1",
        "outputId": "f088d800-3850-4f75-cd19-5fcddf3336ea"
      },
      "outputs": [
        {
          "output_type": "stream",
          "name": "stdout",
          "text": [
            "Model: \"sequential\"\n",
            "_________________________________________________________________\n",
            " Layer (type)                Output Shape              Param #   \n",
            "=================================================================\n",
            " conv1d (Conv1D)             (None, 69, 100)           300       \n",
            "                                                                 \n",
            " average_pooling1d (AverageP  (None, 34, 100)          0         \n",
            " ooling1D)                                                       \n",
            "                                                                 \n",
            " dense (Dense)               (None, 34, 1)             101       \n",
            "                                                                 \n",
            "=================================================================\n",
            "Total params: 401\n",
            "Trainable params: 401\n",
            "Non-trainable params: 0\n",
            "_________________________________________________________________\n"
          ]
        }
      ],
      "source": [
        "model = Sequential()\n",
        "model.add(Conv1D(activation=\"sigmoid\", input_shape=(len(test.columns)-1,1), kernel_size=2, filters=100))\n",
        "model.add(AveragePooling1D(pool_size=2))\n",
        "model.add(Dense(1))\n",
        "\n",
        "model.compile(loss='binary_crossentropy', optimizer='adam', metrics=['accuracy'])\n",
        "model.summary()"
      ]
    },
    {
      "cell_type": "code",
      "execution_count": 6,
      "metadata": {
        "colab": {
          "base_uri": "https://localhost:8080/"
        },
        "id": "gakwuCpLX7YK",
        "outputId": "ade87c68-c434-4775-a2da-968d1d2b977a"
      },
      "outputs": [
        {
          "output_type": "stream",
          "name": "stdout",
          "text": [
            "Epoch 1/6\n",
            "15625/15625 [==============================] - 53s 3ms/step - loss: 0.6972 - accuracy: 0.5007\n",
            "Epoch 2/6\n",
            "15625/15625 [==============================] - 41s 3ms/step - loss: 0.6971 - accuracy: 0.5012\n",
            "Epoch 3/6\n",
            "15625/15625 [==============================] - 39s 2ms/step - loss: 0.6970 - accuracy: 0.5007\n",
            "Epoch 4/6\n",
            "15625/15625 [==============================] - 39s 2ms/step - loss: 0.6964 - accuracy: 0.5018\n",
            "Epoch 5/6\n",
            "15625/15625 [==============================] - 41s 3ms/step - loss: 0.6963 - accuracy: 0.5019\n",
            "Epoch 6/6\n",
            "15625/15625 [==============================] - 38s 2ms/step - loss: 0.6964 - accuracy: 0.5014\n",
            "Epoch 1/6\n",
            "15625/15625 [==============================] - 39s 2ms/step - loss: 0.6959 - accuracy: 0.5022\n",
            "Epoch 2/6\n",
            "15625/15625 [==============================] - 38s 2ms/step - loss: 0.6959 - accuracy: 0.5007\n",
            "Epoch 3/6\n",
            "15625/15625 [==============================] - 38s 2ms/step - loss: 0.6958 - accuracy: 0.5020\n",
            "Epoch 4/6\n",
            "15625/15625 [==============================] - 39s 2ms/step - loss: 0.6956 - accuracy: 0.5013\n",
            "Epoch 5/6\n",
            "15625/15625 [==============================] - 38s 2ms/step - loss: 0.6954 - accuracy: 0.5011\n",
            "Epoch 6/6\n",
            "15625/15625 [==============================] - 39s 2ms/step - loss: 0.6955 - accuracy: 0.5011\n",
            "Epoch 1/6\n",
            "15625/15625 [==============================] - 38s 2ms/step - loss: 0.6953 - accuracy: 0.5026\n",
            "Epoch 2/6\n",
            "15625/15625 [==============================] - 39s 2ms/step - loss: 0.6952 - accuracy: 0.5005\n",
            "Epoch 3/6\n",
            "15625/15625 [==============================] - 38s 2ms/step - loss: 0.6951 - accuracy: 0.5021\n",
            "Epoch 4/6\n",
            "15625/15625 [==============================] - 38s 2ms/step - loss: 0.6950 - accuracy: 0.5020\n",
            "Epoch 5/6\n",
            "15625/15625 [==============================] - 39s 2ms/step - loss: 0.6948 - accuracy: 0.5027\n",
            "Epoch 6/6\n",
            "15625/15625 [==============================] - 37s 2ms/step - loss: 0.6948 - accuracy: 0.5017\n",
            "Epoch 1/6\n",
            "15625/15625 [==============================] - 39s 3ms/step - loss: 0.6946 - accuracy: 0.5019\n",
            "Epoch 2/6\n",
            "15625/15625 [==============================] - 38s 2ms/step - loss: 0.6944 - accuracy: 0.5027\n",
            "Epoch 3/6\n",
            "15625/15625 [==============================] - 38s 2ms/step - loss: 0.6944 - accuracy: 0.5015\n",
            "Epoch 4/6\n",
            "15625/15625 [==============================] - 39s 2ms/step - loss: 0.6943 - accuracy: 0.5033\n",
            "Epoch 5/6\n",
            "15625/15625 [==============================] - 38s 2ms/step - loss: 0.6941 - accuracy: 0.5032\n",
            "Epoch 6/6\n",
            "15625/15625 [==============================] - 39s 2ms/step - loss: 0.6940 - accuracy: 0.5024\n",
            "Epoch 1/6\n",
            "15625/15625 [==============================] - 38s 2ms/step - loss: 0.6941 - accuracy: 0.5025\n",
            "Epoch 2/6\n",
            "15625/15625 [==============================] - 39s 3ms/step - loss: 0.6940 - accuracy: 0.5026\n",
            "Epoch 3/6\n",
            "15625/15625 [==============================] - 38s 2ms/step - loss: 0.6940 - accuracy: 0.5033\n",
            "Epoch 4/6\n",
            "15625/15625 [==============================] - 37s 2ms/step - loss: 0.6939 - accuracy: 0.5027\n",
            "Epoch 5/6\n",
            "15625/15625 [==============================] - 39s 2ms/step - loss: 0.6938 - accuracy: 0.5032\n",
            "Epoch 6/6\n",
            "15625/15625 [==============================] - 38s 2ms/step - loss: 0.6937 - accuracy: 0.5026\n",
            "Epoch 1/6\n",
            "15625/15625 [==============================] - 39s 2ms/step - loss: 0.6936 - accuracy: 0.5024\n",
            "Epoch 2/6\n",
            "15625/15625 [==============================] - 37s 2ms/step - loss: 0.6935 - accuracy: 0.5034\n",
            "Epoch 3/6\n",
            "15625/15625 [==============================] - 38s 2ms/step - loss: 0.6935 - accuracy: 0.5032\n",
            "Epoch 4/6\n",
            "15625/15625 [==============================] - 38s 2ms/step - loss: 0.6934 - accuracy: 0.5038\n",
            "Epoch 5/6\n",
            "15625/15625 [==============================] - 37s 2ms/step - loss: 0.6934 - accuracy: 0.5035\n",
            "Epoch 6/6\n",
            "15625/15625 [==============================] - 39s 2ms/step - loss: 0.6934 - accuracy: 0.5037\n",
            "Epoch 1/6\n",
            "15625/15625 [==============================] - 38s 2ms/step - loss: 0.6935 - accuracy: 0.5025\n",
            "Epoch 2/6\n",
            "15625/15625 [==============================] - 39s 2ms/step - loss: 0.6934 - accuracy: 0.5039\n",
            "Epoch 3/6\n",
            "15625/15625 [==============================] - 38s 2ms/step - loss: 0.6934 - accuracy: 0.5042\n",
            "Epoch 4/6\n",
            "15625/15625 [==============================] - 38s 2ms/step - loss: 0.6934 - accuracy: 0.5033\n",
            "Epoch 5/6\n",
            "15625/15625 [==============================] - 38s 2ms/step - loss: 0.6933 - accuracy: 0.5039\n",
            "Epoch 6/6\n",
            "15625/15625 [==============================] - 37s 2ms/step - loss: 0.6934 - accuracy: 0.5032\n",
            "Epoch 1/6\n",
            "15625/15625 [==============================] - 39s 3ms/step - loss: 0.6934 - accuracy: 0.5036\n",
            "Epoch 2/6\n",
            "15625/15625 [==============================] - 37s 2ms/step - loss: 0.6933 - accuracy: 0.5038\n",
            "Epoch 3/6\n",
            "15625/15625 [==============================] - 38s 2ms/step - loss: 0.6933 - accuracy: 0.5049\n",
            "Epoch 4/6\n",
            "15625/15625 [==============================] - 39s 2ms/step - loss: 0.6933 - accuracy: 0.5041\n",
            "Epoch 5/6\n",
            "15625/15625 [==============================] - 39s 2ms/step - loss: 0.6933 - accuracy: 0.5034\n",
            "Epoch 6/6\n",
            "15625/15625 [==============================] - 38s 2ms/step - loss: 0.6933 - accuracy: 0.5034\n",
            "Epoch 1/6\n",
            "15625/15625 [==============================] - 38s 2ms/step - loss: 0.6933 - accuracy: 0.5037\n",
            "Epoch 2/6\n",
            "15625/15625 [==============================] - 38s 2ms/step - loss: 0.6933 - accuracy: 0.5043\n",
            "Epoch 3/6\n",
            "15625/15625 [==============================] - 39s 2ms/step - loss: 0.6933 - accuracy: 0.5045\n",
            "Epoch 4/6\n",
            "15625/15625 [==============================] - 37s 2ms/step - loss: 0.6933 - accuracy: 0.5038\n",
            "Epoch 5/6\n",
            "15625/15625 [==============================] - 38s 2ms/step - loss: 0.6933 - accuracy: 0.5036\n",
            "Epoch 6/6\n",
            "15625/15625 [==============================] - 39s 2ms/step - loss: 0.6933 - accuracy: 0.5038\n",
            "Epoch 1/6\n",
            "15625/15625 [==============================] - 39s 2ms/step - loss: 0.6933 - accuracy: 0.5030\n",
            "Epoch 2/6\n",
            "15625/15625 [==============================] - 38s 2ms/step - loss: 0.6933 - accuracy: 0.5028\n",
            "Epoch 3/6\n",
            "15625/15625 [==============================] - 38s 2ms/step - loss: 0.6933 - accuracy: 0.5042\n",
            "Epoch 4/6\n",
            "15625/15625 [==============================] - 39s 2ms/step - loss: 0.6933 - accuracy: 0.5026\n",
            "Epoch 5/6\n",
            "15625/15625 [==============================] - 37s 2ms/step - loss: 0.6933 - accuracy: 0.5041\n",
            "Epoch 6/6\n",
            "15625/15625 [==============================] - 37s 2ms/step - loss: 0.6933 - accuracy: 0.5027\n",
            "Epoch 1/6\n",
            "15625/15625 [==============================] - 38s 2ms/step - loss: 0.6932 - accuracy: 0.5051\n",
            "Epoch 2/6\n",
            "15625/15625 [==============================] - 38s 2ms/step - loss: 0.6932 - accuracy: 0.5046\n",
            "Epoch 3/6\n",
            "15625/15625 [==============================] - 39s 2ms/step - loss: 0.6932 - accuracy: 0.5045\n",
            "Epoch 4/6\n",
            "15625/15625 [==============================] - 37s 2ms/step - loss: 0.6932 - accuracy: 0.5049\n",
            "Epoch 5/6\n",
            "15625/15625 [==============================] - 38s 2ms/step - loss: 0.6932 - accuracy: 0.5048\n",
            "Epoch 6/6\n",
            "15625/15625 [==============================] - 39s 2ms/step - loss: 0.6932 - accuracy: 0.5048\n",
            "Epoch 1/6\n",
            "15625/15625 [==============================] - 37s 2ms/step - loss: 0.6932 - accuracy: 0.5049\n",
            "Epoch 2/6\n",
            "15625/15625 [==============================] - 39s 2ms/step - loss: 0.6932 - accuracy: 0.5057\n",
            "Epoch 3/6\n",
            "15625/15625 [==============================] - 38s 2ms/step - loss: 0.6932 - accuracy: 0.5049\n",
            "Epoch 4/6\n",
            "15625/15625 [==============================] - 38s 2ms/step - loss: 0.6932 - accuracy: 0.5049\n",
            "Epoch 5/6\n",
            "15625/15625 [==============================] - 39s 2ms/step - loss: 0.6932 - accuracy: 0.5047\n",
            "Epoch 6/6\n",
            "15625/15625 [==============================] - 38s 2ms/step - loss: 0.6931 - accuracy: 0.5060\n",
            "Epoch 1/6\n",
            "15625/15625 [==============================] - 38s 2ms/step - loss: 0.6932 - accuracy: 0.5059\n",
            "Epoch 2/6\n",
            "15625/15625 [==============================] - 39s 2ms/step - loss: 0.6931 - accuracy: 0.5062\n",
            "Epoch 3/6\n",
            "15625/15625 [==============================] - 38s 2ms/step - loss: 0.6932 - accuracy: 0.5052\n",
            "Epoch 4/6\n",
            "15625/15625 [==============================] - 38s 2ms/step - loss: 0.6931 - accuracy: 0.5054\n",
            "Epoch 5/6\n",
            "15625/15625 [==============================] - 39s 2ms/step - loss: 0.6931 - accuracy: 0.5062\n",
            "Epoch 6/6\n",
            "15625/15625 [==============================] - 38s 2ms/step - loss: 0.6931 - accuracy: 0.5063\n",
            "Epoch 1/6\n",
            "15625/15625 [==============================] - 39s 2ms/step - loss: 0.6932 - accuracy: 0.5042\n",
            "Epoch 2/6\n",
            "15625/15625 [==============================] - 38s 2ms/step - loss: 0.6932 - accuracy: 0.5042\n",
            "Epoch 3/6\n",
            "15625/15625 [==============================] - 38s 2ms/step - loss: 0.6932 - accuracy: 0.5052\n",
            "Epoch 4/6\n",
            "15625/15625 [==============================] - 39s 2ms/step - loss: 0.6932 - accuracy: 0.5049\n",
            "Epoch 5/6\n",
            "15625/15625 [==============================] - 38s 2ms/step - loss: 0.6932 - accuracy: 0.5053\n",
            "Epoch 6/6\n",
            "15625/15625 [==============================] - 38s 2ms/step - loss: 0.6932 - accuracy: 0.5044\n",
            "Epoch 1/6\n",
            "15625/15625 [==============================] - 38s 2ms/step - loss: 0.6931 - accuracy: 0.5077\n",
            "Epoch 2/6\n",
            "15625/15625 [==============================] - 38s 2ms/step - loss: 0.6931 - accuracy: 0.5073\n",
            "Epoch 3/6\n",
            "15625/15625 [==============================] - 40s 3ms/step - loss: 0.6931 - accuracy: 0.5071\n",
            "Epoch 4/6\n",
            "15625/15625 [==============================] - 38s 2ms/step - loss: 0.6931 - accuracy: 0.5076\n",
            "Epoch 5/6\n",
            "15625/15625 [==============================] - 38s 2ms/step - loss: 0.6931 - accuracy: 0.5081\n",
            "Epoch 6/6\n",
            "15625/15625 [==============================] - 39s 3ms/step - loss: 0.6931 - accuracy: 0.5082\n",
            "Epoch 1/6\n",
            "15625/15625 [==============================] - 38s 2ms/step - loss: 0.6932 - accuracy: 0.5048\n",
            "Epoch 2/6\n",
            "15625/15625 [==============================] - 39s 2ms/step - loss: 0.6932 - accuracy: 0.5051\n",
            "Epoch 3/6\n",
            "15625/15625 [==============================] - 38s 2ms/step - loss: 0.6932 - accuracy: 0.5051\n",
            "Epoch 4/6\n",
            "15625/15625 [==============================] - 38s 2ms/step - loss: 0.6932 - accuracy: 0.5058\n",
            "Epoch 5/6\n",
            "15625/15625 [==============================] - 39s 3ms/step - loss: 0.6931 - accuracy: 0.5060\n",
            "Epoch 6/6\n",
            "15625/15625 [==============================] - 38s 2ms/step - loss: 0.6931 - accuracy: 0.5061\n",
            "Epoch 1/6\n",
            "15625/15625 [==============================] - 39s 2ms/step - loss: 0.6932 - accuracy: 0.5046\n",
            "Epoch 2/6\n",
            "15625/15625 [==============================] - 38s 2ms/step - loss: 0.6931 - accuracy: 0.5050\n",
            "Epoch 3/6\n",
            "15625/15625 [==============================] - 38s 2ms/step - loss: 0.6931 - accuracy: 0.5054\n",
            "Epoch 4/6\n",
            "15625/15625 [==============================] - 39s 2ms/step - loss: 0.6932 - accuracy: 0.5048\n",
            "Epoch 5/6\n",
            "15625/15625 [==============================] - 38s 2ms/step - loss: 0.6932 - accuracy: 0.5051\n",
            "Epoch 6/6\n",
            "15625/15625 [==============================] - 38s 2ms/step - loss: 0.6931 - accuracy: 0.5052\n",
            "Epoch 1/6\n",
            "15625/15625 [==============================] - 38s 2ms/step - loss: 0.6931 - accuracy: 0.5061\n",
            "Epoch 2/6\n",
            "15625/15625 [==============================] - 38s 2ms/step - loss: 0.6931 - accuracy: 0.5061\n",
            "Epoch 3/6\n",
            "15625/15625 [==============================] - 39s 2ms/step - loss: 0.6931 - accuracy: 0.5061\n",
            "Epoch 4/6\n",
            "15625/15625 [==============================] - 38s 2ms/step - loss: 0.6931 - accuracy: 0.5062\n",
            "Epoch 5/6\n",
            "15625/15625 [==============================] - 38s 2ms/step - loss: 0.6931 - accuracy: 0.5061\n",
            "Epoch 6/6\n",
            "15625/15625 [==============================] - 39s 3ms/step - loss: 0.6931 - accuracy: 0.5068\n",
            "Epoch 1/6\n",
            "15625/15625 [==============================] - 39s 2ms/step - loss: 0.6931 - accuracy: 0.5068\n",
            "Epoch 2/6\n",
            "15625/15625 [==============================] - 40s 3ms/step - loss: 0.6931 - accuracy: 0.5066\n",
            "Epoch 3/6\n",
            "15625/15625 [==============================] - 38s 2ms/step - loss: 0.6931 - accuracy: 0.5056\n",
            "Epoch 4/6\n",
            "15625/15625 [==============================] - 39s 3ms/step - loss: 0.6931 - accuracy: 0.5069\n",
            "Epoch 5/6\n",
            "15625/15625 [==============================] - 40s 3ms/step - loss: 0.6931 - accuracy: 0.5064\n",
            "Epoch 6/6\n",
            "15625/15625 [==============================] - 38s 2ms/step - loss: 0.6931 - accuracy: 0.5062\n",
            "Epoch 1/6\n",
            "15625/15625 [==============================] - 39s 2ms/step - loss: 0.6931 - accuracy: 0.5057\n",
            "Epoch 2/6\n",
            "15625/15625 [==============================] - 38s 2ms/step - loss: 0.6931 - accuracy: 0.5062\n",
            "Epoch 3/6\n",
            "15625/15625 [==============================] - 38s 2ms/step - loss: 0.6931 - accuracy: 0.5053\n",
            "Epoch 4/6\n",
            "15625/15625 [==============================] - 39s 2ms/step - loss: 0.6931 - accuracy: 0.5054\n",
            "Epoch 5/6\n",
            "15625/15625 [==============================] - 40s 3ms/step - loss: 0.6931 - accuracy: 0.5055\n",
            "Epoch 6/6\n",
            "15625/15625 [==============================] - 38s 2ms/step - loss: 0.6931 - accuracy: 0.5054\n",
            "Epoch 1/6\n",
            "6161/6161 [==============================] - 16s 3ms/step - loss: 0.6932 - accuracy: 0.5045\n",
            "Epoch 2/6\n",
            "6161/6161 [==============================] - 15s 2ms/step - loss: 0.6931 - accuracy: 0.5047\n",
            "Epoch 3/6\n",
            "6161/6161 [==============================] - 15s 2ms/step - loss: 0.6932 - accuracy: 0.5052\n",
            "Epoch 4/6\n",
            "6161/6161 [==============================] - 15s 2ms/step - loss: 0.6931 - accuracy: 0.5053\n",
            "Epoch 5/6\n",
            "6161/6161 [==============================] - 15s 2ms/step - loss: 0.6931 - accuracy: 0.5059\n",
            "Epoch 6/6\n",
            "6161/6161 [==============================] - 15s 2ms/step - loss: 0.6931 - accuracy: 0.5053\n"
          ]
        }
      ],
      "source": [
        "for chunk in train:\n",
        "  train_y = chunk.pop('Label')\n",
        "  train_x = chunk\n",
        "  train_x = scaler.fit_transform(train_x)\n",
        "  train_y = encoder.fit_transform(train_y)\n",
        "  model.fit(train_x,train_y,batch_size=32,epochs=6)"
      ]
    },
    {
      "cell_type": "code",
      "execution_count": 7,
      "metadata": {
        "id": "eBlpAi_i6Evj"
      },
      "outputs": [],
      "source": [
        "test_y = test.pop('Label')\n",
        "test_x = test"
      ]
    },
    {
      "cell_type": "code",
      "execution_count": 8,
      "metadata": {
        "id": "2n7h0UiD6Evl"
      },
      "outputs": [],
      "source": [
        "test_x = scaler.transform(test_x)\n",
        "test_y = encoder.transform(test_y)"
      ]
    },
    {
      "cell_type": "code",
      "execution_count": 9,
      "metadata": {
        "colab": {
          "base_uri": "https://localhost:8080/"
        },
        "id": "d2ztO8vx6Evp",
        "outputId": "6877924c-0483-4dd3-be67-73e46b195759"
      },
      "outputs": [
        {
          "output_type": "stream",
          "name": "stdout",
          "text": [
            "79666/79666 [==============================] - 209s 3ms/step - loss: 0.6932 - accuracy: 0.5074\n",
            "Score 0.6931599378585815 Accuracy 0.5074174404144287\n"
          ]
        }
      ],
      "source": [
        "score,accuracy = model.evaluate(test_x,test_y)\n",
        "print('Score',score,\"Accuracy\",accuracy)"
      ]
    }
  ],
  "metadata": {
    "accelerator": "GPU",
    "colab": {
      "collapsed_sections": [],
      "name": "CNN-inter.ipynb",
      "provenance": [],
      "include_colab_link": true
    },
    "gpuClass": "standard",
    "interpreter": {
      "hash": "759c5e0d3d88a894482aeabccbd08c19af37ecec916291e5ab4326292ca84839"
    },
    "kernelspec": {
      "display_name": "Python 3.10.4 64-bit",
      "language": "python",
      "name": "python3"
    },
    "language_info": {
      "codemirror_mode": {
        "name": "ipython",
        "version": 3
      },
      "file_extension": ".py",
      "mimetype": "text/x-python",
      "name": "python",
      "nbconvert_exporter": "python",
      "pygments_lexer": "ipython3",
      "version": "3.10.4"
    },
    "orig_nbformat": 4
  },
  "nbformat": 4,
  "nbformat_minor": 0
}