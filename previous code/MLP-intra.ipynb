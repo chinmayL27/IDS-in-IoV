{
 "cells": [
  {
   "cell_type": "code",
   "execution_count": 1,
   "metadata": {},
   "outputs": [],
   "source": [
    "import numpy as np\n",
    "import pandas as pd\n",
    "from sklearn.preprocessing import StandardScaler\n",
    "from sklearn.neural_network import MLPClassifier\n",
    "from sklearn.model_selection import train_test_split\n",
    "from sklearn.metrics import accuracy_score, confusion_matrix, classification_report"
   ]
  },
  {
   "cell_type": "code",
   "execution_count": 2,
   "metadata": {},
   "outputs": [],
   "source": [
    "def printReport(test_y,predict_y):\n",
    "  accuracy = accuracy_score(test_y, predict_y)\n",
    "  print('Accuracy: %.7f' % accuracy)\n",
    "\n",
    "  # T up-down  F left-right\n",
    "  print('Confusion Matrix')                      #  TP FP\n",
    "  print(confusion_matrix(test_y,predict_y))      #  FN TN \n",
    "\n",
    "  print(classification_report(test_y,predict_y,digits=7))"
   ]
  },
  {
   "cell_type": "code",
   "execution_count": 3,
   "metadata": {},
   "outputs": [],
   "source": [
    "data = pd.read_csv('../data/intravehicle.csv')"
   ]
  },
  {
   "cell_type": "code",
   "execution_count": 6,
   "metadata": {},
   "outputs": [
    {
     "name": "stdout",
     "output_type": "stream",
     "text": [
      "X data shape (16569475, 4)\n",
      "Y data shape (16569475,)\n"
     ]
    }
   ],
   "source": [
    "y_data = data.pop('4')\n",
    "x_data = data\n",
    "print(\"X data shape\",x_data.shape)\n",
    "print(\"Y data shape\",y_data.shape)"
   ]
  },
  {
   "cell_type": "code",
   "execution_count": 7,
   "metadata": {},
   "outputs": [
    {
     "name": "stdout",
     "output_type": "stream",
     "text": [
      "Training Data (13255580, 4) (13255580,)\n",
      "Testing Data (3313895, 4) (3313895,)\n"
     ]
    }
   ],
   "source": [
    "train_x, test_x, train_y, test_y = train_test_split(x_data,y_data,test_size=0.20,random_state=0,shuffle=True)\n",
    "print(\"Training Data\",train_x.shape,train_y.shape)\n",
    "print(\"Testing Data\",test_x.shape,test_y.shape)"
   ]
  },
  {
   "cell_type": "code",
   "execution_count": 8,
   "metadata": {},
   "outputs": [],
   "source": [
    "train_x.reset_index(drop=True,inplace=True)\n",
    "test_x.reset_index(drop=True,inplace=True)\n",
    "train_y.reset_index(drop=True,inplace=True)\n",
    "test_y.reset_index(drop=True,inplace=True)"
   ]
  },
  {
   "cell_type": "code",
   "execution_count": 10,
   "metadata": {},
   "outputs": [],
   "source": [
    "scaler = StandardScaler()\n",
    "train_x = scaler.fit_transform(train_x)\n",
    "test_x = scaler.transform(test_x)"
   ]
  },
  {
   "cell_type": "code",
   "execution_count": 11,
   "metadata": {},
   "outputs": [
    {
     "data": {
      "text/html": [
       "<style>#sk-container-id-1 {color: black;background-color: white;}#sk-container-id-1 pre{padding: 0;}#sk-container-id-1 div.sk-toggleable {background-color: white;}#sk-container-id-1 label.sk-toggleable__label {cursor: pointer;display: block;width: 100%;margin-bottom: 0;padding: 0.3em;box-sizing: border-box;text-align: center;}#sk-container-id-1 label.sk-toggleable__label-arrow:before {content: \"▸\";float: left;margin-right: 0.25em;color: #696969;}#sk-container-id-1 label.sk-toggleable__label-arrow:hover:before {color: black;}#sk-container-id-1 div.sk-estimator:hover label.sk-toggleable__label-arrow:before {color: black;}#sk-container-id-1 div.sk-toggleable__content {max-height: 0;max-width: 0;overflow: hidden;text-align: left;background-color: #f0f8ff;}#sk-container-id-1 div.sk-toggleable__content pre {margin: 0.2em;color: black;border-radius: 0.25em;background-color: #f0f8ff;}#sk-container-id-1 input.sk-toggleable__control:checked~div.sk-toggleable__content {max-height: 200px;max-width: 100%;overflow: auto;}#sk-container-id-1 input.sk-toggleable__control:checked~label.sk-toggleable__label-arrow:before {content: \"▾\";}#sk-container-id-1 div.sk-estimator input.sk-toggleable__control:checked~label.sk-toggleable__label {background-color: #d4ebff;}#sk-container-id-1 div.sk-label input.sk-toggleable__control:checked~label.sk-toggleable__label {background-color: #d4ebff;}#sk-container-id-1 input.sk-hidden--visually {border: 0;clip: rect(1px 1px 1px 1px);clip: rect(1px, 1px, 1px, 1px);height: 1px;margin: -1px;overflow: hidden;padding: 0;position: absolute;width: 1px;}#sk-container-id-1 div.sk-estimator {font-family: monospace;background-color: #f0f8ff;border: 1px dotted black;border-radius: 0.25em;box-sizing: border-box;margin-bottom: 0.5em;}#sk-container-id-1 div.sk-estimator:hover {background-color: #d4ebff;}#sk-container-id-1 div.sk-parallel-item::after {content: \"\";width: 100%;border-bottom: 1px solid gray;flex-grow: 1;}#sk-container-id-1 div.sk-label:hover label.sk-toggleable__label {background-color: #d4ebff;}#sk-container-id-1 div.sk-serial::before {content: \"\";position: absolute;border-left: 1px solid gray;box-sizing: border-box;top: 0;bottom: 0;left: 50%;z-index: 0;}#sk-container-id-1 div.sk-serial {display: flex;flex-direction: column;align-items: center;background-color: white;padding-right: 0.2em;padding-left: 0.2em;position: relative;}#sk-container-id-1 div.sk-item {position: relative;z-index: 1;}#sk-container-id-1 div.sk-parallel {display: flex;align-items: stretch;justify-content: center;background-color: white;position: relative;}#sk-container-id-1 div.sk-item::before, #sk-container-id-1 div.sk-parallel-item::before {content: \"\";position: absolute;border-left: 1px solid gray;box-sizing: border-box;top: 0;bottom: 0;left: 50%;z-index: -1;}#sk-container-id-1 div.sk-parallel-item {display: flex;flex-direction: column;z-index: 1;position: relative;background-color: white;}#sk-container-id-1 div.sk-parallel-item:first-child::after {align-self: flex-end;width: 50%;}#sk-container-id-1 div.sk-parallel-item:last-child::after {align-self: flex-start;width: 50%;}#sk-container-id-1 div.sk-parallel-item:only-child::after {width: 0;}#sk-container-id-1 div.sk-dashed-wrapped {border: 1px dashed gray;margin: 0 0.4em 0.5em 0.4em;box-sizing: border-box;padding-bottom: 0.4em;background-color: white;}#sk-container-id-1 div.sk-label label {font-family: monospace;font-weight: bold;display: inline-block;line-height: 1.2em;}#sk-container-id-1 div.sk-label-container {text-align: center;}#sk-container-id-1 div.sk-container {/* jupyter's `normalize.less` sets `[hidden] { display: none; }` but bootstrap.min.css set `[hidden] { display: none !important; }` so we also need the `!important` here to be able to override the default hidden behavior on the sphinx rendered scikit-learn.org. See: https://github.com/scikit-learn/scikit-learn/issues/21755 */display: inline-block !important;position: relative;}#sk-container-id-1 div.sk-text-repr-fallback {display: none;}</style><div id=\"sk-container-id-1\" class=\"sk-top-container\"><div class=\"sk-text-repr-fallback\"><pre>MLPClassifier(random_state=0)</pre><b>In a Jupyter environment, please rerun this cell to show the HTML representation or trust the notebook. <br />On GitHub, the HTML representation is unable to render, please try loading this page with nbviewer.org.</b></div><div class=\"sk-container\" hidden><div class=\"sk-item\"><div class=\"sk-estimator sk-toggleable\"><input class=\"sk-toggleable__control sk-hidden--visually\" id=\"sk-estimator-id-1\" type=\"checkbox\" checked><label for=\"sk-estimator-id-1\" class=\"sk-toggleable__label sk-toggleable__label-arrow\">MLPClassifier</label><div class=\"sk-toggleable__content\"><pre>MLPClassifier(random_state=0)</pre></div></div></div></div></div>"
      ],
      "text/plain": [
       "MLPClassifier(random_state=0)"
      ]
     },
     "execution_count": 11,
     "metadata": {},
     "output_type": "execute_result"
    }
   ],
   "source": [
    "model = MLPClassifier(random_state=0)\n",
    "model.fit(train_x,train_y)"
   ]
  },
  {
   "cell_type": "code",
   "execution_count": 12,
   "metadata": {},
   "outputs": [
    {
     "ename": "MemoryError",
     "evalue": "Unable to allocate 2.47 GiB for an array with shape (3313895, 100) and data type float64",
     "output_type": "error",
     "traceback": [
      "\u001b[1;31m---------------------------------------------------------------------------\u001b[0m",
      "\u001b[1;31mMemoryError\u001b[0m                               Traceback (most recent call last)",
      "\u001b[1;32md:\\BTP\\code\\MLP-intra.ipynb Cell 9'\u001b[0m in \u001b[0;36m<cell line: 1>\u001b[1;34m()\u001b[0m\n\u001b[1;32m----> <a href='vscode-notebook-cell:/d%3A/BTP/code/MLP-intra.ipynb#ch0000008?line=0'>1</a>\u001b[0m predict_y \u001b[39m=\u001b[39m model\u001b[39m.\u001b[39;49mpredict(test_x)\n\u001b[0;32m      <a href='vscode-notebook-cell:/d%3A/BTP/code/MLP-intra.ipynb#ch0000008?line=1'>2</a>\u001b[0m printReport(test_y, predict_y)\n",
      "File \u001b[1;32mc:\\Users\\Manoj\\AppData\\Local\\Programs\\Python\\Python310\\lib\\site-packages\\sklearn\\neural_network\\_multilayer_perceptron.py:1176\u001b[0m, in \u001b[0;36mMLPClassifier.predict\u001b[1;34m(self, X)\u001b[0m\n\u001b[0;32m   <a href='file:///c%3A/Users/Manoj/AppData/Local/Programs/Python/Python310/lib/site-packages/sklearn/neural_network/_multilayer_perceptron.py?line=1162'>1163</a>\u001b[0m \u001b[39m\"\"\"Predict using the multi-layer perceptron classifier.\u001b[39;00m\n\u001b[0;32m   <a href='file:///c%3A/Users/Manoj/AppData/Local/Programs/Python/Python310/lib/site-packages/sklearn/neural_network/_multilayer_perceptron.py?line=1163'>1164</a>\u001b[0m \n\u001b[0;32m   <a href='file:///c%3A/Users/Manoj/AppData/Local/Programs/Python/Python310/lib/site-packages/sklearn/neural_network/_multilayer_perceptron.py?line=1164'>1165</a>\u001b[0m \u001b[39mParameters\u001b[39;00m\n\u001b[1;32m   (...)\u001b[0m\n\u001b[0;32m   <a href='file:///c%3A/Users/Manoj/AppData/Local/Programs/Python/Python310/lib/site-packages/sklearn/neural_network/_multilayer_perceptron.py?line=1172'>1173</a>\u001b[0m \u001b[39m    The predicted classes.\u001b[39;00m\n\u001b[0;32m   <a href='file:///c%3A/Users/Manoj/AppData/Local/Programs/Python/Python310/lib/site-packages/sklearn/neural_network/_multilayer_perceptron.py?line=1173'>1174</a>\u001b[0m \u001b[39m\"\"\"\u001b[39;00m\n\u001b[0;32m   <a href='file:///c%3A/Users/Manoj/AppData/Local/Programs/Python/Python310/lib/site-packages/sklearn/neural_network/_multilayer_perceptron.py?line=1174'>1175</a>\u001b[0m check_is_fitted(\u001b[39mself\u001b[39m)\n\u001b[1;32m-> <a href='file:///c%3A/Users/Manoj/AppData/Local/Programs/Python/Python310/lib/site-packages/sklearn/neural_network/_multilayer_perceptron.py?line=1175'>1176</a>\u001b[0m y_pred \u001b[39m=\u001b[39m \u001b[39mself\u001b[39;49m\u001b[39m.\u001b[39;49m_forward_pass_fast(X)\n\u001b[0;32m   <a href='file:///c%3A/Users/Manoj/AppData/Local/Programs/Python/Python310/lib/site-packages/sklearn/neural_network/_multilayer_perceptron.py?line=1177'>1178</a>\u001b[0m \u001b[39mif\u001b[39;00m \u001b[39mself\u001b[39m\u001b[39m.\u001b[39mn_outputs_ \u001b[39m==\u001b[39m \u001b[39m1\u001b[39m:\n\u001b[0;32m   <a href='file:///c%3A/Users/Manoj/AppData/Local/Programs/Python/Python310/lib/site-packages/sklearn/neural_network/_multilayer_perceptron.py?line=1178'>1179</a>\u001b[0m     y_pred \u001b[39m=\u001b[39m y_pred\u001b[39m.\u001b[39mravel()\n",
      "File \u001b[1;32mc:\\Users\\Manoj\\AppData\\Local\\Programs\\Python\\Python310\\lib\\site-packages\\sklearn\\neural_network\\_multilayer_perceptron.py:168\u001b[0m, in \u001b[0;36mBaseMultilayerPerceptron._forward_pass_fast\u001b[1;34m(self, X)\u001b[0m\n\u001b[0;32m    <a href='file:///c%3A/Users/Manoj/AppData/Local/Programs/Python/Python310/lib/site-packages/sklearn/neural_network/_multilayer_perceptron.py?line=165'>166</a>\u001b[0m hidden_activation \u001b[39m=\u001b[39m ACTIVATIONS[\u001b[39mself\u001b[39m\u001b[39m.\u001b[39mactivation]\n\u001b[0;32m    <a href='file:///c%3A/Users/Manoj/AppData/Local/Programs/Python/Python310/lib/site-packages/sklearn/neural_network/_multilayer_perceptron.py?line=166'>167</a>\u001b[0m \u001b[39mfor\u001b[39;00m i \u001b[39min\u001b[39;00m \u001b[39mrange\u001b[39m(\u001b[39mself\u001b[39m\u001b[39m.\u001b[39mn_layers_ \u001b[39m-\u001b[39m \u001b[39m1\u001b[39m):\n\u001b[1;32m--> <a href='file:///c%3A/Users/Manoj/AppData/Local/Programs/Python/Python310/lib/site-packages/sklearn/neural_network/_multilayer_perceptron.py?line=167'>168</a>\u001b[0m     activation \u001b[39m=\u001b[39m safe_sparse_dot(activation, \u001b[39mself\u001b[39;49m\u001b[39m.\u001b[39;49mcoefs_[i])\n\u001b[0;32m    <a href='file:///c%3A/Users/Manoj/AppData/Local/Programs/Python/Python310/lib/site-packages/sklearn/neural_network/_multilayer_perceptron.py?line=168'>169</a>\u001b[0m     activation \u001b[39m+\u001b[39m\u001b[39m=\u001b[39m \u001b[39mself\u001b[39m\u001b[39m.\u001b[39mintercepts_[i]\n\u001b[0;32m    <a href='file:///c%3A/Users/Manoj/AppData/Local/Programs/Python/Python310/lib/site-packages/sklearn/neural_network/_multilayer_perceptron.py?line=169'>170</a>\u001b[0m     \u001b[39mif\u001b[39;00m i \u001b[39m!=\u001b[39m \u001b[39mself\u001b[39m\u001b[39m.\u001b[39mn_layers_ \u001b[39m-\u001b[39m \u001b[39m2\u001b[39m:\n",
      "File \u001b[1;32mc:\\Users\\Manoj\\AppData\\Local\\Programs\\Python\\Python310\\lib\\site-packages\\sklearn\\utils\\extmath.py:152\u001b[0m, in \u001b[0;36msafe_sparse_dot\u001b[1;34m(a, b, dense_output)\u001b[0m\n\u001b[0;32m    <a href='file:///c%3A/Users/Manoj/AppData/Local/Programs/Python/Python310/lib/site-packages/sklearn/utils/extmath.py?line=149'>150</a>\u001b[0m         ret \u001b[39m=\u001b[39m np\u001b[39m.\u001b[39mdot(a, b)\n\u001b[0;32m    <a href='file:///c%3A/Users/Manoj/AppData/Local/Programs/Python/Python310/lib/site-packages/sklearn/utils/extmath.py?line=150'>151</a>\u001b[0m \u001b[39melse\u001b[39;00m:\n\u001b[1;32m--> <a href='file:///c%3A/Users/Manoj/AppData/Local/Programs/Python/Python310/lib/site-packages/sklearn/utils/extmath.py?line=151'>152</a>\u001b[0m     ret \u001b[39m=\u001b[39m a \u001b[39m@\u001b[39;49m b\n\u001b[0;32m    <a href='file:///c%3A/Users/Manoj/AppData/Local/Programs/Python/Python310/lib/site-packages/sklearn/utils/extmath.py?line=153'>154</a>\u001b[0m \u001b[39mif\u001b[39;00m (\n\u001b[0;32m    <a href='file:///c%3A/Users/Manoj/AppData/Local/Programs/Python/Python310/lib/site-packages/sklearn/utils/extmath.py?line=154'>155</a>\u001b[0m     sparse\u001b[39m.\u001b[39missparse(a)\n\u001b[0;32m    <a href='file:///c%3A/Users/Manoj/AppData/Local/Programs/Python/Python310/lib/site-packages/sklearn/utils/extmath.py?line=155'>156</a>\u001b[0m     \u001b[39mand\u001b[39;00m sparse\u001b[39m.\u001b[39missparse(b)\n\u001b[0;32m    <a href='file:///c%3A/Users/Manoj/AppData/Local/Programs/Python/Python310/lib/site-packages/sklearn/utils/extmath.py?line=156'>157</a>\u001b[0m     \u001b[39mand\u001b[39;00m dense_output\n\u001b[0;32m    <a href='file:///c%3A/Users/Manoj/AppData/Local/Programs/Python/Python310/lib/site-packages/sklearn/utils/extmath.py?line=157'>158</a>\u001b[0m     \u001b[39mand\u001b[39;00m \u001b[39mhasattr\u001b[39m(ret, \u001b[39m\"\u001b[39m\u001b[39mtoarray\u001b[39m\u001b[39m\"\u001b[39m)\n\u001b[0;32m    <a href='file:///c%3A/Users/Manoj/AppData/Local/Programs/Python/Python310/lib/site-packages/sklearn/utils/extmath.py?line=158'>159</a>\u001b[0m ):\n\u001b[0;32m    <a href='file:///c%3A/Users/Manoj/AppData/Local/Programs/Python/Python310/lib/site-packages/sklearn/utils/extmath.py?line=159'>160</a>\u001b[0m     \u001b[39mreturn\u001b[39;00m ret\u001b[39m.\u001b[39mtoarray()\n",
      "\u001b[1;31mMemoryError\u001b[0m: Unable to allocate 2.47 GiB for an array with shape (3313895, 100) and data type float64"
     ]
    }
   ],
   "source": [
    "predict_y = model.predict(test_x)\n",
    "printReport(test_y, predict_y)"
   ]
  }
 ],
 "metadata": {
  "interpreter": {
   "hash": "759c5e0d3d88a894482aeabccbd08c19af37ecec916291e5ab4326292ca84839"
  },
  "kernelspec": {
   "display_name": "Python 3.10.4 64-bit",
   "language": "python",
   "name": "python3"
  },
  "language_info": {
   "codemirror_mode": {
    "name": "ipython",
    "version": 3
   },
   "file_extension": ".py",
   "mimetype": "text/x-python",
   "name": "python",
   "nbconvert_exporter": "python",
   "pygments_lexer": "ipython3",
   "version": "3.10.4"
  },
  "orig_nbformat": 4
 },
 "nbformat": 4,
 "nbformat_minor": 2
}
