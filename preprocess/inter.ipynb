{
 "cells": [
  {
   "cell_type": "code",
   "execution_count": 17,
   "metadata": {},
   "outputs": [],
   "source": [
    "import numpy as np\n",
    "import pandas as pd\n",
    "import gc\n",
    "import seaborn as sns\n",
    "import matplotlib.pyplot as plt"
   ]
  },
  {
   "cell_type": "code",
   "execution_count": 2,
   "metadata": {},
   "outputs": [],
   "source": [
    "dtypes = {\n",
    "    'Src IP': 'category',\n",
    "    'Src Port': 'uint16',\n",
    "    'Dst IP': 'category',\n",
    "    'Dst Port': 'uint16',\n",
    "    'Protocol': 'category',\n",
    "    'Flow Duration': 'uint32',\n",
    "    'Tot Fwd Pkts': 'uint32',\n",
    "    'Tot Bwd Pkts': 'uint32',\n",
    "    'TotLen Fwd Pkts': 'float32',\n",
    "    'TotLen Bwd Pkts': 'float32',\n",
    "    'Fwd Pkt Len Max': 'float32',\n",
    "    'Fwd Pkt Len Min': 'float32',\n",
    "    'Fwd Pkt Len Mean': 'float32',\n",
    "    'Fwd Pkt Len Std': 'float32',\n",
    "    'Bwd Pkt Len Max': 'float32',\n",
    "    'Bwd Pkt Len Min': 'float32',\n",
    "    'Bwd Pkt Len Mean': 'float32',\n",
    "    'Bwd Pkt Len Std': 'float32',\n",
    "    'Flow Byts/s': 'float32',\n",
    "    'Flow Pkts/s': 'float32',\n",
    "    'Flow IAT Mean': 'float32',\n",
    "    'Flow IAT Std': 'float32',\n",
    "    'Flow IAT Max': 'float32',\n",
    "    'Flow IAT Min': 'float32',\n",
    "    'Fwd IAT Tot': 'float32',\n",
    "    'Fwd IAT Mean': 'float32',\n",
    "    'Fwd IAT Std': 'float32',\n",
    "    'Fwd IAT Max': 'float32',\n",
    "    'Fwd IAT Min': 'float32',\n",
    "    'Bwd IAT Tot': 'float32',\n",
    "    'Bwd IAT Mean': 'float32',\n",
    "    'Bwd IAT Std': 'float32',\n",
    "    'Bwd IAT Max': 'float32',\n",
    "    'Bwd IAT Min': 'float32',\n",
    "    'Fwd PSH Flags': 'category',\n",
    "    'Bwd PSH Flags': 'category',\n",
    "    'Fwd URG Flags': 'category',\n",
    "    'Bwd URG Flags': 'category',\n",
    "    'Fwd Header Len': 'uint32',\n",
    "    'Bwd Header Len': 'uint32',\n",
    "    'Fwd Pkts/s': 'float32',\n",
    "    'Bwd Pkts/s': 'float32',\n",
    "    'Pkt Len Min': 'float32',\n",
    "    'Pkt Len Max': 'float32',\n",
    "    'Pkt Len Mean': 'float32',\n",
    "    'Pkt Len Std': 'float32',\n",
    "    'Pkt Len Var': 'float32',\n",
    "    'FIN Flag Cnt': 'category',\n",
    "    'SYN Flag Cnt': 'category',\n",
    "    'RST Flag Cnt': 'category',\n",
    "    'PSH Flag Cnt': 'category',\n",
    "    'ACK Flag Cnt': 'category',\n",
    "    'URG Flag Cnt': 'category',\n",
    "    'CWE Flag Count': 'category',\n",
    "    'ECE Flag Cnt': 'category',\n",
    "    'Down/Up Ratio': 'float32',\n",
    "    'Pkt Size Avg': 'float32',\n",
    "    'Fwd Seg Size Avg': 'float32',\n",
    "    'Bwd Seg Size Avg': 'float32',\n",
    "    'Fwd Byts/b Avg': 'uint32',\n",
    "    'Fwd Pkts/b Avg': 'uint32',\n",
    "    'Fwd Blk Rate Avg': 'uint32',\n",
    "    'Bwd Byts/b Avg': 'uint32',\n",
    "    'Bwd Pkts/b Avg': 'uint32',\n",
    "    'Bwd Blk Rate Avg': 'uint32',\n",
    "    'Subflow Fwd Pkts': 'uint32',\n",
    "    'Subflow Fwd Byts': 'uint32',\n",
    "    'Subflow Bwd Pkts': 'uint32',\n",
    "    'Subflow Bwd Byts': 'uint32',\n",
    "    'Init Fwd Win Byts': 'uint32',\n",
    "    'Init Bwd Win Byts': 'uint32',\n",
    "    'Fwd Act Data Pkts': 'uint32',\n",
    "    'Fwd Seg Size Min': 'uint32',\n",
    "    'Active Mean': 'float32',\n",
    "    'Active Std': 'float32',\n",
    "    'Active Max': 'float32',\n",
    "    'Active Min': 'float32',\n",
    "    'Idle Mean': 'float32',\n",
    "    'Idle Std': 'float32',\n",
    "    'Idle Max': 'float32',\n",
    "    'Idle Min': 'float32',\n",
    "    'Label': 'category'\n",
    "}"
   ]
  },
  {
   "cell_type": "code",
   "execution_count": 3,
   "metadata": {},
   "outputs": [
    {
     "data": {
      "text/plain": [
       "0"
      ]
     },
     "execution_count": 3,
     "metadata": {},
     "output_type": "execute_result"
    }
   ],
   "source": [
    "df = pd.read_csv(\n",
    "    '../dataset/final_dataset.csv',\n",
    "    dtype=dtypes,\n",
    "    parse_dates=['Timestamp'],\n",
    "    usecols=[*dtypes.keys(), 'Timestamp'],\n",
    "    engine='c',\n",
    "    low_memory=True\n",
    ")\n",
    "del dtypes\n",
    "gc.collect()"
   ]
  },
  {
   "cell_type": "code",
   "execution_count": 4,
   "metadata": {},
   "outputs": [
    {
     "data": {
      "text/plain": [
       "(12794627, 83)"
      ]
     },
     "execution_count": 4,
     "metadata": {},
     "output_type": "execute_result"
    }
   ],
   "source": [
    "df.shape"
   ]
  },
  {
   "cell_type": "code",
   "execution_count": 5,
   "metadata": {},
   "outputs": [
    {
     "data": {
      "text/html": [
       "<div>\n",
       "<style scoped>\n",
       "    .dataframe tbody tr th:only-of-type {\n",
       "        vertical-align: middle;\n",
       "    }\n",
       "\n",
       "    .dataframe tbody tr th {\n",
       "        vertical-align: top;\n",
       "    }\n",
       "\n",
       "    .dataframe thead th {\n",
       "        text-align: right;\n",
       "    }\n",
       "</style>\n",
       "<table border=\"1\" class=\"dataframe\">\n",
       "  <thead>\n",
       "    <tr style=\"text-align: right;\">\n",
       "      <th></th>\n",
       "      <th>Src IP</th>\n",
       "      <th>Src Port</th>\n",
       "      <th>Dst IP</th>\n",
       "      <th>Dst Port</th>\n",
       "      <th>Protocol</th>\n",
       "      <th>Timestamp</th>\n",
       "      <th>Flow Duration</th>\n",
       "      <th>Tot Fwd Pkts</th>\n",
       "      <th>Tot Bwd Pkts</th>\n",
       "      <th>TotLen Fwd Pkts</th>\n",
       "      <th>...</th>\n",
       "      <th>Fwd Seg Size Min</th>\n",
       "      <th>Active Mean</th>\n",
       "      <th>Active Std</th>\n",
       "      <th>Active Max</th>\n",
       "      <th>Active Min</th>\n",
       "      <th>Idle Mean</th>\n",
       "      <th>Idle Std</th>\n",
       "      <th>Idle Max</th>\n",
       "      <th>Idle Min</th>\n",
       "      <th>Label</th>\n",
       "    </tr>\n",
       "  </thead>\n",
       "  <tbody>\n",
       "    <tr>\n",
       "      <th>count</th>\n",
       "      <td>12794627</td>\n",
       "      <td>1.279463e+07</td>\n",
       "      <td>12794627</td>\n",
       "      <td>1.279463e+07</td>\n",
       "      <td>12794627</td>\n",
       "      <td>12794627</td>\n",
       "      <td>1.279463e+07</td>\n",
       "      <td>1.279463e+07</td>\n",
       "      <td>1.279463e+07</td>\n",
       "      <td>1.279463e+07</td>\n",
       "      <td>...</td>\n",
       "      <td>1.279463e+07</td>\n",
       "      <td>1.279463e+07</td>\n",
       "      <td>1.279463e+07</td>\n",
       "      <td>1.279463e+07</td>\n",
       "      <td>1.279463e+07</td>\n",
       "      <td>12794627.0</td>\n",
       "      <td>1.279463e+07</td>\n",
       "      <td>12794627.0</td>\n",
       "      <td>12794627.0</td>\n",
       "      <td>12794627</td>\n",
       "    </tr>\n",
       "    <tr>\n",
       "      <th>unique</th>\n",
       "      <td>36760</td>\n",
       "      <td>NaN</td>\n",
       "      <td>34321</td>\n",
       "      <td>NaN</td>\n",
       "      <td>3</td>\n",
       "      <td>NaN</td>\n",
       "      <td>NaN</td>\n",
       "      <td>NaN</td>\n",
       "      <td>NaN</td>\n",
       "      <td>NaN</td>\n",
       "      <td>...</td>\n",
       "      <td>NaN</td>\n",
       "      <td>NaN</td>\n",
       "      <td>NaN</td>\n",
       "      <td>NaN</td>\n",
       "      <td>NaN</td>\n",
       "      <td>NaN</td>\n",
       "      <td>NaN</td>\n",
       "      <td>NaN</td>\n",
       "      <td>NaN</td>\n",
       "      <td>2</td>\n",
       "    </tr>\n",
       "    <tr>\n",
       "      <th>top</th>\n",
       "      <td>172.31.69.25</td>\n",
       "      <td>NaN</td>\n",
       "      <td>172.31.69.25</td>\n",
       "      <td>NaN</td>\n",
       "      <td>6</td>\n",
       "      <td>NaN</td>\n",
       "      <td>NaN</td>\n",
       "      <td>NaN</td>\n",
       "      <td>NaN</td>\n",
       "      <td>NaN</td>\n",
       "      <td>...</td>\n",
       "      <td>NaN</td>\n",
       "      <td>NaN</td>\n",
       "      <td>NaN</td>\n",
       "      <td>NaN</td>\n",
       "      <td>NaN</td>\n",
       "      <td>NaN</td>\n",
       "      <td>NaN</td>\n",
       "      <td>NaN</td>\n",
       "      <td>NaN</td>\n",
       "      <td>ddos</td>\n",
       "    </tr>\n",
       "    <tr>\n",
       "      <th>freq</th>\n",
       "      <td>1767182</td>\n",
       "      <td>NaN</td>\n",
       "      <td>2485191</td>\n",
       "      <td>NaN</td>\n",
       "      <td>10489144</td>\n",
       "      <td>NaN</td>\n",
       "      <td>NaN</td>\n",
       "      <td>NaN</td>\n",
       "      <td>NaN</td>\n",
       "      <td>NaN</td>\n",
       "      <td>...</td>\n",
       "      <td>NaN</td>\n",
       "      <td>NaN</td>\n",
       "      <td>NaN</td>\n",
       "      <td>NaN</td>\n",
       "      <td>NaN</td>\n",
       "      <td>NaN</td>\n",
       "      <td>NaN</td>\n",
       "      <td>NaN</td>\n",
       "      <td>NaN</td>\n",
       "      <td>6472647</td>\n",
       "    </tr>\n",
       "    <tr>\n",
       "      <th>mean</th>\n",
       "      <td>NaN</td>\n",
       "      <td>3.707054e+04</td>\n",
       "      <td>NaN</td>\n",
       "      <td>1.464290e+04</td>\n",
       "      <td>NaN</td>\n",
       "      <td>2018-01-28 01:43:58.150384640</td>\n",
       "      <td>8.223957e+06</td>\n",
       "      <td>2.719636e+01</td>\n",
       "      <td>4.974281e+00</td>\n",
       "      <td>1.125727e+03</td>\n",
       "      <td>...</td>\n",
       "      <td>8.117674e+00</td>\n",
       "      <td>1.369698e+05</td>\n",
       "      <td>6.936345e+04</td>\n",
       "      <td>2.049868e+05</td>\n",
       "      <td>9.030539e+04</td>\n",
       "      <td>3119924.0</td>\n",
       "      <td>1.093532e+05</td>\n",
       "      <td>3215790.5</td>\n",
       "      <td>3019043.5</td>\n",
       "      <td>NaN</td>\n",
       "    </tr>\n",
       "    <tr>\n",
       "      <th>min</th>\n",
       "      <td>NaN</td>\n",
       "      <td>0.000000e+00</td>\n",
       "      <td>NaN</td>\n",
       "      <td>0.000000e+00</td>\n",
       "      <td>NaN</td>\n",
       "      <td>2010-06-13 00:01:40</td>\n",
       "      <td>0.000000e+00</td>\n",
       "      <td>0.000000e+00</td>\n",
       "      <td>0.000000e+00</td>\n",
       "      <td>0.000000e+00</td>\n",
       "      <td>...</td>\n",
       "      <td>0.000000e+00</td>\n",
       "      <td>0.000000e+00</td>\n",
       "      <td>0.000000e+00</td>\n",
       "      <td>0.000000e+00</td>\n",
       "      <td>0.000000e+00</td>\n",
       "      <td>0.0</td>\n",
       "      <td>0.000000e+00</td>\n",
       "      <td>0.0</td>\n",
       "      <td>0.0</td>\n",
       "      <td>NaN</td>\n",
       "    </tr>\n",
       "    <tr>\n",
       "      <th>25%</th>\n",
       "      <td>NaN</td>\n",
       "      <td>4.430000e+02</td>\n",
       "      <td>NaN</td>\n",
       "      <td>8.000000e+01</td>\n",
       "      <td>NaN</td>\n",
       "      <td>2018-02-16 23:24:46</td>\n",
       "      <td>1.262000e+03</td>\n",
       "      <td>1.000000e+00</td>\n",
       "      <td>1.000000e+00</td>\n",
       "      <td>0.000000e+00</td>\n",
       "      <td>...</td>\n",
       "      <td>0.000000e+00</td>\n",
       "      <td>0.000000e+00</td>\n",
       "      <td>0.000000e+00</td>\n",
       "      <td>0.000000e+00</td>\n",
       "      <td>0.000000e+00</td>\n",
       "      <td>0.0</td>\n",
       "      <td>0.000000e+00</td>\n",
       "      <td>0.0</td>\n",
       "      <td>0.0</td>\n",
       "      <td>NaN</td>\n",
       "    </tr>\n",
       "    <tr>\n",
       "      <th>50%</th>\n",
       "      <td>NaN</td>\n",
       "      <td>5.059200e+04</td>\n",
       "      <td>NaN</td>\n",
       "      <td>8.000000e+01</td>\n",
       "      <td>NaN</td>\n",
       "      <td>2018-02-20 04:25:24</td>\n",
       "      <td>3.206600e+04</td>\n",
       "      <td>2.000000e+00</td>\n",
       "      <td>1.000000e+00</td>\n",
       "      <td>4.200000e+01</td>\n",
       "      <td>...</td>\n",
       "      <td>0.000000e+00</td>\n",
       "      <td>0.000000e+00</td>\n",
       "      <td>0.000000e+00</td>\n",
       "      <td>0.000000e+00</td>\n",
       "      <td>0.000000e+00</td>\n",
       "      <td>0.0</td>\n",
       "      <td>0.000000e+00</td>\n",
       "      <td>0.0</td>\n",
       "      <td>0.0</td>\n",
       "      <td>NaN</td>\n",
       "    </tr>\n",
       "    <tr>\n",
       "      <th>75%</th>\n",
       "      <td>NaN</td>\n",
       "      <td>5.621500e+04</td>\n",
       "      <td>NaN</td>\n",
       "      <td>3.855000e+04</td>\n",
       "      <td>NaN</td>\n",
       "      <td>2018-02-20 11:18:59</td>\n",
       "      <td>4.159749e+06</td>\n",
       "      <td>4.000000e+00</td>\n",
       "      <td>4.000000e+00</td>\n",
       "      <td>9.350000e+02</td>\n",
       "      <td>...</td>\n",
       "      <td>2.000000e+01</td>\n",
       "      <td>0.000000e+00</td>\n",
       "      <td>0.000000e+00</td>\n",
       "      <td>0.000000e+00</td>\n",
       "      <td>0.000000e+00</td>\n",
       "      <td>0.0</td>\n",
       "      <td>0.000000e+00</td>\n",
       "      <td>0.0</td>\n",
       "      <td>0.0</td>\n",
       "      <td>NaN</td>\n",
       "    </tr>\n",
       "    <tr>\n",
       "      <th>max</th>\n",
       "      <td>NaN</td>\n",
       "      <td>6.553500e+04</td>\n",
       "      <td>NaN</td>\n",
       "      <td>6.553500e+04</td>\n",
       "      <td>NaN</td>\n",
       "      <td>2018-02-22 00:35:54</td>\n",
       "      <td>4.294967e+09</td>\n",
       "      <td>3.096280e+05</td>\n",
       "      <td>2.919230e+05</td>\n",
       "      <td>9.908096e+06</td>\n",
       "      <td>...</td>\n",
       "      <td>4.800000e+01</td>\n",
       "      <td>1.132691e+08</td>\n",
       "      <td>7.523242e+07</td>\n",
       "      <td>1.132691e+08</td>\n",
       "      <td>1.132691e+08</td>\n",
       "      <td>119999736.0</td>\n",
       "      <td>7.639395e+07</td>\n",
       "      <td>119999736.0</td>\n",
       "      <td>119999736.0</td>\n",
       "      <td>NaN</td>\n",
       "    </tr>\n",
       "    <tr>\n",
       "      <th>std</th>\n",
       "      <td>NaN</td>\n",
       "      <td>2.521985e+04</td>\n",
       "      <td>NaN</td>\n",
       "      <td>2.306383e+04</td>\n",
       "      <td>NaN</td>\n",
       "      <td>NaN</td>\n",
       "      <td>2.514728e+07</td>\n",
       "      <td>1.720577e+03</td>\n",
       "      <td>2.509204e+02</td>\n",
       "      <td>5.479157e+04</td>\n",
       "      <td>...</td>\n",
       "      <td>9.138129e+00</td>\n",
       "      <td>2.301480e+06</td>\n",
       "      <td>1.399946e+06</td>\n",
       "      <td>3.050190e+06</td>\n",
       "      <td>1.934856e+06</td>\n",
       "      <td>12192611.0</td>\n",
       "      <td>1.414693e+06</td>\n",
       "      <td>12444760.0</td>\n",
       "      <td>12065274.0</td>\n",
       "      <td>NaN</td>\n",
       "    </tr>\n",
       "  </tbody>\n",
       "</table>\n",
       "<p>11 rows × 83 columns</p>\n",
       "</div>"
      ],
      "text/plain": [
       "              Src IP      Src Port        Dst IP      Dst Port  Protocol  \\\n",
       "count       12794627  1.279463e+07      12794627  1.279463e+07  12794627   \n",
       "unique         36760           NaN         34321           NaN         3   \n",
       "top     172.31.69.25           NaN  172.31.69.25           NaN         6   \n",
       "freq         1767182           NaN       2485191           NaN  10489144   \n",
       "mean             NaN  3.707054e+04           NaN  1.464290e+04       NaN   \n",
       "min              NaN  0.000000e+00           NaN  0.000000e+00       NaN   \n",
       "25%              NaN  4.430000e+02           NaN  8.000000e+01       NaN   \n",
       "50%              NaN  5.059200e+04           NaN  8.000000e+01       NaN   \n",
       "75%              NaN  5.621500e+04           NaN  3.855000e+04       NaN   \n",
       "max              NaN  6.553500e+04           NaN  6.553500e+04       NaN   \n",
       "std              NaN  2.521985e+04           NaN  2.306383e+04       NaN   \n",
       "\n",
       "                            Timestamp  Flow Duration  Tot Fwd Pkts  \\\n",
       "count                        12794627   1.279463e+07  1.279463e+07   \n",
       "unique                            NaN            NaN           NaN   \n",
       "top                               NaN            NaN           NaN   \n",
       "freq                              NaN            NaN           NaN   \n",
       "mean    2018-01-28 01:43:58.150384640   8.223957e+06  2.719636e+01   \n",
       "min               2010-06-13 00:01:40   0.000000e+00  0.000000e+00   \n",
       "25%               2018-02-16 23:24:46   1.262000e+03  1.000000e+00   \n",
       "50%               2018-02-20 04:25:24   3.206600e+04  2.000000e+00   \n",
       "75%               2018-02-20 11:18:59   4.159749e+06  4.000000e+00   \n",
       "max               2018-02-22 00:35:54   4.294967e+09  3.096280e+05   \n",
       "std                               NaN   2.514728e+07  1.720577e+03   \n",
       "\n",
       "        Tot Bwd Pkts  TotLen Fwd Pkts  ...  Fwd Seg Size Min   Active Mean  \\\n",
       "count   1.279463e+07     1.279463e+07  ...      1.279463e+07  1.279463e+07   \n",
       "unique           NaN              NaN  ...               NaN           NaN   \n",
       "top              NaN              NaN  ...               NaN           NaN   \n",
       "freq             NaN              NaN  ...               NaN           NaN   \n",
       "mean    4.974281e+00     1.125727e+03  ...      8.117674e+00  1.369698e+05   \n",
       "min     0.000000e+00     0.000000e+00  ...      0.000000e+00  0.000000e+00   \n",
       "25%     1.000000e+00     0.000000e+00  ...      0.000000e+00  0.000000e+00   \n",
       "50%     1.000000e+00     4.200000e+01  ...      0.000000e+00  0.000000e+00   \n",
       "75%     4.000000e+00     9.350000e+02  ...      2.000000e+01  0.000000e+00   \n",
       "max     2.919230e+05     9.908096e+06  ...      4.800000e+01  1.132691e+08   \n",
       "std     2.509204e+02     5.479157e+04  ...      9.138129e+00  2.301480e+06   \n",
       "\n",
       "          Active Std    Active Max    Active Min    Idle Mean      Idle Std  \\\n",
       "count   1.279463e+07  1.279463e+07  1.279463e+07   12794627.0  1.279463e+07   \n",
       "unique           NaN           NaN           NaN          NaN           NaN   \n",
       "top              NaN           NaN           NaN          NaN           NaN   \n",
       "freq             NaN           NaN           NaN          NaN           NaN   \n",
       "mean    6.936345e+04  2.049868e+05  9.030539e+04    3119924.0  1.093532e+05   \n",
       "min     0.000000e+00  0.000000e+00  0.000000e+00          0.0  0.000000e+00   \n",
       "25%     0.000000e+00  0.000000e+00  0.000000e+00          0.0  0.000000e+00   \n",
       "50%     0.000000e+00  0.000000e+00  0.000000e+00          0.0  0.000000e+00   \n",
       "75%     0.000000e+00  0.000000e+00  0.000000e+00          0.0  0.000000e+00   \n",
       "max     7.523242e+07  1.132691e+08  1.132691e+08  119999736.0  7.639395e+07   \n",
       "std     1.399946e+06  3.050190e+06  1.934856e+06   12192611.0  1.414693e+06   \n",
       "\n",
       "           Idle Max     Idle Min     Label  \n",
       "count    12794627.0   12794627.0  12794627  \n",
       "unique          NaN          NaN         2  \n",
       "top             NaN          NaN      ddos  \n",
       "freq            NaN          NaN   6472647  \n",
       "mean      3215790.5    3019043.5       NaN  \n",
       "min             0.0          0.0       NaN  \n",
       "25%             0.0          0.0       NaN  \n",
       "50%             0.0          0.0       NaN  \n",
       "75%             0.0          0.0       NaN  \n",
       "max     119999736.0  119999736.0       NaN  \n",
       "std      12444760.0   12065274.0       NaN  \n",
       "\n",
       "[11 rows x 83 columns]"
      ]
     },
     "execution_count": 5,
     "metadata": {},
     "output_type": "execute_result"
    }
   ],
   "source": [
    "df.describe(datetime_is_numeric=True,include='all')"
   ]
  },
  {
   "cell_type": "code",
   "execution_count": 6,
   "metadata": {},
   "outputs": [
    {
     "data": {
      "text/plain": [
       "0"
      ]
     },
     "execution_count": 6,
     "metadata": {},
     "output_type": "execute_result"
    }
   ],
   "source": [
    "colsToDrop = np.array(['Fwd Byts/b Avg', 'Fwd Pkts/b Avg', 'Fwd Blk Rate Avg', 'Bwd Byts/b Avg', 'Bwd Pkts/b Avg', 'Bwd Blk Rate Avg'])\n",
    "gc.collect()"
   ]
  },
  {
   "cell_type": "code",
   "execution_count": 7,
   "metadata": {},
   "outputs": [
    {
     "data": {
      "text/plain": [
       "0"
      ]
     },
     "execution_count": 7,
     "metadata": {},
     "output_type": "execute_result"
    }
   ],
   "source": [
    "# counting unique values and checking for skewness in the data\n",
    "rowbuilder = lambda col: {'col': col, 'unique_values': df[col].nunique(), 'most_frequent_value': df[col].value_counts().index[0],'frequency': df[col].value_counts(normalize=True).values[0]}\n",
    "frequency = [rowbuilder(col) for col in df.select_dtypes(include=['category']).columns]\n",
    "skewed = pd.DataFrame(frequency)\n",
    "skewed = skewed[skewed['frequency'] >= 0.95]\n",
    "colsToDrop = np.union1d(colsToDrop, skewed['col'].values)\n",
    "colsToDrop\n",
    "del skewed\n",
    "del rowbuilder\n",
    "del frequency\n",
    "gc.collect()\n"
   ]
  },
  {
   "cell_type": "code",
   "execution_count": 8,
   "metadata": {},
   "outputs": [],
   "source": [
    "missing = df.isna().sum()\n",
    "missing = pd.DataFrame({'count': missing, '% of total': missing/len(df)*100}, index=df.columns)\n",
    "colsToDrop = np.union1d(colsToDrop, missing[missing['% of total'] >= 50].index.values)\n",
    "dropnaCols = missing[(missing['% of total'] > 0) & (missing['% of total'] <= 5)].index.values"
   ]
  },
  {
   "cell_type": "code",
   "execution_count": 9,
   "metadata": {},
   "outputs": [],
   "source": [
    "df['Flow Byts/s'].replace(np.inf, np.nan, inplace=True)\n",
    "df['Flow Pkts/s'].replace(np.inf, np.nan, inplace=True)\n",
    "dropnaCols = np.union1d(dropnaCols, ['Flow Byts/s', 'Flow Pkts/s'])"
   ]
  },
  {
   "cell_type": "code",
   "execution_count": 10,
   "metadata": {},
   "outputs": [
    {
     "data": {
      "text/plain": [
       "array(['Bwd Blk Rate Avg', 'Bwd Byts/b Avg', 'Bwd PSH Flags',\n",
       "       'Bwd Pkts/b Avg', 'Bwd URG Flags', 'FIN Flag Cnt',\n",
       "       'Fwd Blk Rate Avg', 'Fwd Byts/b Avg', 'Fwd PSH Flags',\n",
       "       'Fwd Pkts/b Avg', 'Fwd URG Flags', 'URG Flag Cnt'], dtype=object)"
      ]
     },
     "execution_count": 10,
     "metadata": {},
     "output_type": "execute_result"
    }
   ],
   "source": [
    "colsToDrop"
   ]
  },
  {
   "cell_type": "code",
   "execution_count": 11,
   "metadata": {},
   "outputs": [
    {
     "data": {
      "text/plain": [
       "array(['Flow Byts/s', 'Flow Pkts/s'], dtype=object)"
      ]
     },
     "execution_count": 11,
     "metadata": {},
     "output_type": "execute_result"
    }
   ],
   "source": [
    "dropnaCols"
   ]
  },
  {
   "cell_type": "code",
   "execution_count": 12,
   "metadata": {},
   "outputs": [
    {
     "data": {
      "text/plain": [
       "0"
      ]
     },
     "execution_count": 12,
     "metadata": {},
     "output_type": "execute_result"
    }
   ],
   "source": [
    "df.drop(columns=colsToDrop, inplace=True)\n",
    "df.dropna(subset=dropnaCols, inplace=True)\n",
    "gc.collect()"
   ]
  },
  {
   "cell_type": "code",
   "execution_count": 13,
   "metadata": {},
   "outputs": [],
   "source": [
    "negValCols = ['Flow Pkts/s', 'Flow IAT Mean', 'Flow IAT Max', 'Flow IAT Min', 'Bwd IAT Tot', 'Bwd IAT Mean', 'Bwd IAT Max', 'Bwd IAT Min']\n",
    "for col in negValCols:\n",
    "  df = df[df[col] >= 0]"
   ]
  },
  {
   "cell_type": "code",
   "execution_count": 14,
   "metadata": {},
   "outputs": [
    {
     "data": {
      "text/html": [
       "<div>\n",
       "<style scoped>\n",
       "    .dataframe tbody tr th:only-of-type {\n",
       "        vertical-align: middle;\n",
       "    }\n",
       "\n",
       "    .dataframe tbody tr th {\n",
       "        vertical-align: top;\n",
       "    }\n",
       "\n",
       "    .dataframe thead th {\n",
       "        text-align: right;\n",
       "    }\n",
       "</style>\n",
       "<table border=\"1\" class=\"dataframe\">\n",
       "  <thead>\n",
       "    <tr style=\"text-align: right;\">\n",
       "      <th></th>\n",
       "      <th>Src Port</th>\n",
       "      <th>Dst Port</th>\n",
       "      <th>Flow Duration</th>\n",
       "      <th>Tot Fwd Pkts</th>\n",
       "      <th>Tot Bwd Pkts</th>\n",
       "      <th>TotLen Fwd Pkts</th>\n",
       "      <th>TotLen Bwd Pkts</th>\n",
       "      <th>Fwd Pkt Len Max</th>\n",
       "      <th>Fwd Pkt Len Min</th>\n",
       "      <th>Fwd Pkt Len Mean</th>\n",
       "      <th>...</th>\n",
       "      <th>Fwd Act Data Pkts</th>\n",
       "      <th>Fwd Seg Size Min</th>\n",
       "      <th>Active Mean</th>\n",
       "      <th>Active Std</th>\n",
       "      <th>Active Max</th>\n",
       "      <th>Active Min</th>\n",
       "      <th>Idle Mean</th>\n",
       "      <th>Idle Std</th>\n",
       "      <th>Idle Max</th>\n",
       "      <th>Idle Min</th>\n",
       "    </tr>\n",
       "  </thead>\n",
       "  <tbody>\n",
       "    <tr>\n",
       "      <th>count</th>\n",
       "      <td>1.274644e+07</td>\n",
       "      <td>1.274644e+07</td>\n",
       "      <td>1.274644e+07</td>\n",
       "      <td>1.274644e+07</td>\n",
       "      <td>1.274644e+07</td>\n",
       "      <td>1.274644e+07</td>\n",
       "      <td>1.274644e+07</td>\n",
       "      <td>1.274644e+07</td>\n",
       "      <td>1.274644e+07</td>\n",
       "      <td>1.274644e+07</td>\n",
       "      <td>...</td>\n",
       "      <td>1.274644e+07</td>\n",
       "      <td>1.274644e+07</td>\n",
       "      <td>1.274644e+07</td>\n",
       "      <td>1.274644e+07</td>\n",
       "      <td>1.274644e+07</td>\n",
       "      <td>1.274644e+07</td>\n",
       "      <td>12746440.0</td>\n",
       "      <td>1.274644e+07</td>\n",
       "      <td>12746440.0</td>\n",
       "      <td>12746440.0</td>\n",
       "    </tr>\n",
       "    <tr>\n",
       "      <th>mean</th>\n",
       "      <td>3.720421e+04</td>\n",
       "      <td>1.450681e+04</td>\n",
       "      <td>8.249082e+06</td>\n",
       "      <td>2.713027e+01</td>\n",
       "      <td>4.780524e+00</td>\n",
       "      <td>1.129742e+03</td>\n",
       "      <td>2.792193e+03</td>\n",
       "      <td>2.932930e+02</td>\n",
       "      <td>7.120621e+00</td>\n",
       "      <td>7.648284e+01</td>\n",
       "      <td>...</td>\n",
       "      <td>2.423183e+01</td>\n",
       "      <td>8.074001e+00</td>\n",
       "      <td>1.374450e+05</td>\n",
       "      <td>6.961098e+04</td>\n",
       "      <td>2.056971e+05</td>\n",
       "      <td>9.061242e+04</td>\n",
       "      <td>3131266.0</td>\n",
       "      <td>1.097409e+05</td>\n",
       "      <td>3227475.5</td>\n",
       "      <td>3030029.0</td>\n",
       "    </tr>\n",
       "    <tr>\n",
       "      <th>std</th>\n",
       "      <td>2.516860e+04</td>\n",
       "      <td>2.299506e+04</td>\n",
       "      <td>2.481229e+07</td>\n",
       "      <td>1.715307e+03</td>\n",
       "      <td>1.126214e+02</td>\n",
       "      <td>5.489494e+04</td>\n",
       "      <td>1.624195e+05</td>\n",
       "      <td>3.934372e+02</td>\n",
       "      <td>1.977750e+01</td>\n",
       "      <td>9.446007e+01</td>\n",
       "      <td>...</td>\n",
       "      <td>1.714818e+03</td>\n",
       "      <td>9.126341e+00</td>\n",
       "      <td>2.305507e+06</td>\n",
       "      <td>1.402556e+06</td>\n",
       "      <td>3.055658e+06</td>\n",
       "      <td>1.938153e+06</td>\n",
       "      <td>12213410.0</td>\n",
       "      <td>1.417103e+06</td>\n",
       "      <td>12465935.0</td>\n",
       "      <td>12085933.0</td>\n",
       "    </tr>\n",
       "    <tr>\n",
       "      <th>min</th>\n",
       "      <td>0.000000e+00</td>\n",
       "      <td>0.000000e+00</td>\n",
       "      <td>1.000000e+00</td>\n",
       "      <td>0.000000e+00</td>\n",
       "      <td>0.000000e+00</td>\n",
       "      <td>0.000000e+00</td>\n",
       "      <td>0.000000e+00</td>\n",
       "      <td>0.000000e+00</td>\n",
       "      <td>0.000000e+00</td>\n",
       "      <td>0.000000e+00</td>\n",
       "      <td>...</td>\n",
       "      <td>0.000000e+00</td>\n",
       "      <td>0.000000e+00</td>\n",
       "      <td>0.000000e+00</td>\n",
       "      <td>0.000000e+00</td>\n",
       "      <td>0.000000e+00</td>\n",
       "      <td>0.000000e+00</td>\n",
       "      <td>0.0</td>\n",
       "      <td>0.000000e+00</td>\n",
       "      <td>0.0</td>\n",
       "      <td>0.0</td>\n",
       "    </tr>\n",
       "    <tr>\n",
       "      <th>25%</th>\n",
       "      <td>4.430000e+02</td>\n",
       "      <td>8.000000e+01</td>\n",
       "      <td>1.280000e+03</td>\n",
       "      <td>1.000000e+00</td>\n",
       "      <td>1.000000e+00</td>\n",
       "      <td>0.000000e+00</td>\n",
       "      <td>0.000000e+00</td>\n",
       "      <td>0.000000e+00</td>\n",
       "      <td>0.000000e+00</td>\n",
       "      <td>0.000000e+00</td>\n",
       "      <td>...</td>\n",
       "      <td>0.000000e+00</td>\n",
       "      <td>0.000000e+00</td>\n",
       "      <td>0.000000e+00</td>\n",
       "      <td>0.000000e+00</td>\n",
       "      <td>0.000000e+00</td>\n",
       "      <td>0.000000e+00</td>\n",
       "      <td>0.0</td>\n",
       "      <td>0.000000e+00</td>\n",
       "      <td>0.0</td>\n",
       "      <td>0.0</td>\n",
       "    </tr>\n",
       "    <tr>\n",
       "      <th>50%</th>\n",
       "      <td>5.062200e+04</td>\n",
       "      <td>8.000000e+01</td>\n",
       "      <td>3.276800e+04</td>\n",
       "      <td>2.000000e+00</td>\n",
       "      <td>1.000000e+00</td>\n",
       "      <td>4.200000e+01</td>\n",
       "      <td>1.150000e+02</td>\n",
       "      <td>4.000000e+01</td>\n",
       "      <td>0.000000e+00</td>\n",
       "      <td>3.600000e+01</td>\n",
       "      <td>...</td>\n",
       "      <td>0.000000e+00</td>\n",
       "      <td>0.000000e+00</td>\n",
       "      <td>0.000000e+00</td>\n",
       "      <td>0.000000e+00</td>\n",
       "      <td>0.000000e+00</td>\n",
       "      <td>0.000000e+00</td>\n",
       "      <td>0.0</td>\n",
       "      <td>0.000000e+00</td>\n",
       "      <td>0.0</td>\n",
       "      <td>0.0</td>\n",
       "    </tr>\n",
       "    <tr>\n",
       "      <th>75%</th>\n",
       "      <td>5.624600e+04</td>\n",
       "      <td>3.799400e+04</td>\n",
       "      <td>4.167191e+06</td>\n",
       "      <td>4.000000e+00</td>\n",
       "      <td>4.000000e+00</td>\n",
       "      <td>9.350000e+02</td>\n",
       "      <td>3.580000e+02</td>\n",
       "      <td>6.770000e+02</td>\n",
       "      <td>0.000000e+00</td>\n",
       "      <td>1.426667e+02</td>\n",
       "      <td>...</td>\n",
       "      <td>1.000000e+00</td>\n",
       "      <td>2.000000e+01</td>\n",
       "      <td>0.000000e+00</td>\n",
       "      <td>0.000000e+00</td>\n",
       "      <td>0.000000e+00</td>\n",
       "      <td>0.000000e+00</td>\n",
       "      <td>0.0</td>\n",
       "      <td>0.000000e+00</td>\n",
       "      <td>0.0</td>\n",
       "      <td>0.0</td>\n",
       "    </tr>\n",
       "    <tr>\n",
       "      <th>max</th>\n",
       "      <td>6.553500e+04</td>\n",
       "      <td>6.553500e+04</td>\n",
       "      <td>1.200000e+08</td>\n",
       "      <td>3.096280e+05</td>\n",
       "      <td>2.969500e+04</td>\n",
       "      <td>9.908096e+06</td>\n",
       "      <td>4.092150e+07</td>\n",
       "      <td>2.336000e+04</td>\n",
       "      <td>1.472000e+03</td>\n",
       "      <td>4.660441e+03</td>\n",
       "      <td>...</td>\n",
       "      <td>3.096280e+05</td>\n",
       "      <td>4.800000e+01</td>\n",
       "      <td>1.132691e+08</td>\n",
       "      <td>7.523242e+07</td>\n",
       "      <td>1.132691e+08</td>\n",
       "      <td>1.132691e+08</td>\n",
       "      <td>119999736.0</td>\n",
       "      <td>7.639395e+07</td>\n",
       "      <td>119999736.0</td>\n",
       "      <td>119999736.0</td>\n",
       "    </tr>\n",
       "  </tbody>\n",
       "</table>\n",
       "<p>8 rows × 60 columns</p>\n",
       "</div>"
      ],
      "text/plain": [
       "           Src Port      Dst Port  Flow Duration  Tot Fwd Pkts  Tot Bwd Pkts  \\\n",
       "count  1.274644e+07  1.274644e+07   1.274644e+07  1.274644e+07  1.274644e+07   \n",
       "mean   3.720421e+04  1.450681e+04   8.249082e+06  2.713027e+01  4.780524e+00   \n",
       "std    2.516860e+04  2.299506e+04   2.481229e+07  1.715307e+03  1.126214e+02   \n",
       "min    0.000000e+00  0.000000e+00   1.000000e+00  0.000000e+00  0.000000e+00   \n",
       "25%    4.430000e+02  8.000000e+01   1.280000e+03  1.000000e+00  1.000000e+00   \n",
       "50%    5.062200e+04  8.000000e+01   3.276800e+04  2.000000e+00  1.000000e+00   \n",
       "75%    5.624600e+04  3.799400e+04   4.167191e+06  4.000000e+00  4.000000e+00   \n",
       "max    6.553500e+04  6.553500e+04   1.200000e+08  3.096280e+05  2.969500e+04   \n",
       "\n",
       "       TotLen Fwd Pkts  TotLen Bwd Pkts  Fwd Pkt Len Max  Fwd Pkt Len Min  \\\n",
       "count     1.274644e+07     1.274644e+07     1.274644e+07     1.274644e+07   \n",
       "mean      1.129742e+03     2.792193e+03     2.932930e+02     7.120621e+00   \n",
       "std       5.489494e+04     1.624195e+05     3.934372e+02     1.977750e+01   \n",
       "min       0.000000e+00     0.000000e+00     0.000000e+00     0.000000e+00   \n",
       "25%       0.000000e+00     0.000000e+00     0.000000e+00     0.000000e+00   \n",
       "50%       4.200000e+01     1.150000e+02     4.000000e+01     0.000000e+00   \n",
       "75%       9.350000e+02     3.580000e+02     6.770000e+02     0.000000e+00   \n",
       "max       9.908096e+06     4.092150e+07     2.336000e+04     1.472000e+03   \n",
       "\n",
       "       Fwd Pkt Len Mean  ...  Fwd Act Data Pkts  Fwd Seg Size Min  \\\n",
       "count      1.274644e+07  ...       1.274644e+07      1.274644e+07   \n",
       "mean       7.648284e+01  ...       2.423183e+01      8.074001e+00   \n",
       "std        9.446007e+01  ...       1.714818e+03      9.126341e+00   \n",
       "min        0.000000e+00  ...       0.000000e+00      0.000000e+00   \n",
       "25%        0.000000e+00  ...       0.000000e+00      0.000000e+00   \n",
       "50%        3.600000e+01  ...       0.000000e+00      0.000000e+00   \n",
       "75%        1.426667e+02  ...       1.000000e+00      2.000000e+01   \n",
       "max        4.660441e+03  ...       3.096280e+05      4.800000e+01   \n",
       "\n",
       "        Active Mean    Active Std    Active Max    Active Min    Idle Mean  \\\n",
       "count  1.274644e+07  1.274644e+07  1.274644e+07  1.274644e+07   12746440.0   \n",
       "mean   1.374450e+05  6.961098e+04  2.056971e+05  9.061242e+04    3131266.0   \n",
       "std    2.305507e+06  1.402556e+06  3.055658e+06  1.938153e+06   12213410.0   \n",
       "min    0.000000e+00  0.000000e+00  0.000000e+00  0.000000e+00          0.0   \n",
       "25%    0.000000e+00  0.000000e+00  0.000000e+00  0.000000e+00          0.0   \n",
       "50%    0.000000e+00  0.000000e+00  0.000000e+00  0.000000e+00          0.0   \n",
       "75%    0.000000e+00  0.000000e+00  0.000000e+00  0.000000e+00          0.0   \n",
       "max    1.132691e+08  7.523242e+07  1.132691e+08  1.132691e+08  119999736.0   \n",
       "\n",
       "           Idle Std     Idle Max     Idle Min  \n",
       "count  1.274644e+07   12746440.0   12746440.0  \n",
       "mean   1.097409e+05    3227475.5    3030029.0  \n",
       "std    1.417103e+06   12465935.0   12085933.0  \n",
       "min    0.000000e+00          0.0          0.0  \n",
       "25%    0.000000e+00          0.0          0.0  \n",
       "50%    0.000000e+00          0.0          0.0  \n",
       "75%    0.000000e+00          0.0          0.0  \n",
       "max    7.639395e+07  119999736.0  119999736.0  \n",
       "\n",
       "[8 rows x 60 columns]"
      ]
     },
     "execution_count": 14,
     "metadata": {},
     "output_type": "execute_result"
    }
   ],
   "source": [
    "df.describe()"
   ]
  },
  {
   "cell_type": "code",
   "execution_count": 18,
   "metadata": {},
   "outputs": [
    {
     "data": {
      "text/plain": [
       "Text(0.5, 1.0, 'Target Variable')"
      ]
     },
     "execution_count": 18,
     "metadata": {},
     "output_type": "execute_result"
    },
    {
     "data": {
      "image/png": "[encoded data removed]",
      "text/plain": [
       "<Figure size 432x288 with 2 Axes>"
      ]
     },
     "metadata": {
      "needs_background": "light"
     },
     "output_type": "display_data"
    }
   ],
   "source": [
    "# plotting the target variable\n",
    "labelCount = df['Label'].value_counts(normalize=True)*100\n",
    "ax = sns.barplot(x=labelCount.index, y=labelCount.values)\n",
    "ax1 = ax.twinx()\n",
    "ax.set_ylabel('Frequency [%]')\n",
    "ax1.set_ylabel(\"Count (in millions)\")\n",
    "ax1.set_ylim(0, len(df)/10**6)\n",
    "ax.set_ylim(0, 100)\n",
    "plt.title('Target Variable')"
   ]
  },
  {
   "cell_type": "code",
   "execution_count": 19,
   "metadata": {},
   "outputs": [
    {
     "data": {
      "text/plain": [
       "<AxesSubplot:xlabel='Protocol', ylabel='Count'>"
      ]
     },
     "execution_count": 19,
     "metadata": {},
     "output_type": "execute_result"
    },
    {
     "data": {
      "image/png": "[encoded data removed]",
      "text/plain": [
       "<Figure size 432x288 with 1 Axes>"
      ]
     },
     "metadata": {
      "needs_background": "light"
     },
     "output_type": "display_data"
    }
   ],
   "source": [
    "cnt = pd.crosstab(df['Protocol'], df['Label'])\n",
    "cnt = cnt.stack().reset_index().rename(columns={0: 'Count'})\n",
    "sns.barplot(x=cnt['Protocol'], y=cnt['Count'], hue=cnt['Label'])"
   ]
  },
  {
   "cell_type": "code",
   "execution_count": 20,
   "metadata": {},
   "outputs": [],
   "source": [
    "def getNetworkClass(col):\n",
    "  networkClasses = df[col].str.split('.',n=1, expand=True)[0]\n",
    "  networkClasses = networkClasses.astype('uint8')\n",
    "  networkClasses = pd.cut(\n",
    "      networkClasses,\n",
    "      bins=[0, 127, 191, 223, 239, np.inf],\n",
    "      labels=['A', 'B', 'C', 'D', 'E'],\n",
    "      include_lowest=True\n",
    "  )\n",
    "  return networkClasses\n",
    "\n",
    "srcNetworkClass = getNetworkClass('Src IP')\n",
    "dstNetworkClass = getNetworkClass('Dst IP')"
   ]
  },
  {
   "cell_type": "code",
   "execution_count": 21,
   "metadata": {},
   "outputs": [
    {
     "data": {
      "text/plain": [
       "<AxesSubplot:xlabel='Class', ylabel='Count'>"
      ]
     },
     "execution_count": 21,
     "metadata": {},
     "output_type": "execute_result"
    },
    {
     "data": {
      "image/png": "[encoded data removed]",
      "text/plain": [
       "<Figure size 432x288 with 1 Axes>"
      ]
     },
     "metadata": {
      "needs_background": "light"
     },
     "output_type": "display_data"
    }
   ],
   "source": [
    "# Src IP\n",
    "cnt = pd.crosstab(srcNetworkClass, df['Label'], rownames=['Class'])\n",
    "cnt = cnt.stack().reset_index().rename(columns={0: 'Count'})\n",
    "sns.barplot(x=cnt['Class'], y=cnt['Count'], hue=cnt['Label'])"
   ]
  },
  {
   "cell_type": "code",
   "execution_count": 22,
   "metadata": {},
   "outputs": [
    {
     "data": {
      "text/plain": [
       "<AxesSubplot:xlabel='Class', ylabel='Count'>"
      ]
     },
     "execution_count": 22,
     "metadata": {},
     "output_type": "execute_result"
    },
    {
     "data": {
      "image/png": "[encoded data removed]",
      "text/plain": [
       "<Figure size 432x288 with 1 Axes>"
      ]
     },
     "metadata": {
      "needs_background": "light"
     },
     "output_type": "display_data"
    }
   ],
   "source": [
    "# Dst IP\n",
    "cnt = pd.crosstab(dstNetworkClass, df['Label'], rownames=['Class'])\n",
    "cnt = cnt.stack().reset_index().rename(columns={0: 'Count'})\n",
    "sns.barplot(x=cnt['Class'], y=cnt['Count'], hue=cnt['Label'])"
   ]
  },
  {
   "cell_type": "code",
   "execution_count": 23,
   "metadata": {},
   "outputs": [
    {
     "data": {
      "text/plain": [
       "<AxesSubplot:xlabel='Tot Fwd Pkts', ylabel='Tot Bwd Pkts'>"
      ]
     },
     "execution_count": 23,
     "metadata": {},
     "output_type": "execute_result"
    },
    {
     "data": {
      "image/png": "[encoded data removed]",
      "text/plain": [
       "<Figure size 432x288 with 1 Axes>"
      ]
     },
     "metadata": {
      "needs_background": "light"
     },
     "output_type": "display_data"
    }
   ],
   "source": [
    "sns.scatterplot(x='Tot Fwd Pkts', y='Tot Bwd Pkts', hue='Label', data=df.sample(100000, random_state=42))"
   ]
  },
  {
   "cell_type": "code",
   "execution_count": 25,
   "metadata": {},
   "outputs": [
    {
     "data": {
      "text/plain": [
       "<AxesSubplot:xlabel='TotLen Fwd Pkts', ylabel='TotLen Bwd Pkts'>"
      ]
     },
     "execution_count": 25,
     "metadata": {},
     "output_type": "execute_result"
    },
    {
     "data": {
      "image/png": "[encoded data removed]",
      "text/plain": [
       "<Figure size 432x288 with 1 Axes>"
      ]
     },
     "metadata": {
      "needs_background": "light"
     },
     "output_type": "display_data"
    }
   ],
   "source": [
    "sns.scatterplot(x='TotLen Fwd Pkts', y='TotLen Bwd Pkts', hue='Label', data=df.sample(100000, random_state=42))"
   ]
  },
  {
   "cell_type": "code",
   "execution_count": 26,
   "metadata": {},
   "outputs": [],
   "source": [
    "num_cols = df.select_dtypes(exclude=['category', 'datetime64[ns]']).columns\n",
    "fwd_cols = [col for col in num_cols if 'Fwd' in col]\n",
    "bwd_cols = [col for col in num_cols if 'Bwd' in col]"
   ]
  },
  {
   "cell_type": "code",
   "execution_count": 39,
   "metadata": {},
   "outputs": [
    {
     "data": {
      "text/plain": [
       "<AxesSubplot:>"
      ]
     },
     "execution_count": 39,
     "metadata": {},
     "output_type": "execute_result"
    },
    {
     "data": {
      "image/png": "[encoded data removed]",
      "text/plain": [
       "<Figure size 720x720 with 2 Axes>"
      ]
     },
     "metadata": {
      "needs_background": "light"
     },
     "output_type": "display_data"
    }
   ],
   "source": [
    "corr = df[fwd_cols].corr()\n",
    "mask = np.triu(np.ones_like(corr, dtype=np.bool_))\n",
    "plt.subplots(figsize=(10,10))\n",
    "sns.heatmap(corr, mask=mask)"
   ]
  },
  {
   "cell_type": "code",
   "execution_count": 40,
   "metadata": {},
   "outputs": [
    {
     "data": {
      "text/plain": [
       "{'Fwd Act Data Pkts',\n",
       " 'Fwd Header Len',\n",
       " 'Fwd IAT Max',\n",
       " 'Fwd IAT Min',\n",
       " 'Fwd Pkt Len Mean',\n",
       " 'Fwd Pkt Len Std',\n",
       " 'Fwd Seg Size Avg',\n",
       " 'Fwd Seg Size Min',\n",
       " 'Subflow Fwd Byts',\n",
       " 'Subflow Fwd Pkts',\n",
       " 'TotLen Fwd Pkts'}"
      ]
     },
     "execution_count": 40,
     "metadata": {},
     "output_type": "execute_result"
    }
   ],
   "source": [
    "def getCorrelatedFeatures(corr):\n",
    "  correlatedFeatures = set()\n",
    "  for i in range(len(corr.columns)):\n",
    "    for j in range(i):\n",
    "      if abs(corr.iloc[i, j]) > 0.8:\n",
    "        correlatedFeatures.add(corr.columns[i])\n",
    "  return correlatedFeatures\n",
    "\n",
    "correlatedFeatures = set()\n",
    "correlatedFeatures = correlatedFeatures | getCorrelatedFeatures(corr)\n",
    "correlatedFeatures"
   ]
  },
  {
   "cell_type": "code",
   "execution_count": 30,
   "metadata": {},
   "outputs": [
    {
     "data": {
      "text/plain": [
       "<AxesSubplot:>"
      ]
     },
     "execution_count": 30,
     "metadata": {},
     "output_type": "execute_result"
    },
    {
     "data": {
      "image/png": "[encoded data removed]",
      "text/plain": [
       "<Figure size 720x720 with 2 Axes>"
      ]
     },
     "metadata": {
      "needs_background": "light"
     },
     "output_type": "display_data"
    }
   ],
   "source": [
    "corr = df[bwd_cols].corr()\n",
    "mask = np.triu(np.ones_like(corr, dtype=np.bool_))\n",
    "plt.subplots(figsize=(10,10))\n",
    "sns.heatmap(corr, mask=mask)"
   ]
  },
  {
   "cell_type": "code",
   "execution_count": 31,
   "metadata": {},
   "outputs": [
    {
     "data": {
      "text/plain": [
       "{'Bwd Header Len',\n",
       " 'Bwd IAT Max',\n",
       " 'Bwd IAT Min',\n",
       " 'Bwd Pkt Len Mean',\n",
       " 'Bwd Pkt Len Std',\n",
       " 'Bwd Seg Size Avg',\n",
       " 'Fwd Act Data Pkts',\n",
       " 'Fwd Header Len',\n",
       " 'Fwd IAT Max',\n",
       " 'Fwd IAT Min',\n",
       " 'Fwd Pkt Len Mean',\n",
       " 'Fwd Pkt Len Std',\n",
       " 'Fwd Seg Size Avg',\n",
       " 'Fwd Seg Size Min',\n",
       " 'Subflow Bwd Byts',\n",
       " 'Subflow Bwd Pkts',\n",
       " 'Subflow Fwd Byts',\n",
       " 'Subflow Fwd Pkts',\n",
       " 'TotLen Bwd Pkts',\n",
       " 'TotLen Fwd Pkts'}"
      ]
     },
     "execution_count": 31,
     "metadata": {},
     "output_type": "execute_result"
    }
   ],
   "source": [
    "correlatedFeatures = correlatedFeatures | getCorrelatedFeatures(corr)\n",
    "correlatedFeatures"
   ]
  },
  {
   "cell_type": "code",
   "execution_count": 33,
   "metadata": {},
   "outputs": [],
   "source": [
    "num_cols = df.select_dtypes(exclude=['category', 'datetime64[ns]']).columns\n",
    "cols = [col for col in num_cols if 'Fwd' in col or 'Bwd' in col]"
   ]
  },
  {
   "cell_type": "code",
   "execution_count": 38,
   "metadata": {},
   "outputs": [
    {
     "data": {
      "text/plain": [
       "<AxesSubplot:>"
      ]
     },
     "execution_count": 38,
     "metadata": {},
     "output_type": "execute_result"
    },
    {
     "data": {
      "image/png": "[encoded data removed]",
      "text/plain": [
       "<Figure size 720x720 with 2 Axes>"
      ]
     },
     "metadata": {
      "needs_background": "light"
     },
     "output_type": "display_data"
    }
   ],
   "source": [
    "corr = df[cols].corr()\n",
    "mask = np.triu(np.ones_like(corr, dtype=np.bool_))\n",
    "plt.subplots(figsize=(10,10))\n",
    "sns.heatmap(corr, mask=mask)"
   ]
  },
  {
   "cell_type": "code",
   "execution_count": 37,
   "metadata": {},
   "outputs": [
    {
     "data": {
      "text/plain": [
       "{'Bwd Header Len',\n",
       " 'Bwd IAT Max',\n",
       " 'Bwd IAT Min',\n",
       " 'Bwd IAT Tot',\n",
       " 'Bwd Pkt Len Mean',\n",
       " 'Bwd Pkt Len Std',\n",
       " 'Bwd Seg Size Avg',\n",
       " 'Fwd Act Data Pkts',\n",
       " 'Fwd Header Len',\n",
       " 'Fwd IAT Max',\n",
       " 'Fwd IAT Min',\n",
       " 'Fwd Pkt Len Mean',\n",
       " 'Fwd Pkt Len Std',\n",
       " 'Fwd Seg Size Avg',\n",
       " 'Fwd Seg Size Min',\n",
       " 'Subflow Bwd Byts',\n",
       " 'Subflow Bwd Pkts',\n",
       " 'Subflow Fwd Byts',\n",
       " 'Subflow Fwd Pkts',\n",
       " 'TotLen Bwd Pkts',\n",
       " 'TotLen Fwd Pkts'}"
      ]
     },
     "execution_count": 37,
     "metadata": {},
     "output_type": "execute_result"
    }
   ],
   "source": [
    "correlatedFeatures = correlatedFeatures | getCorrelatedFeatures(corr)\n",
    "correlatedFeatures"
   ]
  },
  {
   "cell_type": "code",
   "execution_count": 15,
   "metadata": {},
   "outputs": [],
   "source": [
    "import socket\n",
    "import struct\n",
    "\n",
    "def ip2int(addr):\n",
    "    return struct.unpack(\"!I\", socket.inet_aton(addr))[0]"
   ]
  },
  {
   "cell_type": "code",
   "execution_count": 16,
   "metadata": {},
   "outputs": [],
   "source": [
    "df.loc[:,'Src IP'] = df['Src IP'].apply(lambda x:ip2int(x)) \n",
    "df.loc[:,'Dst IP'] = df['Dst IP'].apply(lambda x:ip2int(x))\n",
    "df.loc[:,'Timestamp'] = df['Timestamp'].values.astype(float)\n",
    "df.loc[:,'SYN Flag Cnt'] = df['SYN Flag Cnt'].apply(lambda x:int(x))\n",
    "df.loc[:,'RST Flag Cnt'] = df['RST Flag Cnt'].apply(lambda x:int(x))\n",
    "df.loc[:,'PSH Flag Cnt'] = df['PSH Flag Cnt'].apply(lambda x:int(x))\n",
    "df.loc[:,'ACK Flag Cnt'] = df['ACK Flag Cnt'].apply(lambda x:int(x))\n",
    "df.loc[:,'CWE Flag Count'] = df['CWE Flag Count'].apply(lambda x:int(x))\n",
    "df.loc[:,'ECE Flag Cnt'] = df['ECE Flag Cnt'].apply(lambda x:int(x))\n",
    "df.loc[:,'Protocol'] = df['Protocol'].apply(lambda x:int(x))"
   ]
  },
  {
   "cell_type": "code",
   "execution_count": 17,
   "metadata": {},
   "outputs": [],
   "source": [
    "df.to_csv('../data/intervehicle.csv',index=False)"
   ]
  },
  {
   "cell_type": "code",
   "execution_count": 19,
   "metadata": {},
   "outputs": [],
   "source": [
    "from sklearn.model_selection import train_test_split\n",
    "\n",
    "y_data = df.pop('Label')\n",
    "x_data = df"
   ]
  },
  {
   "cell_type": "code",
   "execution_count": 23,
   "metadata": {},
   "outputs": [],
   "source": [
    "train_x,test_x,train_y,test_y = train_test_split(x_data,y_data,test_size=0.2,random_state=0,shuffle=True)"
   ]
  },
  {
   "cell_type": "code",
   "execution_count": 24,
   "metadata": {},
   "outputs": [],
   "source": [
    "train_x = train_x.reset_index(drop=True)\n",
    "test_x = test_x.reset_index(drop=True) \n",
    "train_y = train_y.reset_index(drop=True)\n",
    "test_y = test_y.reset_index(drop=True)"
   ]
  },
  {
   "cell_type": "code",
   "execution_count": 25,
   "metadata": {},
   "outputs": [],
   "source": [
    "train_x['Label'] = train_y\n",
    "test_x['Label'] = test_y"
   ]
  },
  {
   "cell_type": "code",
   "execution_count": 27,
   "metadata": {},
   "outputs": [],
   "source": [
    "train_x.to_csv('../data/train-intervehicle.csv',index=False)\n",
    "test_x.to_csv('../data/test-intervehicle.csv',index=False)"
   ]
  }
 ],
 "metadata": {
  "interpreter": {
   "hash": "759c5e0d3d88a894482aeabccbd08c19af37ecec916291e5ab4326292ca84839"
  },
  "kernelspec": {
   "display_name": "Python 3.10.4 64-bit",
   "language": "python",
   "name": "python3"
  },
  "language_info": {
   "codemirror_mode": {
    "name": "ipython",
    "version": 3
   },
   "file_extension": ".py",
   "mimetype": "text/x-python",
   "name": "python",
   "nbconvert_exporter": "python",
   "pygments_lexer": "ipython3",
   "version": "3.10.7"
  },
  "orig_nbformat": 4
 },
 "nbformat": 4,
 "nbformat_minor": 2
}
