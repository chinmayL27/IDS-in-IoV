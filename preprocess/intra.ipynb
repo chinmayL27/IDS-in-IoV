{
 "cells": [
  {
   "cell_type": "code",
   "execution_count": 7,
   "metadata": {},
   "outputs": [],
   "source": [
    "import numpy as np\n",
    "import pandas as pd"
   ]
  },
  {
   "cell_type": "code",
   "execution_count": 8,
   "metadata": {},
   "outputs": [],
   "source": [
    "# columns = ['Timestamp', 'CAN ID', 'DLC', 'DATA[0]', 'DATA[1]', 'DATA[2]', 'DATA[3]', 'DATA[4]', 'DATA[5]', 'DATA[6]', 'DATA[7]', 'Flag']\n",
    "dos = pd.read_table('../dataset/DoS_dataset.csv', header=None)\n",
    "fuzzy = pd.read_table('../dataset/Fuzzy_dataset.csv', header=None)\n",
    "gear = pd.read_table('../dataset/gear_dataset.csv', header=None)\n",
    "rpm = pd.read_table('../dataset/RPM_dataset.csv', header=None)"
   ]
  },
  {
   "cell_type": "code",
   "execution_count": 9,
   "metadata": {},
   "outputs": [],
   "source": [
    "# 0-Normal 1-DoS 2-Fuzzy 3-Spoof \n",
    "dos[4] = dos[0].apply(lambda x: 'DoS' if (x.split(',')[-1]=='T') else 'Normal')\n",
    "fuzzy[4] = fuzzy[0].apply(lambda x: 'Fuzzy' if (x.split(',')[-1]=='T') else 'Normal')\n",
    "gear[4] = gear[0].apply(lambda x: 'Spoof' if (x.split(',')[-1]=='T') else 'Normal')\n",
    "rpm[4] = rpm[0].apply(lambda x: 'Spoof' if (x.split(',')[-1]=='T') else 'Normal')"
   ]
  },
  {
   "cell_type": "code",
   "execution_count": null,
   "metadata": {},
   "outputs": [],
   "source": [
    "# DLC\n",
    "dos[3] = dos[0].apply(lambda x:x.split(',')[2])\n",
    "fuzzy[3] = fuzzy[0].apply(lambda x:x.split(',')[2])\n",
    "gear[3] = gear[0].apply(lambda x:x.split(',')[2])\n",
    "rpm[3] = rpm[0].apply(lambda x:x.split(',')[2])"
   ]
  },
  {
   "cell_type": "code",
   "execution_count": null,
   "metadata": {},
   "outputs": [],
   "source": [
    "# combining all hex bytes of DATA to integer \n",
    "dos[2] = dos[0].apply(lambda x:int(\"0x\"+\"\".join(x.split(',')[3:-1]),16))\n",
    "fuzzy[2] = fuzzy[0].apply(lambda x:int(\"0x\"+\"\".join(x.split(',')[3:-1]),16))\n",
    "gear[2] = gear[0].apply(lambda x:int(\"0x\"+\"\".join(x.split(',')[3:-1]),16))\n",
    "rpm[2] = rpm[0].apply(lambda x:int(\"0x\"+\"\".join(x.split(',')[3:-1]),16))"
   ]
  },
  {
   "cell_type": "code",
   "execution_count": null,
   "metadata": {},
   "outputs": [],
   "source": [
    "# converting hex CAN ID to integer ID\n",
    "dos[1] = dos[0].apply(lambda x:int(\"0x\"+x.split(',')[1],16))\n",
    "fuzzy[1] = fuzzy[0].apply(lambda x:int(\"0x\"+x.split(',')[1],16))\n",
    "gear[1] = gear[0].apply(lambda x:int(\"0x\"+x.split(',')[1],16))\n",
    "rpm[1] = rpm[0].apply(lambda x:int(\"0x\"+x.split(',')[1],16))"
   ]
  },
  {
   "cell_type": "code",
   "execution_count": null,
   "metadata": {},
   "outputs": [],
   "source": [
    "dos.loc[:,0] = dos[0].apply(lambda x:x.split(',')[0])\n",
    "fuzzy.loc[:,0] = fuzzy[0].apply(lambda x:x.split(',')[0])\n",
    "gear.loc[:,0] = gear[0].apply(lambda x:x.split(',')[0])\n",
    "rpm.loc[:,0] = rpm[0].apply(lambda x:x.split(',')[0])"
   ]
  },
  {
   "cell_type": "code",
   "execution_count": null,
   "metadata": {},
   "outputs": [],
   "source": [
    "data = pd.concat([dos,fuzzy,gear,rpm])"
   ]
  },
  {
   "cell_type": "code",
   "execution_count": null,
   "metadata": {},
   "outputs": [],
   "source": [
    "data.to_csv('../data/intravehicle.csv',index=False)"
   ]
  }
 ],
 "metadata": {
  "interpreter": {
   "hash": "759c5e0d3d88a894482aeabccbd08c19af37ecec916291e5ab4326292ca84839"
  },
  "kernelspec": {
   "display_name": "Python 3.10.4 64-bit",
   "language": "python",
   "name": "python3"
  },
  "language_info": {
   "codemirror_mode": {
    "name": "ipython",
    "version": 3
   },
   "file_extension": ".py",
   "mimetype": "text/x-python",
   "name": "python",
   "nbconvert_exporter": "python",
   "pygments_lexer": "ipython3",
   "version": "3.10.4"
  },
  "orig_nbformat": 4
 },
 "nbformat": 4,
 "nbformat_minor": 2
}
