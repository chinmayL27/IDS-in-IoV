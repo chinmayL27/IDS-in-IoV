{
 "cells": [
  {
   "cell_type": "code",
   "execution_count": 2,
   "metadata": {},
   "outputs": [],
   "source": [
    "import numpy as np\n",
    "import pandas as pd\n",
    "import seaborn as sns\n",
    "import matplotlib.pyplot as plt"
   ]
  },
  {
   "cell_type": "code",
   "execution_count": 3,
   "metadata": {},
   "outputs": [],
   "source": [
    "# columns = ['Timestamp', 'CAN ID', 'DLC', 'DATA[0]', 'DATA[1]', 'DATA[2]', 'DATA[3]', 'DATA[4]', 'DATA[5]', 'DATA[6]', 'DATA[7]', 'Flag']\n",
    "dos = pd.read_table('../dataset/DoS_dataset.csv', header=None)\n",
    "fuzzy = pd.read_table('../dataset/Fuzzy_dataset.csv', header=None)\n",
    "gear = pd.read_table('../dataset/gear_dataset.csv', header=None)\n",
    "rpm = pd.read_table('../dataset/RPM_dataset.csv', header=None)"
   ]
  },
  {
   "cell_type": "code",
   "execution_count": 4,
   "metadata": {},
   "outputs": [],
   "source": [
    "# 0-Normal 1-DoS 2-Fuzzy 3-Spoof \n",
    "dos[4] = dos[0].apply(lambda x: 'DoS' if (x.split(',')[-1]=='T') else 'Normal')\n",
    "fuzzy[4] = fuzzy[0].apply(lambda x: 'Fuzzy' if (x.split(',')[-1]=='T') else 'Normal')\n",
    "gear[4] = gear[0].apply(lambda x: 'Spoof' if (x.split(',')[-1]=='T') else 'Normal')\n",
    "rpm[4] = rpm[0].apply(lambda x: 'Spoof' if (x.split(',')[-1]=='T') else 'Normal')"
   ]
  },
  {
   "cell_type": "code",
   "execution_count": 5,
   "metadata": {},
   "outputs": [],
   "source": [
    "# DLC\n",
    "dos[3] = dos[0].apply(lambda x:x.split(',')[2])\n",
    "fuzzy[3] = fuzzy[0].apply(lambda x:x.split(',')[2])\n",
    "gear[3] = gear[0].apply(lambda x:x.split(',')[2])\n",
    "rpm[3] = rpm[0].apply(lambda x:x.split(',')[2])"
   ]
  },
  {
   "cell_type": "code",
   "execution_count": 6,
   "metadata": {},
   "outputs": [],
   "source": [
    "# combining all hex bytes of DATA to integer \n",
    "dos[2] = dos[0].apply(lambda x:int(\"0x\"+\"\".join(x.split(',')[3:-1]),16))\n",
    "fuzzy[2] = fuzzy[0].apply(lambda x:int(\"0x\"+\"\".join(x.split(',')[3:-1]),16))\n",
    "gear[2] = gear[0].apply(lambda x:int(\"0x\"+\"\".join(x.split(',')[3:-1]),16))\n",
    "rpm[2] = rpm[0].apply(lambda x:int(\"0x\"+\"\".join(x.split(',')[3:-1]),16))"
   ]
  },
  {
   "cell_type": "code",
   "execution_count": 7,
   "metadata": {},
   "outputs": [],
   "source": [
    "# converting hex CAN ID to integer ID\n",
    "dos[1] = dos[0].apply(lambda x:int(\"0x\"+x.split(',')[1],16))\n",
    "fuzzy[1] = fuzzy[0].apply(lambda x:int(\"0x\"+x.split(',')[1],16))\n",
    "gear[1] = gear[0].apply(lambda x:int(\"0x\"+x.split(',')[1],16))\n",
    "rpm[1] = rpm[0].apply(lambda x:int(\"0x\"+x.split(',')[1],16))"
   ]
  },
  {
   "cell_type": "code",
   "execution_count": 8,
   "metadata": {},
   "outputs": [],
   "source": [
    "dos.loc[:,0] = dos[0].apply(lambda x:x.split(',')[0])\n",
    "fuzzy.loc[:,0] = fuzzy[0].apply(lambda x:x.split(',')[0])\n",
    "gear.loc[:,0] = gear[0].apply(lambda x:x.split(',')[0])\n",
    "rpm.loc[:,0] = rpm[0].apply(lambda x:x.split(',')[0])"
   ]
  },
  {
   "cell_type": "code",
   "execution_count": 9,
   "metadata": {},
   "outputs": [],
   "source": [
    "data = pd.concat([dos,fuzzy,gear,rpm])"
   ]
  },
  {
   "cell_type": "code",
   "execution_count": 10,
   "metadata": {},
   "outputs": [
    {
     "data": {
      "text/html": [
       "<div>\n",
       "<style scoped>\n",
       "    .dataframe tbody tr th:only-of-type {\n",
       "        vertical-align: middle;\n",
       "    }\n",
       "\n",
       "    .dataframe tbody tr th {\n",
       "        vertical-align: top;\n",
       "    }\n",
       "\n",
       "    .dataframe thead th {\n",
       "        text-align: right;\n",
       "    }\n",
       "</style>\n",
       "<table border=\"1\" class=\"dataframe\">\n",
       "  <thead>\n",
       "    <tr style=\"text-align: right;\">\n",
       "      <th></th>\n",
       "      <th>0</th>\n",
       "      <th>4</th>\n",
       "      <th>3</th>\n",
       "      <th>2</th>\n",
       "      <th>1</th>\n",
       "    </tr>\n",
       "  </thead>\n",
       "  <tbody>\n",
       "    <tr>\n",
       "      <th>count</th>\n",
       "      <td>16569475</td>\n",
       "      <td>16569475</td>\n",
       "      <td>16569475</td>\n",
       "      <td>1.656948e+07</td>\n",
       "      <td>1.656948e+07</td>\n",
       "    </tr>\n",
       "    <tr>\n",
       "      <th>unique</th>\n",
       "      <td>13896271</td>\n",
       "      <td>4</td>\n",
       "      <td>4</td>\n",
       "      <td>NaN</td>\n",
       "      <td>NaN</td>\n",
       "    </tr>\n",
       "    <tr>\n",
       "      <th>top</th>\n",
       "      <td>1478200906.659211</td>\n",
       "      <td>Normal</td>\n",
       "      <td>8</td>\n",
       "      <td>NaN</td>\n",
       "      <td>NaN</td>\n",
       "    </tr>\n",
       "    <tr>\n",
       "      <th>freq</th>\n",
       "      <td>4</td>\n",
       "      <td>14237958</td>\n",
       "      <td>16368810</td>\n",
       "      <td>NaN</td>\n",
       "      <td>NaN</td>\n",
       "    </tr>\n",
       "    <tr>\n",
       "      <th>mean</th>\n",
       "      <td>NaN</td>\n",
       "      <td>NaN</td>\n",
       "      <td>NaN</td>\n",
       "      <td>4.160078e+18</td>\n",
       "      <td>7.048842e+02</td>\n",
       "    </tr>\n",
       "    <tr>\n",
       "      <th>std</th>\n",
       "      <td>NaN</td>\n",
       "      <td>NaN</td>\n",
       "      <td>NaN</td>\n",
       "      <td>6.451939e+18</td>\n",
       "      <td>3.977546e+02</td>\n",
       "    </tr>\n",
       "    <tr>\n",
       "      <th>min</th>\n",
       "      <td>NaN</td>\n",
       "      <td>NaN</td>\n",
       "      <td>NaN</td>\n",
       "      <td>0.000000e+00</td>\n",
       "      <td>0.000000e+00</td>\n",
       "    </tr>\n",
       "    <tr>\n",
       "      <th>25%</th>\n",
       "      <td>NaN</td>\n",
       "      <td>NaN</td>\n",
       "      <td>NaN</td>\n",
       "      <td>9.007199e+15</td>\n",
       "      <td>3.390000e+02</td>\n",
       "    </tr>\n",
       "    <tr>\n",
       "      <th>50%</th>\n",
       "      <td>NaN</td>\n",
       "      <td>NaN</td>\n",
       "      <td>NaN</td>\n",
       "      <td>5.764608e+17</td>\n",
       "      <td>7.900000e+02</td>\n",
       "    </tr>\n",
       "    <tr>\n",
       "      <th>75%</th>\n",
       "      <td>NaN</td>\n",
       "      <td>NaN</td>\n",
       "      <td>NaN</td>\n",
       "      <td>4.983555e+18</td>\n",
       "      <td>1.072000e+03</td>\n",
       "    </tr>\n",
       "    <tr>\n",
       "      <th>max</th>\n",
       "      <td>NaN</td>\n",
       "      <td>NaN</td>\n",
       "      <td>NaN</td>\n",
       "      <td>1.844672e+19</td>\n",
       "      <td>2.047000e+03</td>\n",
       "    </tr>\n",
       "  </tbody>\n",
       "</table>\n",
       "</div>"
      ],
      "text/plain": [
       "                        0         4         3             2             1\n",
       "count            16569475  16569475  16569475  1.656948e+07  1.656948e+07\n",
       "unique           13896271         4         4           NaN           NaN\n",
       "top     1478200906.659211    Normal         8           NaN           NaN\n",
       "freq                    4  14237958  16368810           NaN           NaN\n",
       "mean                  NaN       NaN       NaN  4.160078e+18  7.048842e+02\n",
       "std                   NaN       NaN       NaN  6.451939e+18  3.977546e+02\n",
       "min                   NaN       NaN       NaN  0.000000e+00  0.000000e+00\n",
       "25%                   NaN       NaN       NaN  9.007199e+15  3.390000e+02\n",
       "50%                   NaN       NaN       NaN  5.764608e+17  7.900000e+02\n",
       "75%                   NaN       NaN       NaN  4.983555e+18  1.072000e+03\n",
       "max                   NaN       NaN       NaN  1.844672e+19  2.047000e+03"
      ]
     },
     "execution_count": 10,
     "metadata": {},
     "output_type": "execute_result"
    }
   ],
   "source": [
    "data.describe(include='all')"
   ]
  },
  {
   "cell_type": "code",
   "execution_count": 10,
   "metadata": {},
   "outputs": [
    {
     "data": {
      "text/plain": [
       "Text(0.5, 1.0, 'Target Variable')"
      ]
     },
     "execution_count": 10,
     "metadata": {},
     "output_type": "execute_result"
    },
    {
     "data": {
      "image/png": "[encoded data removed]",
      "text/plain": [
       "<Figure size 432x288 with 2 Axes>"
      ]
     },
     "metadata": {
      "needs_background": "light"
     },
     "output_type": "display_data"
    }
   ],
   "source": [
    "# plotting the target variable\n",
    "labelCount = data[4].value_counts(normalize=True)*100\n",
    "ax = sns.barplot(x=labelCount.index, y=labelCount.values)\n",
    "ax1 = ax.twinx()\n",
    "ax.set_ylabel('Frequency [%]')\n",
    "ax1.set_ylabel(\"Count (in millions)\")\n",
    "ax1.set_ylim(0, len(data)/10**6)\n",
    "ax.set_ylim(0, 100)\n",
    "plt.title('Target Variable')"
   ]
  },
  {
   "cell_type": "code",
   "execution_count": 12,
   "metadata": {},
   "outputs": [
    {
     "data": {
      "text/plain": [
       "<AxesSubplot:xlabel='3', ylabel='4'>"
      ]
     },
     "execution_count": 12,
     "metadata": {},
     "output_type": "execute_result"
    },
    {
     "data": {
      "image/png": "[encoded data removed]",
      "text/plain": [
       "<Figure size 432x288 with 1 Axes>"
      ]
     },
     "metadata": {
      "needs_background": "light"
     },
     "output_type": "display_data"
    }
   ],
   "source": [
    "# DLC vs Labels\n",
    "sns.scatterplot(x=3, y=4, hue=4, data=data.sample(100000, random_state=42))"
   ]
  },
  {
   "cell_type": "code",
   "execution_count": 19,
   "metadata": {},
   "outputs": [
    {
     "data": {
      "text/html": [
       "<div>\n",
       "<style scoped>\n",
       "    .dataframe tbody tr th:only-of-type {\n",
       "        vertical-align: middle;\n",
       "    }\n",
       "\n",
       "    .dataframe tbody tr th {\n",
       "        vertical-align: top;\n",
       "    }\n",
       "\n",
       "    .dataframe thead th {\n",
       "        text-align: right;\n",
       "    }\n",
       "</style>\n",
       "<table border=\"1\" class=\"dataframe\">\n",
       "  <thead>\n",
       "    <tr style=\"text-align: right;\">\n",
       "      <th></th>\n",
       "      <th>2</th>\n",
       "      <th>1</th>\n",
       "    </tr>\n",
       "  </thead>\n",
       "  <tbody>\n",
       "    <tr>\n",
       "      <th>2</th>\n",
       "      <td>1.000000</td>\n",
       "      <td>0.174284</td>\n",
       "    </tr>\n",
       "    <tr>\n",
       "      <th>1</th>\n",
       "      <td>0.174284</td>\n",
       "      <td>1.000000</td>\n",
       "    </tr>\n",
       "  </tbody>\n",
       "</table>\n",
       "</div>"
      ],
      "text/plain": [
       "          2         1\n",
       "2  1.000000  0.174284\n",
       "1  0.174284  1.000000"
      ]
     },
     "execution_count": 19,
     "metadata": {},
     "output_type": "execute_result"
    }
   ],
   "source": [
    "# correlation between CAN ID and DATA\n",
    "data.corr()"
   ]
  },
  {
   "cell_type": "code",
   "execution_count": null,
   "metadata": {},
   "outputs": [],
   "source": [
    "data.to_csv('../data/intravehicle.csv',index=False)"
   ]
  }
 ],
 "metadata": {
  "interpreter": {
   "hash": "759c5e0d3d88a894482aeabccbd08c19af37ecec916291e5ab4326292ca84839"
  },
  "kernelspec": {
   "display_name": "Python 3.10.4 64-bit",
   "language": "python",
   "name": "python3"
  },
  "language_info": {
   "codemirror_mode": {
    "name": "ipython",
    "version": 3
   },
   "file_extension": ".py",
   "mimetype": "text/x-python",
   "name": "python",
   "nbconvert_exporter": "python",
   "pygments_lexer": "ipython3",
   "version": "3.10.7"
  },
  "orig_nbformat": 4
 },
 "nbformat": 4,
 "nbformat_minor": 2
}
